{
 "cells": [
  {
   "cell_type": "markdown",
   "metadata": {},
   "source": [
    "# EP1 - Modelo treinado"
   ]
  },
  {
   "cell_type": "markdown",
   "metadata": {},
   "source": [
    "Felipe\n",
    "Nilton"
   ]
  },
  {
   "cell_type": "markdown",
   "metadata": {},
   "source": [
    "## Descricao"
   ]
  },
  {
   "cell_type": "code",
   "execution_count": 20,
   "metadata": {},
   "outputs": [
    {
     "name": "stdout",
     "output_type": "stream",
     "text": [
      "Requirement already satisfied: pandas in /home/chocomenta/anaconda3/lib/python3.11/site-packages (from -r requirements.txt (line 1)) (2.1.1)\n",
      "Requirement already satisfied: numpy in /home/chocomenta/anaconda3/lib/python3.11/site-packages (from -r requirements.txt (line 2)) (1.25.2)\n",
      "Requirement already satisfied: nltk in /home/chocomenta/anaconda3/lib/python3.11/site-packages (from -r requirements.txt (line 3)) (3.8.1)\n",
      "Requirement already satisfied: spacy in /home/chocomenta/anaconda3/lib/python3.11/site-packages (from -r requirements.txt (line 4)) (3.7.2)\n",
      "Requirement already satisfied: scikit-learn in /home/chocomenta/anaconda3/lib/python3.11/site-packages (from -r requirements.txt (line 5)) (1.2.2)\n",
      "Requirement already satisfied: python-dateutil>=2.8.2 in /home/chocomenta/anaconda3/lib/python3.11/site-packages (from pandas->-r requirements.txt (line 1)) (2.8.2)\n",
      "Requirement already satisfied: pytz>=2020.1 in /home/chocomenta/anaconda3/lib/python3.11/site-packages (from pandas->-r requirements.txt (line 1)) (2023.3.post1)\n",
      "Requirement already satisfied: tzdata>=2022.1 in /home/chocomenta/anaconda3/lib/python3.11/site-packages (from pandas->-r requirements.txt (line 1)) (2023.3)\n",
      "Requirement already satisfied: click in /home/chocomenta/anaconda3/lib/python3.11/site-packages (from nltk->-r requirements.txt (line 3)) (8.0.4)\n",
      "Requirement already satisfied: joblib in /home/chocomenta/anaconda3/lib/python3.11/site-packages (from nltk->-r requirements.txt (line 3)) (1.2.0)\n",
      "Requirement already satisfied: regex>=2021.8.3 in /home/chocomenta/anaconda3/lib/python3.11/site-packages (from nltk->-r requirements.txt (line 3)) (2023.10.3)\n",
      "Requirement already satisfied: tqdm in /home/chocomenta/anaconda3/lib/python3.11/site-packages (from nltk->-r requirements.txt (line 3)) (4.65.0)\n",
      "Requirement already satisfied: spacy-legacy<3.1.0,>=3.0.11 in /home/chocomenta/anaconda3/lib/python3.11/site-packages (from spacy->-r requirements.txt (line 4)) (3.0.12)\n",
      "Requirement already satisfied: spacy-loggers<2.0.0,>=1.0.0 in /home/chocomenta/anaconda3/lib/python3.11/site-packages (from spacy->-r requirements.txt (line 4)) (1.0.5)\n",
      "Requirement already satisfied: murmurhash<1.1.0,>=0.28.0 in /home/chocomenta/anaconda3/lib/python3.11/site-packages (from spacy->-r requirements.txt (line 4)) (1.0.10)\n",
      "Requirement already satisfied: cymem<2.1.0,>=2.0.2 in /home/chocomenta/anaconda3/lib/python3.11/site-packages (from spacy->-r requirements.txt (line 4)) (2.0.8)\n",
      "Requirement already satisfied: preshed<3.1.0,>=3.0.2 in /home/chocomenta/anaconda3/lib/python3.11/site-packages (from spacy->-r requirements.txt (line 4)) (3.0.9)\n",
      "Requirement already satisfied: thinc<8.3.0,>=8.1.8 in /home/chocomenta/anaconda3/lib/python3.11/site-packages (from spacy->-r requirements.txt (line 4)) (8.2.1)\n",
      "Requirement already satisfied: wasabi<1.2.0,>=0.9.1 in /home/chocomenta/anaconda3/lib/python3.11/site-packages (from spacy->-r requirements.txt (line 4)) (1.1.2)\n",
      "Requirement already satisfied: srsly<3.0.0,>=2.4.3 in /home/chocomenta/anaconda3/lib/python3.11/site-packages (from spacy->-r requirements.txt (line 4)) (2.4.8)\n",
      "Requirement already satisfied: catalogue<2.1.0,>=2.0.6 in /home/chocomenta/anaconda3/lib/python3.11/site-packages (from spacy->-r requirements.txt (line 4)) (2.0.10)\n",
      "Requirement already satisfied: weasel<0.4.0,>=0.1.0 in /home/chocomenta/anaconda3/lib/python3.11/site-packages (from spacy->-r requirements.txt (line 4)) (0.3.3)\n",
      "Requirement already satisfied: typer<0.10.0,>=0.3.0 in /home/chocomenta/anaconda3/lib/python3.11/site-packages (from spacy->-r requirements.txt (line 4)) (0.9.0)\n",
      "Requirement already satisfied: smart-open<7.0.0,>=5.2.1 in /home/chocomenta/anaconda3/lib/python3.11/site-packages (from spacy->-r requirements.txt (line 4)) (5.2.1)\n",
      "Requirement already satisfied: requests<3.0.0,>=2.13.0 in /home/chocomenta/anaconda3/lib/python3.11/site-packages (from spacy->-r requirements.txt (line 4)) (2.31.0)\n",
      "Requirement already satisfied: pydantic!=1.8,!=1.8.1,<3.0.0,>=1.7.4 in /home/chocomenta/anaconda3/lib/python3.11/site-packages (from spacy->-r requirements.txt (line 4)) (1.10.12)\n",
      "Requirement already satisfied: jinja2 in /home/chocomenta/anaconda3/lib/python3.11/site-packages (from spacy->-r requirements.txt (line 4)) (3.1.2)\n",
      "Requirement already satisfied: setuptools in /home/chocomenta/anaconda3/lib/python3.11/site-packages (from spacy->-r requirements.txt (line 4)) (68.0.0)\n",
      "Requirement already satisfied: packaging>=20.0 in /home/chocomenta/anaconda3/lib/python3.11/site-packages (from spacy->-r requirements.txt (line 4)) (23.1)\n",
      "Requirement already satisfied: langcodes<4.0.0,>=3.2.0 in /home/chocomenta/anaconda3/lib/python3.11/site-packages (from spacy->-r requirements.txt (line 4)) (3.3.0)\n",
      "Requirement already satisfied: scipy>=1.3.2 in /home/chocomenta/anaconda3/lib/python3.11/site-packages (from scikit-learn->-r requirements.txt (line 5)) (1.11.3)\n",
      "Requirement already satisfied: threadpoolctl>=2.0.0 in /home/chocomenta/anaconda3/lib/python3.11/site-packages (from scikit-learn->-r requirements.txt (line 5)) (2.2.0)\n",
      "Requirement already satisfied: typing-extensions>=4.2.0 in /home/chocomenta/anaconda3/lib/python3.11/site-packages (from pydantic!=1.8,!=1.8.1,<3.0.0,>=1.7.4->spacy->-r requirements.txt (line 4)) (4.7.1)\n",
      "Requirement already satisfied: six>=1.5 in /home/chocomenta/anaconda3/lib/python3.11/site-packages (from python-dateutil>=2.8.2->pandas->-r requirements.txt (line 1)) (1.16.0)\n",
      "Requirement already satisfied: charset-normalizer<4,>=2 in /home/chocomenta/anaconda3/lib/python3.11/site-packages (from requests<3.0.0,>=2.13.0->spacy->-r requirements.txt (line 4)) (2.0.4)\n",
      "Requirement already satisfied: idna<4,>=2.5 in /home/chocomenta/anaconda3/lib/python3.11/site-packages (from requests<3.0.0,>=2.13.0->spacy->-r requirements.txt (line 4)) (3.4)\n",
      "Requirement already satisfied: urllib3<3,>=1.21.1 in /home/chocomenta/anaconda3/lib/python3.11/site-packages (from requests<3.0.0,>=2.13.0->spacy->-r requirements.txt (line 4)) (1.26.16)\n",
      "Requirement already satisfied: certifi>=2017.4.17 in /home/chocomenta/anaconda3/lib/python3.11/site-packages (from requests<3.0.0,>=2.13.0->spacy->-r requirements.txt (line 4)) (2023.7.22)\n",
      "Requirement already satisfied: blis<0.8.0,>=0.7.8 in /home/chocomenta/anaconda3/lib/python3.11/site-packages (from thinc<8.3.0,>=8.1.8->spacy->-r requirements.txt (line 4)) (0.7.11)\n",
      "Requirement already satisfied: confection<1.0.0,>=0.0.1 in /home/chocomenta/anaconda3/lib/python3.11/site-packages (from thinc<8.3.0,>=8.1.8->spacy->-r requirements.txt (line 4)) (0.1.3)\n",
      "Requirement already satisfied: cloudpathlib<0.17.0,>=0.7.0 in /home/chocomenta/anaconda3/lib/python3.11/site-packages (from weasel<0.4.0,>=0.1.0->spacy->-r requirements.txt (line 4)) (0.16.0)\n",
      "Requirement already satisfied: MarkupSafe>=2.0 in /home/chocomenta/anaconda3/lib/python3.11/site-packages (from jinja2->spacy->-r requirements.txt (line 4)) (2.1.1)\n"
     ]
    }
   ],
   "source": [
    "#!pip install -r requirements.txt\n",
    "import pandas as pd\n",
    "import numpy as np"
   ]
  },
  {
   "cell_type": "code",
   "execution_count": 21,
   "metadata": {},
   "outputs": [],
   "source": [
    "np.random.seed(777)"
   ]
  },
  {
   "cell_type": "code",
   "execution_count": 22,
   "metadata": {},
   "outputs": [
    {
     "data": {
      "text/html": [
       "<div>\n",
       "<style scoped>\n",
       "    .dataframe tbody tr th:only-of-type {\n",
       "        vertical-align: middle;\n",
       "    }\n",
       "\n",
       "    .dataframe tbody tr th {\n",
       "        vertical-align: top;\n",
       "    }\n",
       "\n",
       "    .dataframe thead th {\n",
       "        text-align: right;\n",
       "    }\n",
       "</style>\n",
       "<table border=\"1\" class=\"dataframe\">\n",
       "  <thead>\n",
       "    <tr style=\"text-align: right;\">\n",
       "      <th></th>\n",
       "      <th>resp_text</th>\n",
       "      <th>clarity</th>\n",
       "    </tr>\n",
       "  </thead>\n",
       "  <tbody>\n",
       "    <tr>\n",
       "      <th>0</th>\n",
       "      <td>Prezado Sr Jose Taunai  Em atenção ao seu pe...</td>\n",
       "      <td>c5</td>\n",
       "    </tr>\n",
       "    <tr>\n",
       "      <th>1</th>\n",
       "      <td>\"A pedido do Pró-Reitor de Graduação, informa...</td>\n",
       "      <td>c5</td>\n",
       "    </tr>\n",
       "    <tr>\n",
       "      <th>2</th>\n",
       "      <td>\"Prezado (a) Sr. (a), Agradecemos o contato e...</td>\n",
       "      <td>c234</td>\n",
       "    </tr>\n",
       "    <tr>\n",
       "      <th>3</th>\n",
       "      <td>\"Prezado (a) Sr. (a), Agradecemos o contato e...</td>\n",
       "      <td>c234</td>\n",
       "    </tr>\n",
       "    <tr>\n",
       "      <th>4</th>\n",
       "      <td>\"Prezado Prof. Gilberto Tadeu Reis da Silva  ...</td>\n",
       "      <td>c234</td>\n",
       "    </tr>\n",
       "  </tbody>\n",
       "</table>\n",
       "</div>"
      ],
      "text/plain": [
       "                                           resp_text clarity\n",
       "0    Prezado Sr Jose Taunai  Em atenção ao seu pe...      c5\n",
       "1   \"A pedido do Pró-Reitor de Graduação, informa...      c5\n",
       "2   \"Prezado (a) Sr. (a), Agradecemos o contato e...    c234\n",
       "3   \"Prezado (a) Sr. (a), Agradecemos o contato e...    c234\n",
       "4   \"Prezado Prof. Gilberto Tadeu Reis da Silva  ...    c234"
      ]
     },
     "execution_count": 22,
     "metadata": {},
     "output_type": "execute_result"
    }
   ],
   "source": [
    "df = pd.read_excel('ep1_esic2023_clareza_TRAIN.xlsx')\n",
    "df.head()"
   ]
  },
  {
   "cell_type": "code",
   "execution_count": 23,
   "metadata": {},
   "outputs": [
    {
     "name": "stdout",
     "output_type": "stream",
     "text": [
      "<class 'pandas.core.frame.DataFrame'>\n",
      "RangeIndex: 6000 entries, 0 to 5999\n",
      "Data columns (total 2 columns):\n",
      " #   Column     Non-Null Count  Dtype \n",
      "---  ------     --------------  ----- \n",
      " 0   resp_text  6000 non-null   object\n",
      " 1   clarity    6000 non-null   object\n",
      "dtypes: object(2)\n",
      "memory usage: 93.9+ KB\n"
     ]
    }
   ],
   "source": [
    "df.info()"
   ]
  },
  {
   "cell_type": "code",
   "execution_count": 24,
   "metadata": {},
   "outputs": [
    {
     "data": {
      "text/html": [
       "<div>\n",
       "<style scoped>\n",
       "    .dataframe tbody tr th:only-of-type {\n",
       "        vertical-align: middle;\n",
       "    }\n",
       "\n",
       "    .dataframe tbody tr th {\n",
       "        vertical-align: top;\n",
       "    }\n",
       "\n",
       "    .dataframe thead th {\n",
       "        text-align: right;\n",
       "    }\n",
       "</style>\n",
       "<table border=\"1\" class=\"dataframe\">\n",
       "  <thead>\n",
       "    <tr style=\"text-align: right;\">\n",
       "      <th></th>\n",
       "      <th>resp_text</th>\n",
       "      <th>clarity</th>\n",
       "    </tr>\n",
       "  </thead>\n",
       "  <tbody>\n",
       "    <tr>\n",
       "      <th>count</th>\n",
       "      <td>6000</td>\n",
       "      <td>6000</td>\n",
       "    </tr>\n",
       "    <tr>\n",
       "      <th>unique</th>\n",
       "      <td>5626</td>\n",
       "      <td>3</td>\n",
       "    </tr>\n",
       "    <tr>\n",
       "      <th>top</th>\n",
       "      <td>Prezado(a) Senhor(a),  Sua manifestação foi a...</td>\n",
       "      <td>c5</td>\n",
       "    </tr>\n",
       "    <tr>\n",
       "      <th>freq</th>\n",
       "      <td>41</td>\n",
       "      <td>2000</td>\n",
       "    </tr>\n",
       "  </tbody>\n",
       "</table>\n",
       "</div>"
      ],
      "text/plain": [
       "                                                resp_text clarity\n",
       "count                                                6000    6000\n",
       "unique                                               5626       3\n",
       "top      Prezado(a) Senhor(a),  Sua manifestação foi a...      c5\n",
       "freq                                                   41    2000"
      ]
     },
     "execution_count": 24,
     "metadata": {},
     "output_type": "execute_result"
    }
   ],
   "source": [
    "df.describe()"
   ]
  },
  {
   "cell_type": "code",
   "execution_count": 25,
   "metadata": {},
   "outputs": [
    {
     "data": {
      "text/html": [
       "<div>\n",
       "<style scoped>\n",
       "    .dataframe tbody tr th:only-of-type {\n",
       "        vertical-align: middle;\n",
       "    }\n",
       "\n",
       "    .dataframe tbody tr th {\n",
       "        vertical-align: top;\n",
       "    }\n",
       "\n",
       "    .dataframe thead tr th {\n",
       "        text-align: left;\n",
       "    }\n",
       "\n",
       "    .dataframe thead tr:last-of-type th {\n",
       "        text-align: right;\n",
       "    }\n",
       "</style>\n",
       "<table border=\"1\" class=\"dataframe\">\n",
       "  <thead>\n",
       "    <tr>\n",
       "      <th></th>\n",
       "      <th colspan=\"4\" halign=\"left\">resp_text</th>\n",
       "    </tr>\n",
       "    <tr>\n",
       "      <th></th>\n",
       "      <th>count</th>\n",
       "      <th>unique</th>\n",
       "      <th>top</th>\n",
       "      <th>freq</th>\n",
       "    </tr>\n",
       "    <tr>\n",
       "      <th>clarity</th>\n",
       "      <th></th>\n",
       "      <th></th>\n",
       "      <th></th>\n",
       "      <th></th>\n",
       "    </tr>\n",
       "  </thead>\n",
       "  <tbody>\n",
       "    <tr>\n",
       "      <th>c1</th>\n",
       "      <td>2000</td>\n",
       "      <td>1839</td>\n",
       "      <td>Prezado(a) Senhor(a),  Sua manifestação foi a...</td>\n",
       "      <td>24</td>\n",
       "    </tr>\n",
       "    <tr>\n",
       "      <th>c234</th>\n",
       "      <td>2000</td>\n",
       "      <td>1929</td>\n",
       "      <td>Prezado(a) Senhor(a),  Sua manifestação foi a...</td>\n",
       "      <td>17</td>\n",
       "    </tr>\n",
       "    <tr>\n",
       "      <th>c5</th>\n",
       "      <td>2000</td>\n",
       "      <td>1911</td>\n",
       "      <td>Prezado (a) Senhor (a)     1. Em atenção ao p...</td>\n",
       "      <td>8</td>\n",
       "    </tr>\n",
       "  </tbody>\n",
       "</table>\n",
       "</div>"
      ],
      "text/plain": [
       "        resp_text                                                            \\\n",
       "            count unique                                                top   \n",
       "clarity                                                                       \n",
       "c1           2000   1839   Prezado(a) Senhor(a),  Sua manifestação foi a...   \n",
       "c234         2000   1929   Prezado(a) Senhor(a),  Sua manifestação foi a...   \n",
       "c5           2000   1911   Prezado (a) Senhor (a)     1. Em atenção ao p...   \n",
       "\n",
       "              \n",
       "        freq  \n",
       "clarity       \n",
       "c1        24  \n",
       "c234      17  \n",
       "c5         8  "
      ]
     },
     "execution_count": 25,
     "metadata": {},
     "output_type": "execute_result"
    }
   ],
   "source": [
    "df.groupby('clarity').describe()"
   ]
  },
  {
   "cell_type": "markdown",
   "metadata": {},
   "source": [
    "## Pre-processing"
   ]
  },
  {
   "cell_type": "markdown",
   "metadata": {},
   "source": [
    "### I. Cleaning"
   ]
  },
  {
   "cell_type": "code",
   "execution_count": 26,
   "metadata": {},
   "outputs": [],
   "source": [
    "import string"
   ]
  },
  {
   "cell_type": "code",
   "execution_count": 27,
   "metadata": {},
   "outputs": [],
   "source": [
    "texts = df['resp_text']\n",
    "texts = texts.str.lower()\n",
    "texts = texts.str.translate(str.maketrans('', '', string.punctuation))\n",
    "#texts = texts.str.replace('[\\d+]', '') #remove numeros\n",
    "\n",
    "df['tokens'] = texts"
   ]
  },
  {
   "cell_type": "markdown",
   "metadata": {},
   "source": [
    "### II. Tokenize"
   ]
  },
  {
   "cell_type": "code",
   "execution_count": 28,
   "metadata": {},
   "outputs": [],
   "source": [
    "from nltk.tokenize import word_tokenize"
   ]
  },
  {
   "cell_type": "code",
   "execution_count": 29,
   "metadata": {},
   "outputs": [
    {
     "data": {
      "text/html": [
       "<div>\n",
       "<style scoped>\n",
       "    .dataframe tbody tr th:only-of-type {\n",
       "        vertical-align: middle;\n",
       "    }\n",
       "\n",
       "    .dataframe tbody tr th {\n",
       "        vertical-align: top;\n",
       "    }\n",
       "\n",
       "    .dataframe thead th {\n",
       "        text-align: right;\n",
       "    }\n",
       "</style>\n",
       "<table border=\"1\" class=\"dataframe\">\n",
       "  <thead>\n",
       "    <tr style=\"text-align: right;\">\n",
       "      <th></th>\n",
       "      <th>resp_text</th>\n",
       "      <th>clarity</th>\n",
       "      <th>tokens</th>\n",
       "    </tr>\n",
       "  </thead>\n",
       "  <tbody>\n",
       "    <tr>\n",
       "      <th>0</th>\n",
       "      <td>Prezado Sr Jose Taunai  Em atenção ao seu pe...</td>\n",
       "      <td>c5</td>\n",
       "      <td>[prezado, sr, jose, taunai, em, atenção, ao, s...</td>\n",
       "    </tr>\n",
       "    <tr>\n",
       "      <th>1</th>\n",
       "      <td>\"A pedido do Pró-Reitor de Graduação, informa...</td>\n",
       "      <td>c5</td>\n",
       "      <td>[a, pedido, do, próreitor, de, graduação, info...</td>\n",
       "    </tr>\n",
       "    <tr>\n",
       "      <th>2</th>\n",
       "      <td>\"Prezado (a) Sr. (a), Agradecemos o contato e...</td>\n",
       "      <td>c234</td>\n",
       "      <td>[prezado, a, sr, a, agradecemos, o, contato, e...</td>\n",
       "    </tr>\n",
       "    <tr>\n",
       "      <th>3</th>\n",
       "      <td>\"Prezado (a) Sr. (a), Agradecemos o contato e...</td>\n",
       "      <td>c234</td>\n",
       "      <td>[prezado, a, sr, a, agradecemos, o, contato, e...</td>\n",
       "    </tr>\n",
       "    <tr>\n",
       "      <th>4</th>\n",
       "      <td>\"Prezado Prof. Gilberto Tadeu Reis da Silva  ...</td>\n",
       "      <td>c234</td>\n",
       "      <td>[prezado, prof, gilberto, tadeu, reis, da, sil...</td>\n",
       "    </tr>\n",
       "    <tr>\n",
       "      <th>5</th>\n",
       "      <td>\"Prezado Sr. Luis Cesar Lopes Zeredo,   Em at...</td>\n",
       "      <td>c1</td>\n",
       "      <td>[prezado, sr, luis, cesar, lopes, zeredo, em, ...</td>\n",
       "    </tr>\n",
       "    <tr>\n",
       "      <th>6</th>\n",
       "      <td>\"Prezado Sr. Wellington de Almeida  Em atendi...</td>\n",
       "      <td>c234</td>\n",
       "      <td>[prezado, sr, wellington, de, almeida, em, ate...</td>\n",
       "    </tr>\n",
       "    <tr>\n",
       "      <th>7</th>\n",
       "      <td>\"Prezado(a) Sr.(a),  Agradecemos o contato e ...</td>\n",
       "      <td>c1</td>\n",
       "      <td>[prezadoa, sra, agradecemos, o, contato, e, in...</td>\n",
       "    </tr>\n",
       "    <tr>\n",
       "      <th>8</th>\n",
       "      <td>\"Prezado(a),    Em atenção ao seu pedido,  en...</td>\n",
       "      <td>c5</td>\n",
       "      <td>[prezadoa, em, atenção, ao, seu, pedido, encam...</td>\n",
       "    </tr>\n",
       "    <tr>\n",
       "      <th>9</th>\n",
       "      <td>\"Prezado(a),    Em atenção ao seu pedido,  en...</td>\n",
       "      <td>c5</td>\n",
       "      <td>[prezadoa, em, atenção, ao, seu, pedido, encam...</td>\n",
       "    </tr>\n",
       "  </tbody>\n",
       "</table>\n",
       "</div>"
      ],
      "text/plain": [
       "                                           resp_text clarity  \\\n",
       "0    Prezado Sr Jose Taunai  Em atenção ao seu pe...      c5   \n",
       "1   \"A pedido do Pró-Reitor de Graduação, informa...      c5   \n",
       "2   \"Prezado (a) Sr. (a), Agradecemos o contato e...    c234   \n",
       "3   \"Prezado (a) Sr. (a), Agradecemos o contato e...    c234   \n",
       "4   \"Prezado Prof. Gilberto Tadeu Reis da Silva  ...    c234   \n",
       "5   \"Prezado Sr. Luis Cesar Lopes Zeredo,   Em at...      c1   \n",
       "6   \"Prezado Sr. Wellington de Almeida  Em atendi...    c234   \n",
       "7   \"Prezado(a) Sr.(a),  Agradecemos o contato e ...      c1   \n",
       "8   \"Prezado(a),    Em atenção ao seu pedido,  en...      c5   \n",
       "9   \"Prezado(a),    Em atenção ao seu pedido,  en...      c5   \n",
       "\n",
       "                                              tokens  \n",
       "0  [prezado, sr, jose, taunai, em, atenção, ao, s...  \n",
       "1  [a, pedido, do, próreitor, de, graduação, info...  \n",
       "2  [prezado, a, sr, a, agradecemos, o, contato, e...  \n",
       "3  [prezado, a, sr, a, agradecemos, o, contato, e...  \n",
       "4  [prezado, prof, gilberto, tadeu, reis, da, sil...  \n",
       "5  [prezado, sr, luis, cesar, lopes, zeredo, em, ...  \n",
       "6  [prezado, sr, wellington, de, almeida, em, ate...  \n",
       "7  [prezadoa, sra, agradecemos, o, contato, e, in...  \n",
       "8  [prezadoa, em, atenção, ao, seu, pedido, encam...  \n",
       "9  [prezadoa, em, atenção, ao, seu, pedido, encam...  "
      ]
     },
     "execution_count": 29,
     "metadata": {},
     "output_type": "execute_result"
    }
   ],
   "source": [
    "df['tokens'] = [word_tokenize(resp) for resp in df['tokens']]\n",
    "df.head(10)"
   ]
  },
  {
   "cell_type": "markdown",
   "metadata": {},
   "source": [
    "### III. Lemma"
   ]
  },
  {
   "cell_type": "code",
   "execution_count": 30,
   "metadata": {},
   "outputs": [],
   "source": [
    "import spacy\n",
    "import os"
   ]
  },
  {
   "cell_type": "code",
   "execution_count": 31,
   "metadata": {},
   "outputs": [],
   "source": [
    "try:\n",
    "    nlp = spacy.load(\"pt_core_news_sm\")\n",
    "except Exception:\n",
    "    os.system(\"python -m spacy download pt_core_news_sm\")\n",
    "    nlp = spacy.load(\"pt_core_news_sm\")"
   ]
  },
  {
   "cell_type": "code",
   "execution_count": 39,
   "metadata": {},
   "outputs": [],
   "source": [
    "filtered = []\n",
    "for sent in df['tokens']:\n",
    "    sent = str(sent)\n",
    "    doc = nlp(sent)\n",
    "    temp = [token.lemma_ for token in doc if not token.is_punct]\n",
    "    temp = \" \".join(temp)\n",
    "    filtered.append(temp)"
   ]
  },
  {
   "cell_type": "code",
   "execution_count": 47,
   "metadata": {},
   "outputs": [
    {
     "data": {
      "text/html": [
       "<div>\n",
       "<style scoped>\n",
       "    .dataframe tbody tr th:only-of-type {\n",
       "        vertical-align: middle;\n",
       "    }\n",
       "\n",
       "    .dataframe tbody tr th {\n",
       "        vertical-align: top;\n",
       "    }\n",
       "\n",
       "    .dataframe thead th {\n",
       "        text-align: right;\n",
       "    }\n",
       "</style>\n",
       "<table border=\"1\" class=\"dataframe\">\n",
       "  <thead>\n",
       "    <tr style=\"text-align: right;\">\n",
       "      <th></th>\n",
       "      <th>resp_text</th>\n",
       "      <th>clarity</th>\n",
       "      <th>tokens</th>\n",
       "      <th>lemma</th>\n",
       "      <th>ngrams</th>\n",
       "    </tr>\n",
       "  </thead>\n",
       "  <tbody>\n",
       "    <tr>\n",
       "      <th>0</th>\n",
       "      <td>Prezado Sr Jose Taunai  Em atenção ao seu pe...</td>\n",
       "      <td>c5</td>\n",
       "      <td>[prezado, sr, jose, taunai, em, atenção, ao, s...</td>\n",
       "      <td>prezar sr jose taunai em atenção a o seu pedir...</td>\n",
       "      <td>prezar sr jose taunai em atenção a o seu pedir...</td>\n",
       "    </tr>\n",
       "    <tr>\n",
       "      <th>1</th>\n",
       "      <td>\"A pedido do Pró-Reitor de Graduação, informa...</td>\n",
       "      <td>c5</td>\n",
       "      <td>[a, pedido, do, próreitor, de, graduação, info...</td>\n",
       "      <td>o pedir de o próreitor de graduação informamo ...</td>\n",
       "      <td>o pedir de o próreitor de graduação informamo ...</td>\n",
       "    </tr>\n",
       "    <tr>\n",
       "      <th>2</th>\n",
       "      <td>\"Prezado (a) Sr. (a), Agradecemos o contato e...</td>\n",
       "      <td>c234</td>\n",
       "      <td>[prezado, a, sr, a, agradecemos, o, contato, e...</td>\n",
       "      <td>prezar o sr o agradecer o contato e informamo ...</td>\n",
       "      <td>prezar o sr o agradecer o contato e informamo ...</td>\n",
       "    </tr>\n",
       "    <tr>\n",
       "      <th>3</th>\n",
       "      <td>\"Prezado (a) Sr. (a), Agradecemos o contato e...</td>\n",
       "      <td>c234</td>\n",
       "      <td>[prezado, a, sr, a, agradecemos, o, contato, e...</td>\n",
       "      <td>prezar o sr o agradecer o contato e informamo ...</td>\n",
       "      <td>prezar o sr o agradecer o contato e informamo ...</td>\n",
       "    </tr>\n",
       "    <tr>\n",
       "      <th>4</th>\n",
       "      <td>\"Prezado Prof. Gilberto Tadeu Reis da Silva  ...</td>\n",
       "      <td>c234</td>\n",
       "      <td>[prezado, prof, gilberto, tadeu, reis, da, sil...</td>\n",
       "      <td>prezar prof gilberto tader rei de o Silva em a...</td>\n",
       "      <td>prezar prof gilberto tader rei de o Silva em a...</td>\n",
       "    </tr>\n",
       "  </tbody>\n",
       "</table>\n",
       "</div>"
      ],
      "text/plain": [
       "                                           resp_text clarity  \\\n",
       "0    Prezado Sr Jose Taunai  Em atenção ao seu pe...      c5   \n",
       "1   \"A pedido do Pró-Reitor de Graduação, informa...      c5   \n",
       "2   \"Prezado (a) Sr. (a), Agradecemos o contato e...    c234   \n",
       "3   \"Prezado (a) Sr. (a), Agradecemos o contato e...    c234   \n",
       "4   \"Prezado Prof. Gilberto Tadeu Reis da Silva  ...    c234   \n",
       "\n",
       "                                              tokens  \\\n",
       "0  [prezado, sr, jose, taunai, em, atenção, ao, s...   \n",
       "1  [a, pedido, do, próreitor, de, graduação, info...   \n",
       "2  [prezado, a, sr, a, agradecemos, o, contato, e...   \n",
       "3  [prezado, a, sr, a, agradecemos, o, contato, e...   \n",
       "4  [prezado, prof, gilberto, tadeu, reis, da, sil...   \n",
       "\n",
       "                                               lemma  \\\n",
       "0  prezar sr jose taunai em atenção a o seu pedir...   \n",
       "1  o pedir de o próreitor de graduação informamo ...   \n",
       "2  prezar o sr o agradecer o contato e informamo ...   \n",
       "3  prezar o sr o agradecer o contato e informamo ...   \n",
       "4  prezar prof gilberto tader rei de o Silva em a...   \n",
       "\n",
       "                                              ngrams  \n",
       "0  prezar sr jose taunai em atenção a o seu pedir...  \n",
       "1  o pedir de o próreitor de graduação informamo ...  \n",
       "2  prezar o sr o agradecer o contato e informamo ...  \n",
       "3  prezar o sr o agradecer o contato e informamo ...  \n",
       "4  prezar prof gilberto tader rei de o Silva em a...  "
      ]
     },
     "execution_count": 47,
     "metadata": {},
     "output_type": "execute_result"
    }
   ],
   "source": [
    "df['lemma'] = filtered\n",
    "df.head()"
   ]
  },
  {
   "cell_type": "code",
   "execution_count": 48,
   "metadata": {},
   "outputs": [],
   "source": [
    "df.to_csv('./DfCleaned.csv')"
   ]
  },
  {
   "cell_type": "markdown",
   "metadata": {},
   "source": [
    "### IV N-gram"
   ]
  },
  {
   "cell_type": "code",
   "execution_count": 44,
   "metadata": {},
   "outputs": [],
   "source": [
    "import nltk\n",
    "from nltk.util import ngrams"
   ]
  },
  {
   "cell_type": "code",
   "execution_count": 62,
   "metadata": {},
   "outputs": [],
   "source": [
    "temp = []\n",
    "for txt in df['ngrams']:    \n",
    "    txt = ngrams(sequence=nltk.word_tokenize(txt), n=3)\n",
    "    temp.append(txt)\n",
    "    "
   ]
  },
  {
   "cell_type": "code",
   "execution_count": 64,
   "metadata": {},
   "outputs": [
    {
     "data": {
      "text/html": [
       "<div>\n",
       "<style scoped>\n",
       "    .dataframe tbody tr th:only-of-type {\n",
       "        vertical-align: middle;\n",
       "    }\n",
       "\n",
       "    .dataframe tbody tr th {\n",
       "        vertical-align: top;\n",
       "    }\n",
       "\n",
       "    .dataframe thead th {\n",
       "        text-align: right;\n",
       "    }\n",
       "</style>\n",
       "<table border=\"1\" class=\"dataframe\">\n",
       "  <thead>\n",
       "    <tr style=\"text-align: right;\">\n",
       "      <th></th>\n",
       "      <th>resp_text</th>\n",
       "      <th>clarity</th>\n",
       "      <th>tokens</th>\n",
       "      <th>lemma</th>\n",
       "      <th>ngrams</th>\n",
       "    </tr>\n",
       "  </thead>\n",
       "  <tbody>\n",
       "    <tr>\n",
       "      <th>0</th>\n",
       "      <td>Prezado Sr Jose Taunai  Em atenção ao seu pe...</td>\n",
       "      <td>c5</td>\n",
       "      <td>[prezado, sr, jose, taunai, em, atenção, ao, s...</td>\n",
       "      <td>prezar sr jose taunai em atenção a o seu pedir...</td>\n",
       "      <td>&lt;zip object at 0x7fe7d44c5dc0&gt;</td>\n",
       "    </tr>\n",
       "    <tr>\n",
       "      <th>1</th>\n",
       "      <td>\"A pedido do Pró-Reitor de Graduação, informa...</td>\n",
       "      <td>c5</td>\n",
       "      <td>[a, pedido, do, próreitor, de, graduação, info...</td>\n",
       "      <td>o pedir de o próreitor de graduação informamo ...</td>\n",
       "      <td>&lt;zip object at 0x7fe7d44c6ac0&gt;</td>\n",
       "    </tr>\n",
       "    <tr>\n",
       "      <th>2</th>\n",
       "      <td>\"Prezado (a) Sr. (a), Agradecemos o contato e...</td>\n",
       "      <td>c234</td>\n",
       "      <td>[prezado, a, sr, a, agradecemos, o, contato, e...</td>\n",
       "      <td>prezar o sr o agradecer o contato e informamo ...</td>\n",
       "      <td>&lt;zip object at 0x7fe7d4454580&gt;</td>\n",
       "    </tr>\n",
       "    <tr>\n",
       "      <th>3</th>\n",
       "      <td>\"Prezado (a) Sr. (a), Agradecemos o contato e...</td>\n",
       "      <td>c234</td>\n",
       "      <td>[prezado, a, sr, a, agradecemos, o, contato, e...</td>\n",
       "      <td>prezar o sr o agradecer o contato e informamo ...</td>\n",
       "      <td>&lt;zip object at 0x7fe7d4631a00&gt;</td>\n",
       "    </tr>\n",
       "    <tr>\n",
       "      <th>4</th>\n",
       "      <td>\"Prezado Prof. Gilberto Tadeu Reis da Silva  ...</td>\n",
       "      <td>c234</td>\n",
       "      <td>[prezado, prof, gilberto, tadeu, reis, da, sil...</td>\n",
       "      <td>prezar prof gilberto tader rei de o Silva em a...</td>\n",
       "      <td>&lt;zip object at 0x7fe7d44a7b40&gt;</td>\n",
       "    </tr>\n",
       "  </tbody>\n",
       "</table>\n",
       "</div>"
      ],
      "text/plain": [
       "                                           resp_text clarity  \\\n",
       "0    Prezado Sr Jose Taunai  Em atenção ao seu pe...      c5   \n",
       "1   \"A pedido do Pró-Reitor de Graduação, informa...      c5   \n",
       "2   \"Prezado (a) Sr. (a), Agradecemos o contato e...    c234   \n",
       "3   \"Prezado (a) Sr. (a), Agradecemos o contato e...    c234   \n",
       "4   \"Prezado Prof. Gilberto Tadeu Reis da Silva  ...    c234   \n",
       "\n",
       "                                              tokens  \\\n",
       "0  [prezado, sr, jose, taunai, em, atenção, ao, s...   \n",
       "1  [a, pedido, do, próreitor, de, graduação, info...   \n",
       "2  [prezado, a, sr, a, agradecemos, o, contato, e...   \n",
       "3  [prezado, a, sr, a, agradecemos, o, contato, e...   \n",
       "4  [prezado, prof, gilberto, tadeu, reis, da, sil...   \n",
       "\n",
       "                                               lemma  \\\n",
       "0  prezar sr jose taunai em atenção a o seu pedir...   \n",
       "1  o pedir de o próreitor de graduação informamo ...   \n",
       "2  prezar o sr o agradecer o contato e informamo ...   \n",
       "3  prezar o sr o agradecer o contato e informamo ...   \n",
       "4  prezar prof gilberto tader rei de o Silva em a...   \n",
       "\n",
       "                           ngrams  \n",
       "0  <zip object at 0x7fe7d44c5dc0>  \n",
       "1  <zip object at 0x7fe7d44c6ac0>  \n",
       "2  <zip object at 0x7fe7d4454580>  \n",
       "3  <zip object at 0x7fe7d4631a00>  \n",
       "4  <zip object at 0x7fe7d44a7b40>  "
      ]
     },
     "execution_count": 64,
     "metadata": {},
     "output_type": "execute_result"
    }
   ],
   "source": [
    "df['ngrams'] = temp\n",
    "df.head()"
   ]
  },
  {
   "cell_type": "code",
   "execution_count": 65,
   "metadata": {},
   "outputs": [],
   "source": [
    "df.to_csv('./DfNgrams.csv')"
   ]
  }
 ],
 "metadata": {
  "kernelspec": {
   "display_name": "base",
   "language": "python",
   "name": "python3"
  },
  "language_info": {
   "codemirror_mode": {
    "name": "ipython",
    "version": 3
   },
   "file_extension": ".py",
   "mimetype": "text/x-python",
   "name": "python",
   "nbconvert_exporter": "python",
   "pygments_lexer": "ipython3",
   "version": "3.11.5"
  }
 },
 "nbformat": 4,
 "nbformat_minor": 2
}
