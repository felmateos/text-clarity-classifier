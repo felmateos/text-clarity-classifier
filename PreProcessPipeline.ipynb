{
 "cells": [
  {
   "cell_type": "markdown",
   "metadata": {},
   "source": [
    "# EP1 - Modelo treinado"
   ]
  },
  {
   "cell_type": "markdown",
   "metadata": {},
   "source": [
    "Felipe\n",
    "Nilton"
   ]
  },
  {
   "cell_type": "markdown",
   "metadata": {},
   "source": [
    "## Descricao"
   ]
  },
  {
   "cell_type": "code",
   "execution_count": 1,
   "metadata": {},
   "outputs": [],
   "source": [
    "#!pip install -r requirements.txt\n",
    "import pandas as pd\n",
    "import numpy as np"
   ]
  },
  {
   "cell_type": "code",
   "execution_count": 2,
   "metadata": {},
   "outputs": [],
   "source": [
    "np.random.seed(777)"
   ]
  },
  {
   "cell_type": "code",
   "execution_count": 3,
   "metadata": {},
   "outputs": [
    {
     "data": {
      "text/html": [
       "<div>\n",
       "<style scoped>\n",
       "    .dataframe tbody tr th:only-of-type {\n",
       "        vertical-align: middle;\n",
       "    }\n",
       "\n",
       "    .dataframe tbody tr th {\n",
       "        vertical-align: top;\n",
       "    }\n",
       "\n",
       "    .dataframe thead th {\n",
       "        text-align: right;\n",
       "    }\n",
       "</style>\n",
       "<table border=\"1\" class=\"dataframe\">\n",
       "  <thead>\n",
       "    <tr style=\"text-align: right;\">\n",
       "      <th></th>\n",
       "      <th>resp_text</th>\n",
       "      <th>clarity</th>\n",
       "    </tr>\n",
       "  </thead>\n",
       "  <tbody>\n",
       "    <tr>\n",
       "      <th>0</th>\n",
       "      <td>Prezado Sr Jose Taunai  Em atenção ao seu pe...</td>\n",
       "      <td>c5</td>\n",
       "    </tr>\n",
       "    <tr>\n",
       "      <th>1</th>\n",
       "      <td>\"A pedido do Pró-Reitor de Graduação, informa...</td>\n",
       "      <td>c5</td>\n",
       "    </tr>\n",
       "    <tr>\n",
       "      <th>2</th>\n",
       "      <td>\"Prezado (a) Sr. (a), Agradecemos o contato e...</td>\n",
       "      <td>c234</td>\n",
       "    </tr>\n",
       "    <tr>\n",
       "      <th>3</th>\n",
       "      <td>\"Prezado (a) Sr. (a), Agradecemos o contato e...</td>\n",
       "      <td>c234</td>\n",
       "    </tr>\n",
       "    <tr>\n",
       "      <th>4</th>\n",
       "      <td>\"Prezado Prof. Gilberto Tadeu Reis da Silva  ...</td>\n",
       "      <td>c234</td>\n",
       "    </tr>\n",
       "  </tbody>\n",
       "</table>\n",
       "</div>"
      ],
      "text/plain": [
       "                                           resp_text clarity\n",
       "0    Prezado Sr Jose Taunai  Em atenção ao seu pe...      c5\n",
       "1   \"A pedido do Pró-Reitor de Graduação, informa...      c5\n",
       "2   \"Prezado (a) Sr. (a), Agradecemos o contato e...    c234\n",
       "3   \"Prezado (a) Sr. (a), Agradecemos o contato e...    c234\n",
       "4   \"Prezado Prof. Gilberto Tadeu Reis da Silva  ...    c234"
      ]
     },
     "execution_count": 3,
     "metadata": {},
     "output_type": "execute_result"
    }
   ],
   "source": [
    "df = pd.read_excel('datasets/ep1_esic2023_clareza_TRAIN.xlsx')\n",
    "df.head()"
   ]
  },
  {
   "cell_type": "code",
   "execution_count": 4,
   "metadata": {},
   "outputs": [
    {
     "name": "stdout",
     "output_type": "stream",
     "text": [
      "<class 'pandas.core.frame.DataFrame'>\n",
      "RangeIndex: 6000 entries, 0 to 5999\n",
      "Data columns (total 2 columns):\n",
      " #   Column     Non-Null Count  Dtype \n",
      "---  ------     --------------  ----- \n",
      " 0   resp_text  6000 non-null   object\n",
      " 1   clarity    6000 non-null   object\n",
      "dtypes: object(2)\n",
      "memory usage: 93.9+ KB\n"
     ]
    }
   ],
   "source": [
    "df.info()"
   ]
  },
  {
   "cell_type": "code",
   "execution_count": 5,
   "metadata": {},
   "outputs": [
    {
     "data": {
      "text/html": [
       "<div>\n",
       "<style scoped>\n",
       "    .dataframe tbody tr th:only-of-type {\n",
       "        vertical-align: middle;\n",
       "    }\n",
       "\n",
       "    .dataframe tbody tr th {\n",
       "        vertical-align: top;\n",
       "    }\n",
       "\n",
       "    .dataframe thead th {\n",
       "        text-align: right;\n",
       "    }\n",
       "</style>\n",
       "<table border=\"1\" class=\"dataframe\">\n",
       "  <thead>\n",
       "    <tr style=\"text-align: right;\">\n",
       "      <th></th>\n",
       "      <th>resp_text</th>\n",
       "      <th>clarity</th>\n",
       "    </tr>\n",
       "  </thead>\n",
       "  <tbody>\n",
       "    <tr>\n",
       "      <th>count</th>\n",
       "      <td>6000</td>\n",
       "      <td>6000</td>\n",
       "    </tr>\n",
       "    <tr>\n",
       "      <th>unique</th>\n",
       "      <td>5626</td>\n",
       "      <td>3</td>\n",
       "    </tr>\n",
       "    <tr>\n",
       "      <th>top</th>\n",
       "      <td>Prezado(a) Senhor(a),  Sua manifestação foi a...</td>\n",
       "      <td>c5</td>\n",
       "    </tr>\n",
       "    <tr>\n",
       "      <th>freq</th>\n",
       "      <td>41</td>\n",
       "      <td>2000</td>\n",
       "    </tr>\n",
       "  </tbody>\n",
       "</table>\n",
       "</div>"
      ],
      "text/plain": [
       "                                                resp_text clarity\n",
       "count                                                6000    6000\n",
       "unique                                               5626       3\n",
       "top      Prezado(a) Senhor(a),  Sua manifestação foi a...      c5\n",
       "freq                                                   41    2000"
      ]
     },
     "execution_count": 5,
     "metadata": {},
     "output_type": "execute_result"
    }
   ],
   "source": [
    "df.describe()"
   ]
  },
  {
   "cell_type": "code",
   "execution_count": 6,
   "metadata": {},
   "outputs": [
    {
     "data": {
      "text/html": [
       "<div>\n",
       "<style scoped>\n",
       "    .dataframe tbody tr th:only-of-type {\n",
       "        vertical-align: middle;\n",
       "    }\n",
       "\n",
       "    .dataframe tbody tr th {\n",
       "        vertical-align: top;\n",
       "    }\n",
       "\n",
       "    .dataframe thead tr th {\n",
       "        text-align: left;\n",
       "    }\n",
       "\n",
       "    .dataframe thead tr:last-of-type th {\n",
       "        text-align: right;\n",
       "    }\n",
       "</style>\n",
       "<table border=\"1\" class=\"dataframe\">\n",
       "  <thead>\n",
       "    <tr>\n",
       "      <th></th>\n",
       "      <th colspan=\"4\" halign=\"left\">resp_text</th>\n",
       "    </tr>\n",
       "    <tr>\n",
       "      <th></th>\n",
       "      <th>count</th>\n",
       "      <th>unique</th>\n",
       "      <th>top</th>\n",
       "      <th>freq</th>\n",
       "    </tr>\n",
       "    <tr>\n",
       "      <th>clarity</th>\n",
       "      <th></th>\n",
       "      <th></th>\n",
       "      <th></th>\n",
       "      <th></th>\n",
       "    </tr>\n",
       "  </thead>\n",
       "  <tbody>\n",
       "    <tr>\n",
       "      <th>c1</th>\n",
       "      <td>2000</td>\n",
       "      <td>1839</td>\n",
       "      <td>Prezado(a) Senhor(a),  Sua manifestação foi a...</td>\n",
       "      <td>24</td>\n",
       "    </tr>\n",
       "    <tr>\n",
       "      <th>c234</th>\n",
       "      <td>2000</td>\n",
       "      <td>1929</td>\n",
       "      <td>Prezado(a) Senhor(a),  Sua manifestação foi a...</td>\n",
       "      <td>17</td>\n",
       "    </tr>\n",
       "    <tr>\n",
       "      <th>c5</th>\n",
       "      <td>2000</td>\n",
       "      <td>1911</td>\n",
       "      <td>Prezado (a) Senhor (a)     1. Em atenção ao p...</td>\n",
       "      <td>8</td>\n",
       "    </tr>\n",
       "  </tbody>\n",
       "</table>\n",
       "</div>"
      ],
      "text/plain": [
       "        resp_text                                                            \\\n",
       "            count unique                                                top   \n",
       "clarity                                                                       \n",
       "c1           2000   1839   Prezado(a) Senhor(a),  Sua manifestação foi a...   \n",
       "c234         2000   1929   Prezado(a) Senhor(a),  Sua manifestação foi a...   \n",
       "c5           2000   1911   Prezado (a) Senhor (a)     1. Em atenção ao p...   \n",
       "\n",
       "              \n",
       "        freq  \n",
       "clarity       \n",
       "c1        24  \n",
       "c234      17  \n",
       "c5         8  "
      ]
     },
     "execution_count": 6,
     "metadata": {},
     "output_type": "execute_result"
    }
   ],
   "source": [
    "df.groupby('clarity').describe()"
   ]
  },
  {
   "cell_type": "markdown",
   "metadata": {},
   "source": [
    "## Pre-processing"
   ]
  },
  {
   "cell_type": "markdown",
   "metadata": {},
   "source": [
    "### Class encode"
   ]
  },
  {
   "cell_type": "code",
   "execution_count": 7,
   "metadata": {},
   "outputs": [
    {
     "data": {
      "text/plain": [
       "{'c1': 0, 'c234': 1, 'c5': 2}"
      ]
     },
     "execution_count": 7,
     "metadata": {},
     "output_type": "execute_result"
    }
   ],
   "source": [
    "l_unique = sorted(df['clarity'].unique())\n",
    "label_map = {x: i for i, x in enumerate(l_unique)} \n",
    "label_map"
   ]
  },
  {
   "cell_type": "code",
   "execution_count": 8,
   "metadata": {},
   "outputs": [],
   "source": [
    "df['Class'] = df['clarity'].map(label_map)"
   ]
  },
  {
   "cell_type": "markdown",
   "metadata": {},
   "source": [
    "### I. Cleaning"
   ]
  },
  {
   "cell_type": "code",
   "execution_count": 9,
   "metadata": {},
   "outputs": [],
   "source": [
    "import string"
   ]
  },
  {
   "cell_type": "code",
   "execution_count": 10,
   "metadata": {},
   "outputs": [
    {
     "data": {
      "text/html": [
       "<div>\n",
       "<style scoped>\n",
       "    .dataframe tbody tr th:only-of-type {\n",
       "        vertical-align: middle;\n",
       "    }\n",
       "\n",
       "    .dataframe tbody tr th {\n",
       "        vertical-align: top;\n",
       "    }\n",
       "\n",
       "    .dataframe thead th {\n",
       "        text-align: right;\n",
       "    }\n",
       "</style>\n",
       "<table border=\"1\" class=\"dataframe\">\n",
       "  <thead>\n",
       "    <tr style=\"text-align: right;\">\n",
       "      <th></th>\n",
       "      <th>resp_text</th>\n",
       "      <th>clarity</th>\n",
       "      <th>Class</th>\n",
       "    </tr>\n",
       "  </thead>\n",
       "  <tbody>\n",
       "    <tr>\n",
       "      <th>0</th>\n",
       "      <td>Prezada Senhora, Informa-se que o DNIT é uma ...</td>\n",
       "      <td>c1</td>\n",
       "      <td>0</td>\n",
       "    </tr>\n",
       "    <tr>\n",
       "      <th>1</th>\n",
       "      <td>Prezada,   Os dados se referem somente aos na...</td>\n",
       "      <td>c1</td>\n",
       "      <td>0</td>\n",
       "    </tr>\n",
       "    <tr>\n",
       "      <th>2</th>\n",
       "      <td>Prezado Usuário, Inicialmente agradecemos o s...</td>\n",
       "      <td>c1</td>\n",
       "      <td>0</td>\n",
       "    </tr>\n",
       "    <tr>\n",
       "      <th>3</th>\n",
       "      <td>Prezada,   Referimo-nos a sua demanda, regist...</td>\n",
       "      <td>c1</td>\n",
       "      <td>0</td>\n",
       "    </tr>\n",
       "    <tr>\n",
       "      <th>4</th>\n",
       "      <td>Prezada,   Segue anexa a resposta da área com...</td>\n",
       "      <td>c1</td>\n",
       "      <td>0</td>\n",
       "    </tr>\n",
       "  </tbody>\n",
       "</table>\n",
       "</div>"
      ],
      "text/plain": [
       "                                           resp_text clarity  Class\n",
       "0   Prezada Senhora, Informa-se que o DNIT é uma ...      c1      0\n",
       "1   Prezada,   Os dados se referem somente aos na...      c1      0\n",
       "2   Prezado Usuário, Inicialmente agradecemos o s...      c1      0\n",
       "3   Prezada,   Referimo-nos a sua demanda, regist...      c1      0\n",
       "4   Prezada,   Segue anexa a resposta da área com...      c1      0"
      ]
     },
     "execution_count": 10,
     "metadata": {},
     "output_type": "execute_result"
    }
   ],
   "source": [
    "df.sort_values(by='clarity', ascending=True, inplace=True, ignore_index=True)\n",
    "df.head()"
   ]
  },
  {
   "cell_type": "code",
   "execution_count": 11,
   "metadata": {},
   "outputs": [],
   "source": [
    "df['resp_text'].dropna(inplace=True)"
   ]
  },
  {
   "cell_type": "code",
   "execution_count": 12,
   "metadata": {},
   "outputs": [],
   "source": [
    "texts = df['resp_text']\n",
    "texts = texts.str.lower()\n",
    "texts = texts.str.translate(str.maketrans('', '', string.punctuation))\n",
    "#texts = texts.str.replace('[\\d+]', '') #remove numeros\n",
    "\n",
    "df['tokens'] = texts"
   ]
  },
  {
   "cell_type": "code",
   "execution_count": null,
   "metadata": {},
   "outputs": [],
   "source": []
  },
  {
   "cell_type": "markdown",
   "metadata": {},
   "source": [
    "### II. Tokenize"
   ]
  },
  {
   "cell_type": "code",
   "execution_count": 13,
   "metadata": {},
   "outputs": [],
   "source": [
    "from nltk.tokenize import word_tokenize"
   ]
  },
  {
   "cell_type": "code",
   "execution_count": 14,
   "metadata": {},
   "outputs": [
    {
     "data": {
      "text/html": [
       "<div>\n",
       "<style scoped>\n",
       "    .dataframe tbody tr th:only-of-type {\n",
       "        vertical-align: middle;\n",
       "    }\n",
       "\n",
       "    .dataframe tbody tr th {\n",
       "        vertical-align: top;\n",
       "    }\n",
       "\n",
       "    .dataframe thead th {\n",
       "        text-align: right;\n",
       "    }\n",
       "</style>\n",
       "<table border=\"1\" class=\"dataframe\">\n",
       "  <thead>\n",
       "    <tr style=\"text-align: right;\">\n",
       "      <th></th>\n",
       "      <th>resp_text</th>\n",
       "      <th>clarity</th>\n",
       "      <th>Class</th>\n",
       "      <th>tokens</th>\n",
       "    </tr>\n",
       "  </thead>\n",
       "  <tbody>\n",
       "    <tr>\n",
       "      <th>0</th>\n",
       "      <td>Prezada Senhora, Informa-se que o DNIT é uma ...</td>\n",
       "      <td>c1</td>\n",
       "      <td>0</td>\n",
       "      <td>[prezada, senhora, informase, que, o, dnit, é,...</td>\n",
       "    </tr>\n",
       "    <tr>\n",
       "      <th>1</th>\n",
       "      <td>Prezada,   Os dados se referem somente aos na...</td>\n",
       "      <td>c1</td>\n",
       "      <td>0</td>\n",
       "      <td>[prezada, os, dados, se, referem, somente, aos...</td>\n",
       "    </tr>\n",
       "    <tr>\n",
       "      <th>2</th>\n",
       "      <td>Prezado Usuário, Inicialmente agradecemos o s...</td>\n",
       "      <td>c1</td>\n",
       "      <td>0</td>\n",
       "      <td>[prezado, usuário, inicialmente, agradecemos, ...</td>\n",
       "    </tr>\n",
       "    <tr>\n",
       "      <th>3</th>\n",
       "      <td>Prezada,   Referimo-nos a sua demanda, regist...</td>\n",
       "      <td>c1</td>\n",
       "      <td>0</td>\n",
       "      <td>[prezada, referimonos, a, sua, demanda, regist...</td>\n",
       "    </tr>\n",
       "    <tr>\n",
       "      <th>4</th>\n",
       "      <td>Prezada,   Segue anexa a resposta da área com...</td>\n",
       "      <td>c1</td>\n",
       "      <td>0</td>\n",
       "      <td>[prezada, segue, anexa, a, resposta, da, área,...</td>\n",
       "    </tr>\n",
       "    <tr>\n",
       "      <th>5</th>\n",
       "      <td>Prezada,   Segue anexa a resposta da área com...</td>\n",
       "      <td>c1</td>\n",
       "      <td>0</td>\n",
       "      <td>[prezada, segue, anexa, a, resposta, da, área,...</td>\n",
       "    </tr>\n",
       "    <tr>\n",
       "      <th>6</th>\n",
       "      <td>Prezada,   Segue em anexo resposta da área té...</td>\n",
       "      <td>c1</td>\n",
       "      <td>0</td>\n",
       "      <td>[prezada, segue, em, anexo, resposta, da, área...</td>\n",
       "    </tr>\n",
       "    <tr>\n",
       "      <th>7</th>\n",
       "      <td>Prezado usuário, Segue anexa resposta do seto...</td>\n",
       "      <td>c1</td>\n",
       "      <td>0</td>\n",
       "      <td>[prezado, usuário, segue, anexa, resposta, do,...</td>\n",
       "    </tr>\n",
       "    <tr>\n",
       "      <th>8</th>\n",
       "      <td>Prezada,   Segue resposta ao seu pedido de in...</td>\n",
       "      <td>c1</td>\n",
       "      <td>0</td>\n",
       "      <td>[prezada, segue, resposta, ao, seu, pedido, de...</td>\n",
       "    </tr>\n",
       "    <tr>\n",
       "      <th>9</th>\n",
       "      <td>Prezado Usuário, Enviamos a resposta apresent...</td>\n",
       "      <td>c1</td>\n",
       "      <td>0</td>\n",
       "      <td>[prezado, usuário, enviamos, a, resposta, apre...</td>\n",
       "    </tr>\n",
       "  </tbody>\n",
       "</table>\n",
       "</div>"
      ],
      "text/plain": [
       "                                           resp_text clarity  Class  \\\n",
       "0   Prezada Senhora, Informa-se que o DNIT é uma ...      c1      0   \n",
       "1   Prezada,   Os dados se referem somente aos na...      c1      0   \n",
       "2   Prezado Usuário, Inicialmente agradecemos o s...      c1      0   \n",
       "3   Prezada,   Referimo-nos a sua demanda, regist...      c1      0   \n",
       "4   Prezada,   Segue anexa a resposta da área com...      c1      0   \n",
       "5   Prezada,   Segue anexa a resposta da área com...      c1      0   \n",
       "6   Prezada,   Segue em anexo resposta da área té...      c1      0   \n",
       "7   Prezado usuário, Segue anexa resposta do seto...      c1      0   \n",
       "8   Prezada,   Segue resposta ao seu pedido de in...      c1      0   \n",
       "9   Prezado Usuário, Enviamos a resposta apresent...      c1      0   \n",
       "\n",
       "                                              tokens  \n",
       "0  [prezada, senhora, informase, que, o, dnit, é,...  \n",
       "1  [prezada, os, dados, se, referem, somente, aos...  \n",
       "2  [prezado, usuário, inicialmente, agradecemos, ...  \n",
       "3  [prezada, referimonos, a, sua, demanda, regist...  \n",
       "4  [prezada, segue, anexa, a, resposta, da, área,...  \n",
       "5  [prezada, segue, anexa, a, resposta, da, área,...  \n",
       "6  [prezada, segue, em, anexo, resposta, da, área...  \n",
       "7  [prezado, usuário, segue, anexa, resposta, do,...  \n",
       "8  [prezada, segue, resposta, ao, seu, pedido, de...  \n",
       "9  [prezado, usuário, enviamos, a, resposta, apre...  "
      ]
     },
     "execution_count": 14,
     "metadata": {},
     "output_type": "execute_result"
    }
   ],
   "source": [
    "df['tokens'] = [word_tokenize(resp) for resp in df['tokens']]\n",
    "df.head(10)"
   ]
  },
  {
   "cell_type": "markdown",
   "metadata": {},
   "source": [
    "### III. Lemma"
   ]
  },
  {
   "cell_type": "code",
   "execution_count": 15,
   "metadata": {},
   "outputs": [],
   "source": [
    "import spacy\n",
    "import os"
   ]
  },
  {
   "cell_type": "code",
   "execution_count": 16,
   "metadata": {},
   "outputs": [],
   "source": [
    "try:\n",
    "    nlp = spacy.load(\"pt_core_news_sm\")\n",
    "except Exception:\n",
    "    os.system(\"python -m spacy download pt_core_news_sm\")\n",
    "    nlp = spacy.load(\"pt_core_news_sm\")"
   ]
  },
  {
   "cell_type": "code",
   "execution_count": 17,
   "metadata": {},
   "outputs": [],
   "source": [
    "filtered = []\n",
    "for sent in df['tokens']:\n",
    "    sent = str(sent)\n",
    "    doc = nlp(sent)\n",
    "    temp = [token.lemma_ for token in doc if not token.is_punct]\n",
    "    temp = \" \".join(temp)\n",
    "    filtered.append(temp)"
   ]
  },
  {
   "cell_type": "code",
   "execution_count": 18,
   "metadata": {},
   "outputs": [
    {
     "data": {
      "text/html": [
       "<div>\n",
       "<style scoped>\n",
       "    .dataframe tbody tr th:only-of-type {\n",
       "        vertical-align: middle;\n",
       "    }\n",
       "\n",
       "    .dataframe tbody tr th {\n",
       "        vertical-align: top;\n",
       "    }\n",
       "\n",
       "    .dataframe thead th {\n",
       "        text-align: right;\n",
       "    }\n",
       "</style>\n",
       "<table border=\"1\" class=\"dataframe\">\n",
       "  <thead>\n",
       "    <tr style=\"text-align: right;\">\n",
       "      <th></th>\n",
       "      <th>resp_text</th>\n",
       "      <th>clarity</th>\n",
       "      <th>Class</th>\n",
       "      <th>tokens</th>\n",
       "      <th>lemma</th>\n",
       "    </tr>\n",
       "  </thead>\n",
       "  <tbody>\n",
       "    <tr>\n",
       "      <th>0</th>\n",
       "      <td>Prezada Senhora, Informa-se que o DNIT é uma ...</td>\n",
       "      <td>c1</td>\n",
       "      <td>0</td>\n",
       "      <td>[prezada, senhora, informase, que, o, dnit, é,...</td>\n",
       "      <td>prezar senhor informase que o dnit ser um auta...</td>\n",
       "    </tr>\n",
       "    <tr>\n",
       "      <th>1</th>\n",
       "      <td>Prezada,   Os dados se referem somente aos na...</td>\n",
       "      <td>c1</td>\n",
       "      <td>0</td>\n",
       "      <td>[prezada, os, dados, se, referem, somente, aos...</td>\n",
       "      <td>prezar o dar se referir somente a o nascido vi...</td>\n",
       "    </tr>\n",
       "    <tr>\n",
       "      <th>2</th>\n",
       "      <td>Prezado Usuário, Inicialmente agradecemos o s...</td>\n",
       "      <td>c1</td>\n",
       "      <td>0</td>\n",
       "      <td>[prezado, usuário, inicialmente, agradecemos, ...</td>\n",
       "      <td>prezar usuário inicialmente agradecer o seu co...</td>\n",
       "    </tr>\n",
       "    <tr>\n",
       "      <th>3</th>\n",
       "      <td>Prezada,   Referimo-nos a sua demanda, regist...</td>\n",
       "      <td>c1</td>\n",
       "      <td>0</td>\n",
       "      <td>[prezada, referimonos, a, sua, demanda, regist...</td>\n",
       "      <td>prezar referimono o seu demanda registrar em o...</td>\n",
       "    </tr>\n",
       "    <tr>\n",
       "      <th>4</th>\n",
       "      <td>Prezada,   Segue anexa a resposta da área com...</td>\n",
       "      <td>c1</td>\n",
       "      <td>0</td>\n",
       "      <td>[prezada, segue, anexa, a, resposta, da, área,...</td>\n",
       "      <td>prezar seguir anexo o resposta de o área compe...</td>\n",
       "    </tr>\n",
       "  </tbody>\n",
       "</table>\n",
       "</div>"
      ],
      "text/plain": [
       "                                           resp_text clarity  Class  \\\n",
       "0   Prezada Senhora, Informa-se que o DNIT é uma ...      c1      0   \n",
       "1   Prezada,   Os dados se referem somente aos na...      c1      0   \n",
       "2   Prezado Usuário, Inicialmente agradecemos o s...      c1      0   \n",
       "3   Prezada,   Referimo-nos a sua demanda, regist...      c1      0   \n",
       "4   Prezada,   Segue anexa a resposta da área com...      c1      0   \n",
       "\n",
       "                                              tokens  \\\n",
       "0  [prezada, senhora, informase, que, o, dnit, é,...   \n",
       "1  [prezada, os, dados, se, referem, somente, aos...   \n",
       "2  [prezado, usuário, inicialmente, agradecemos, ...   \n",
       "3  [prezada, referimonos, a, sua, demanda, regist...   \n",
       "4  [prezada, segue, anexa, a, resposta, da, área,...   \n",
       "\n",
       "                                               lemma  \n",
       "0  prezar senhor informase que o dnit ser um auta...  \n",
       "1  prezar o dar se referir somente a o nascido vi...  \n",
       "2  prezar usuário inicialmente agradecer o seu co...  \n",
       "3  prezar referimono o seu demanda registrar em o...  \n",
       "4  prezar seguir anexo o resposta de o área compe...  "
      ]
     },
     "execution_count": 18,
     "metadata": {},
     "output_type": "execute_result"
    }
   ],
   "source": [
    "df['lemma'] = filtered\n",
    "df.head()"
   ]
  },
  {
   "cell_type": "markdown",
   "metadata": {},
   "source": [
    "### IV N-gram"
   ]
  },
  {
   "cell_type": "code",
   "execution_count": 19,
   "metadata": {},
   "outputs": [],
   "source": [
    "import nltk\n",
    "from nltk.util import ngrams"
   ]
  },
  {
   "cell_type": "code",
   "execution_count": 20,
   "metadata": {},
   "outputs": [],
   "source": [
    "for i in range(2,4):\n",
    "    temp = []\n",
    "\n",
    "    for txt in df['lemma']:    \n",
    "        txt = list(ngrams(sequence=nltk.word_tokenize(txt), n=i))\n",
    "        temp.append(txt)\n",
    "    \n",
    "    df['ngram' + str(i)] = temp\n",
    "    "
   ]
  },
  {
   "cell_type": "code",
   "execution_count": 21,
   "metadata": {},
   "outputs": [
    {
     "data": {
      "text/html": [
       "<div>\n",
       "<style scoped>\n",
       "    .dataframe tbody tr th:only-of-type {\n",
       "        vertical-align: middle;\n",
       "    }\n",
       "\n",
       "    .dataframe tbody tr th {\n",
       "        vertical-align: top;\n",
       "    }\n",
       "\n",
       "    .dataframe thead th {\n",
       "        text-align: right;\n",
       "    }\n",
       "</style>\n",
       "<table border=\"1\" class=\"dataframe\">\n",
       "  <thead>\n",
       "    <tr style=\"text-align: right;\">\n",
       "      <th></th>\n",
       "      <th>resp_text</th>\n",
       "      <th>clarity</th>\n",
       "      <th>Class</th>\n",
       "      <th>tokens</th>\n",
       "      <th>lemma</th>\n",
       "      <th>ngram2</th>\n",
       "      <th>ngram3</th>\n",
       "    </tr>\n",
       "  </thead>\n",
       "  <tbody>\n",
       "    <tr>\n",
       "      <th>0</th>\n",
       "      <td>Prezada Senhora, Informa-se que o DNIT é uma ...</td>\n",
       "      <td>c1</td>\n",
       "      <td>0</td>\n",
       "      <td>[prezada, senhora, informase, que, o, dnit, é,...</td>\n",
       "      <td>prezar senhor informase que o dnit ser um auta...</td>\n",
       "      <td>[(prezar, senhor), (senhor, informase), (infor...</td>\n",
       "      <td>[(prezar, senhor, informase), (senhor, informa...</td>\n",
       "    </tr>\n",
       "    <tr>\n",
       "      <th>1</th>\n",
       "      <td>Prezada,   Os dados se referem somente aos na...</td>\n",
       "      <td>c1</td>\n",
       "      <td>0</td>\n",
       "      <td>[prezada, os, dados, se, referem, somente, aos...</td>\n",
       "      <td>prezar o dar se referir somente a o nascido vi...</td>\n",
       "      <td>[(prezar, o), (o, dar), (dar, se), (se, referi...</td>\n",
       "      <td>[(prezar, o, dar), (o, dar, se), (dar, se, ref...</td>\n",
       "    </tr>\n",
       "    <tr>\n",
       "      <th>2</th>\n",
       "      <td>Prezado Usuário, Inicialmente agradecemos o s...</td>\n",
       "      <td>c1</td>\n",
       "      <td>0</td>\n",
       "      <td>[prezado, usuário, inicialmente, agradecemos, ...</td>\n",
       "      <td>prezar usuário inicialmente agradecer o seu co...</td>\n",
       "      <td>[(prezar, usuário), (usuário, inicialmente), (...</td>\n",
       "      <td>[(prezar, usuário, inicialmente), (usuário, in...</td>\n",
       "    </tr>\n",
       "    <tr>\n",
       "      <th>3</th>\n",
       "      <td>Prezada,   Referimo-nos a sua demanda, regist...</td>\n",
       "      <td>c1</td>\n",
       "      <td>0</td>\n",
       "      <td>[prezada, referimonos, a, sua, demanda, regist...</td>\n",
       "      <td>prezar referimono o seu demanda registrar em o...</td>\n",
       "      <td>[(prezar, referimono), (referimono, o), (o, se...</td>\n",
       "      <td>[(prezar, referimono, o), (referimono, o, seu)...</td>\n",
       "    </tr>\n",
       "    <tr>\n",
       "      <th>4</th>\n",
       "      <td>Prezada,   Segue anexa a resposta da área com...</td>\n",
       "      <td>c1</td>\n",
       "      <td>0</td>\n",
       "      <td>[prezada, segue, anexa, a, resposta, da, área,...</td>\n",
       "      <td>prezar seguir anexo o resposta de o área compe...</td>\n",
       "      <td>[(prezar, seguir), (seguir, anexo), (anexo, o)...</td>\n",
       "      <td>[(prezar, seguir, anexo), (seguir, anexo, o), ...</td>\n",
       "    </tr>\n",
       "  </tbody>\n",
       "</table>\n",
       "</div>"
      ],
      "text/plain": [
       "                                           resp_text clarity  Class  \\\n",
       "0   Prezada Senhora, Informa-se que o DNIT é uma ...      c1      0   \n",
       "1   Prezada,   Os dados se referem somente aos na...      c1      0   \n",
       "2   Prezado Usuário, Inicialmente agradecemos o s...      c1      0   \n",
       "3   Prezada,   Referimo-nos a sua demanda, regist...      c1      0   \n",
       "4   Prezada,   Segue anexa a resposta da área com...      c1      0   \n",
       "\n",
       "                                              tokens  \\\n",
       "0  [prezada, senhora, informase, que, o, dnit, é,...   \n",
       "1  [prezada, os, dados, se, referem, somente, aos...   \n",
       "2  [prezado, usuário, inicialmente, agradecemos, ...   \n",
       "3  [prezada, referimonos, a, sua, demanda, regist...   \n",
       "4  [prezada, segue, anexa, a, resposta, da, área,...   \n",
       "\n",
       "                                               lemma  \\\n",
       "0  prezar senhor informase que o dnit ser um auta...   \n",
       "1  prezar o dar se referir somente a o nascido vi...   \n",
       "2  prezar usuário inicialmente agradecer o seu co...   \n",
       "3  prezar referimono o seu demanda registrar em o...   \n",
       "4  prezar seguir anexo o resposta de o área compe...   \n",
       "\n",
       "                                              ngram2  \\\n",
       "0  [(prezar, senhor), (senhor, informase), (infor...   \n",
       "1  [(prezar, o), (o, dar), (dar, se), (se, referi...   \n",
       "2  [(prezar, usuário), (usuário, inicialmente), (...   \n",
       "3  [(prezar, referimono), (referimono, o), (o, se...   \n",
       "4  [(prezar, seguir), (seguir, anexo), (anexo, o)...   \n",
       "\n",
       "                                              ngram3  \n",
       "0  [(prezar, senhor, informase), (senhor, informa...  \n",
       "1  [(prezar, o, dar), (o, dar, se), (dar, se, ref...  \n",
       "2  [(prezar, usuário, inicialmente), (usuário, in...  \n",
       "3  [(prezar, referimono, o), (referimono, o, seu)...  \n",
       "4  [(prezar, seguir, anexo), (seguir, anexo, o), ...  "
      ]
     },
     "execution_count": 21,
     "metadata": {},
     "output_type": "execute_result"
    }
   ],
   "source": [
    "df.head()"
   ]
  },
  {
   "cell_type": "code",
   "execution_count": 22,
   "metadata": {},
   "outputs": [],
   "source": [
    "df.to_csv('./datasets/DfCleaned.csv')"
   ]
  }
 ],
 "metadata": {
  "kernelspec": {
   "display_name": "base",
   "language": "python",
   "name": "python3"
  },
  "language_info": {
   "codemirror_mode": {
    "name": "ipython",
    "version": 3
   },
   "file_extension": ".py",
   "mimetype": "text/x-python",
   "name": "python",
   "nbconvert_exporter": "python",
   "pygments_lexer": "ipython3",
   "version": "3.11.5"
  }
 },
 "nbformat": 4,
 "nbformat_minor": 2
}
