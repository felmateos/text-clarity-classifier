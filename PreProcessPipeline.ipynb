{
 "cells": [
  {
   "cell_type": "markdown",
   "metadata": {},
   "source": [
    "# EP1 - Modelo treinado"
   ]
  },
  {
   "cell_type": "markdown",
   "metadata": {},
   "source": [
    "Felipe\n",
    "Nilton"
   ]
  },
  {
   "cell_type": "markdown",
   "metadata": {},
   "source": [
    "## Descricao"
   ]
  },
  {
   "cell_type": "code",
   "execution_count": 1,
   "metadata": {},
   "outputs": [],
   "source": [
    "#!pip install -r requirements.txt\n",
    "import pandas as pd\n",
    "import numpy as np"
   ]
  },
  {
   "cell_type": "code",
   "execution_count": 2,
   "metadata": {},
   "outputs": [],
   "source": [
    "np.random.seed(777)"
   ]
  },
  {
   "cell_type": "code",
   "execution_count": 2,
   "metadata": {},
   "outputs": [
    {
     "data": {
      "text/html": [
       "<div>\n",
       "<style scoped>\n",
       "    .dataframe tbody tr th:only-of-type {\n",
       "        vertical-align: middle;\n",
       "    }\n",
       "\n",
       "    .dataframe tbody tr th {\n",
       "        vertical-align: top;\n",
       "    }\n",
       "\n",
       "    .dataframe thead th {\n",
       "        text-align: right;\n",
       "    }\n",
       "</style>\n",
       "<table border=\"1\" class=\"dataframe\">\n",
       "  <thead>\n",
       "    <tr style=\"text-align: right;\">\n",
       "      <th></th>\n",
       "      <th>resp_text</th>\n",
       "      <th>clarity</th>\n",
       "    </tr>\n",
       "  </thead>\n",
       "  <tbody>\n",
       "    <tr>\n",
       "      <th>0</th>\n",
       "      <td>Prezado Sr Jose Taunai  Em atenção ao seu pe...</td>\n",
       "      <td>c5</td>\n",
       "    </tr>\n",
       "    <tr>\n",
       "      <th>1</th>\n",
       "      <td>\"A pedido do Pró-Reitor de Graduação, informa...</td>\n",
       "      <td>c5</td>\n",
       "    </tr>\n",
       "    <tr>\n",
       "      <th>2</th>\n",
       "      <td>\"Prezado (a) Sr. (a), Agradecemos o contato e...</td>\n",
       "      <td>c234</td>\n",
       "    </tr>\n",
       "    <tr>\n",
       "      <th>3</th>\n",
       "      <td>\"Prezado (a) Sr. (a), Agradecemos o contato e...</td>\n",
       "      <td>c234</td>\n",
       "    </tr>\n",
       "    <tr>\n",
       "      <th>4</th>\n",
       "      <td>\"Prezado Prof. Gilberto Tadeu Reis da Silva  ...</td>\n",
       "      <td>c234</td>\n",
       "    </tr>\n",
       "  </tbody>\n",
       "</table>\n",
       "</div>"
      ],
      "text/plain": [
       "                                           resp_text clarity\n",
       "0    Prezado Sr Jose Taunai  Em atenção ao seu pe...      c5\n",
       "1   \"A pedido do Pró-Reitor de Graduação, informa...      c5\n",
       "2   \"Prezado (a) Sr. (a), Agradecemos o contato e...    c234\n",
       "3   \"Prezado (a) Sr. (a), Agradecemos o contato e...    c234\n",
       "4   \"Prezado Prof. Gilberto Tadeu Reis da Silva  ...    c234"
      ]
     },
     "execution_count": 2,
     "metadata": {},
     "output_type": "execute_result"
    }
   ],
   "source": [
    "df = pd.read_excel('datasets/ep1_esic2023_clareza_TRAIN.xlsx')\n",
    "df.head()"
   ]
  },
  {
   "cell_type": "code",
   "execution_count": 4,
   "metadata": {},
   "outputs": [
    {
     "name": "stdout",
     "output_type": "stream",
     "text": [
      "<class 'pandas.core.frame.DataFrame'>\n",
      "RangeIndex: 6000 entries, 0 to 5999\n",
      "Data columns (total 2 columns):\n",
      " #   Column     Non-Null Count  Dtype \n",
      "---  ------     --------------  ----- \n",
      " 0   resp_text  6000 non-null   object\n",
      " 1   clarity    6000 non-null   object\n",
      "dtypes: object(2)\n",
      "memory usage: 93.9+ KB\n"
     ]
    }
   ],
   "source": [
    "df.info()"
   ]
  },
  {
   "cell_type": "code",
   "execution_count": 5,
   "metadata": {},
   "outputs": [
    {
     "data": {
      "text/html": [
       "<div>\n",
       "<style scoped>\n",
       "    .dataframe tbody tr th:only-of-type {\n",
       "        vertical-align: middle;\n",
       "    }\n",
       "\n",
       "    .dataframe tbody tr th {\n",
       "        vertical-align: top;\n",
       "    }\n",
       "\n",
       "    .dataframe thead th {\n",
       "        text-align: right;\n",
       "    }\n",
       "</style>\n",
       "<table border=\"1\" class=\"dataframe\">\n",
       "  <thead>\n",
       "    <tr style=\"text-align: right;\">\n",
       "      <th></th>\n",
       "      <th>resp_text</th>\n",
       "      <th>clarity</th>\n",
       "    </tr>\n",
       "  </thead>\n",
       "  <tbody>\n",
       "    <tr>\n",
       "      <th>count</th>\n",
       "      <td>6000</td>\n",
       "      <td>6000</td>\n",
       "    </tr>\n",
       "    <tr>\n",
       "      <th>unique</th>\n",
       "      <td>5626</td>\n",
       "      <td>3</td>\n",
       "    </tr>\n",
       "    <tr>\n",
       "      <th>top</th>\n",
       "      <td>Prezado(a) Senhor(a),  Sua manifestação foi a...</td>\n",
       "      <td>c5</td>\n",
       "    </tr>\n",
       "    <tr>\n",
       "      <th>freq</th>\n",
       "      <td>41</td>\n",
       "      <td>2000</td>\n",
       "    </tr>\n",
       "  </tbody>\n",
       "</table>\n",
       "</div>"
      ],
      "text/plain": [
       "                                                resp_text clarity\n",
       "count                                                6000    6000\n",
       "unique                                               5626       3\n",
       "top      Prezado(a) Senhor(a),  Sua manifestação foi a...      c5\n",
       "freq                                                   41    2000"
      ]
     },
     "execution_count": 5,
     "metadata": {},
     "output_type": "execute_result"
    }
   ],
   "source": [
    "df.describe()"
   ]
  },
  {
   "cell_type": "code",
   "execution_count": 6,
   "metadata": {},
   "outputs": [
    {
     "data": {
      "text/html": [
       "<div>\n",
       "<style scoped>\n",
       "    .dataframe tbody tr th:only-of-type {\n",
       "        vertical-align: middle;\n",
       "    }\n",
       "\n",
       "    .dataframe tbody tr th {\n",
       "        vertical-align: top;\n",
       "    }\n",
       "\n",
       "    .dataframe thead tr th {\n",
       "        text-align: left;\n",
       "    }\n",
       "\n",
       "    .dataframe thead tr:last-of-type th {\n",
       "        text-align: right;\n",
       "    }\n",
       "</style>\n",
       "<table border=\"1\" class=\"dataframe\">\n",
       "  <thead>\n",
       "    <tr>\n",
       "      <th></th>\n",
       "      <th colspan=\"4\" halign=\"left\">resp_text</th>\n",
       "    </tr>\n",
       "    <tr>\n",
       "      <th></th>\n",
       "      <th>count</th>\n",
       "      <th>unique</th>\n",
       "      <th>top</th>\n",
       "      <th>freq</th>\n",
       "    </tr>\n",
       "    <tr>\n",
       "      <th>clarity</th>\n",
       "      <th></th>\n",
       "      <th></th>\n",
       "      <th></th>\n",
       "      <th></th>\n",
       "    </tr>\n",
       "  </thead>\n",
       "  <tbody>\n",
       "    <tr>\n",
       "      <th>c1</th>\n",
       "      <td>2000</td>\n",
       "      <td>1839</td>\n",
       "      <td>Prezado(a) Senhor(a),  Sua manifestação foi a...</td>\n",
       "      <td>24</td>\n",
       "    </tr>\n",
       "    <tr>\n",
       "      <th>c234</th>\n",
       "      <td>2000</td>\n",
       "      <td>1929</td>\n",
       "      <td>Prezado(a) Senhor(a),  Sua manifestação foi a...</td>\n",
       "      <td>17</td>\n",
       "    </tr>\n",
       "    <tr>\n",
       "      <th>c5</th>\n",
       "      <td>2000</td>\n",
       "      <td>1911</td>\n",
       "      <td>Prezado (a) Senhor (a)     1. Em atenção ao p...</td>\n",
       "      <td>8</td>\n",
       "    </tr>\n",
       "  </tbody>\n",
       "</table>\n",
       "</div>"
      ],
      "text/plain": [
       "        resp_text                                                            \\\n",
       "            count unique                                                top   \n",
       "clarity                                                                       \n",
       "c1           2000   1839   Prezado(a) Senhor(a),  Sua manifestação foi a...   \n",
       "c234         2000   1929   Prezado(a) Senhor(a),  Sua manifestação foi a...   \n",
       "c5           2000   1911   Prezado (a) Senhor (a)     1. Em atenção ao p...   \n",
       "\n",
       "              \n",
       "        freq  \n",
       "clarity       \n",
       "c1        24  \n",
       "c234      17  \n",
       "c5         8  "
      ]
     },
     "execution_count": 6,
     "metadata": {},
     "output_type": "execute_result"
    }
   ],
   "source": [
    "df.groupby('clarity').describe()"
   ]
  },
  {
   "cell_type": "markdown",
   "metadata": {},
   "source": [
    "## Pre-processing"
   ]
  },
  {
   "cell_type": "markdown",
   "metadata": {},
   "source": [
    "### Class encode"
   ]
  },
  {
   "cell_type": "code",
   "execution_count": 7,
   "metadata": {},
   "outputs": [
    {
     "data": {
      "text/plain": [
       "{'c1': 0, 'c234': 1, 'c5': 2}"
      ]
     },
     "execution_count": 7,
     "metadata": {},
     "output_type": "execute_result"
    }
   ],
   "source": [
    "l_unique = sorted(df['clarity'].unique())\n",
    "label_map = {x: i for i, x in enumerate(l_unique)} \n",
    "label_map"
   ]
  },
  {
   "cell_type": "code",
   "execution_count": 8,
   "metadata": {},
   "outputs": [],
   "source": [
    "df['Class'] = df['clarity'].map(label_map)"
   ]
  },
  {
   "cell_type": "markdown",
   "metadata": {},
   "source": [
    "### I. Cleaning"
   ]
  },
  {
   "cell_type": "code",
   "execution_count": 9,
   "metadata": {},
   "outputs": [],
   "source": [
    "import string"
   ]
  },
  {
   "cell_type": "code",
   "execution_count": 10,
   "metadata": {},
   "outputs": [],
   "source": [
    "texts = df['resp_text']\n",
    "texts = texts.str.lower()\n",
    "texts = texts.str.translate(str.maketrans('', '', string.punctuation))\n",
    "#texts = texts.str.replace('[\\d+]', '') #remove numeros\n",
    "\n",
    "df['tokens'] = texts"
   ]
  },
  {
   "cell_type": "markdown",
   "metadata": {},
   "source": [
    "### II. Tokenize"
   ]
  },
  {
   "cell_type": "code",
   "execution_count": 11,
   "metadata": {},
   "outputs": [],
   "source": [
    "from nltk.tokenize import word_tokenize"
   ]
  },
  {
   "cell_type": "code",
   "execution_count": 12,
   "metadata": {},
   "outputs": [
    {
     "data": {
      "text/html": [
       "<div>\n",
       "<style scoped>\n",
       "    .dataframe tbody tr th:only-of-type {\n",
       "        vertical-align: middle;\n",
       "    }\n",
       "\n",
       "    .dataframe tbody tr th {\n",
       "        vertical-align: top;\n",
       "    }\n",
       "\n",
       "    .dataframe thead th {\n",
       "        text-align: right;\n",
       "    }\n",
       "</style>\n",
       "<table border=\"1\" class=\"dataframe\">\n",
       "  <thead>\n",
       "    <tr style=\"text-align: right;\">\n",
       "      <th></th>\n",
       "      <th>resp_text</th>\n",
       "      <th>clarity</th>\n",
       "      <th>Class</th>\n",
       "      <th>tokens</th>\n",
       "    </tr>\n",
       "  </thead>\n",
       "  <tbody>\n",
       "    <tr>\n",
       "      <th>0</th>\n",
       "      <td>Prezado Sr Jose Taunai  Em atenção ao seu pe...</td>\n",
       "      <td>c5</td>\n",
       "      <td>2</td>\n",
       "      <td>[prezado, sr, jose, taunai, em, atenção, ao, s...</td>\n",
       "    </tr>\n",
       "    <tr>\n",
       "      <th>1</th>\n",
       "      <td>\"A pedido do Pró-Reitor de Graduação, informa...</td>\n",
       "      <td>c5</td>\n",
       "      <td>2</td>\n",
       "      <td>[a, pedido, do, próreitor, de, graduação, info...</td>\n",
       "    </tr>\n",
       "    <tr>\n",
       "      <th>2</th>\n",
       "      <td>\"Prezado (a) Sr. (a), Agradecemos o contato e...</td>\n",
       "      <td>c234</td>\n",
       "      <td>1</td>\n",
       "      <td>[prezado, a, sr, a, agradecemos, o, contato, e...</td>\n",
       "    </tr>\n",
       "    <tr>\n",
       "      <th>3</th>\n",
       "      <td>\"Prezado (a) Sr. (a), Agradecemos o contato e...</td>\n",
       "      <td>c234</td>\n",
       "      <td>1</td>\n",
       "      <td>[prezado, a, sr, a, agradecemos, o, contato, e...</td>\n",
       "    </tr>\n",
       "    <tr>\n",
       "      <th>4</th>\n",
       "      <td>\"Prezado Prof. Gilberto Tadeu Reis da Silva  ...</td>\n",
       "      <td>c234</td>\n",
       "      <td>1</td>\n",
       "      <td>[prezado, prof, gilberto, tadeu, reis, da, sil...</td>\n",
       "    </tr>\n",
       "    <tr>\n",
       "      <th>5</th>\n",
       "      <td>\"Prezado Sr. Luis Cesar Lopes Zeredo,   Em at...</td>\n",
       "      <td>c1</td>\n",
       "      <td>0</td>\n",
       "      <td>[prezado, sr, luis, cesar, lopes, zeredo, em, ...</td>\n",
       "    </tr>\n",
       "    <tr>\n",
       "      <th>6</th>\n",
       "      <td>\"Prezado Sr. Wellington de Almeida  Em atendi...</td>\n",
       "      <td>c234</td>\n",
       "      <td>1</td>\n",
       "      <td>[prezado, sr, wellington, de, almeida, em, ate...</td>\n",
       "    </tr>\n",
       "    <tr>\n",
       "      <th>7</th>\n",
       "      <td>\"Prezado(a) Sr.(a),  Agradecemos o contato e ...</td>\n",
       "      <td>c1</td>\n",
       "      <td>0</td>\n",
       "      <td>[prezadoa, sra, agradecemos, o, contato, e, in...</td>\n",
       "    </tr>\n",
       "    <tr>\n",
       "      <th>8</th>\n",
       "      <td>\"Prezado(a),    Em atenção ao seu pedido,  en...</td>\n",
       "      <td>c5</td>\n",
       "      <td>2</td>\n",
       "      <td>[prezadoa, em, atenção, ao, seu, pedido, encam...</td>\n",
       "    </tr>\n",
       "    <tr>\n",
       "      <th>9</th>\n",
       "      <td>\"Prezado(a),    Em atenção ao seu pedido,  en...</td>\n",
       "      <td>c5</td>\n",
       "      <td>2</td>\n",
       "      <td>[prezadoa, em, atenção, ao, seu, pedido, encam...</td>\n",
       "    </tr>\n",
       "  </tbody>\n",
       "</table>\n",
       "</div>"
      ],
      "text/plain": [
       "                                           resp_text clarity  Class  \\\n",
       "0    Prezado Sr Jose Taunai  Em atenção ao seu pe...      c5      2   \n",
       "1   \"A pedido do Pró-Reitor de Graduação, informa...      c5      2   \n",
       "2   \"Prezado (a) Sr. (a), Agradecemos o contato e...    c234      1   \n",
       "3   \"Prezado (a) Sr. (a), Agradecemos o contato e...    c234      1   \n",
       "4   \"Prezado Prof. Gilberto Tadeu Reis da Silva  ...    c234      1   \n",
       "5   \"Prezado Sr. Luis Cesar Lopes Zeredo,   Em at...      c1      0   \n",
       "6   \"Prezado Sr. Wellington de Almeida  Em atendi...    c234      1   \n",
       "7   \"Prezado(a) Sr.(a),  Agradecemos o contato e ...      c1      0   \n",
       "8   \"Prezado(a),    Em atenção ao seu pedido,  en...      c5      2   \n",
       "9   \"Prezado(a),    Em atenção ao seu pedido,  en...      c5      2   \n",
       "\n",
       "                                              tokens  \n",
       "0  [prezado, sr, jose, taunai, em, atenção, ao, s...  \n",
       "1  [a, pedido, do, próreitor, de, graduação, info...  \n",
       "2  [prezado, a, sr, a, agradecemos, o, contato, e...  \n",
       "3  [prezado, a, sr, a, agradecemos, o, contato, e...  \n",
       "4  [prezado, prof, gilberto, tadeu, reis, da, sil...  \n",
       "5  [prezado, sr, luis, cesar, lopes, zeredo, em, ...  \n",
       "6  [prezado, sr, wellington, de, almeida, em, ate...  \n",
       "7  [prezadoa, sra, agradecemos, o, contato, e, in...  \n",
       "8  [prezadoa, em, atenção, ao, seu, pedido, encam...  \n",
       "9  [prezadoa, em, atenção, ao, seu, pedido, encam...  "
      ]
     },
     "execution_count": 12,
     "metadata": {},
     "output_type": "execute_result"
    }
   ],
   "source": [
    "df['tokens'] = [word_tokenize(resp) for resp in df['tokens']]\n",
    "df.head(10)"
   ]
  },
  {
   "cell_type": "markdown",
   "metadata": {},
   "source": [
    "### III. Lemma"
   ]
  },
  {
   "cell_type": "code",
   "execution_count": 13,
   "metadata": {},
   "outputs": [],
   "source": [
    "import spacy\n",
    "import os"
   ]
  },
  {
   "cell_type": "code",
   "execution_count": 14,
   "metadata": {},
   "outputs": [],
   "source": [
    "try:\n",
    "    nlp = spacy.load(\"pt_core_news_sm\")\n",
    "except Exception:\n",
    "    os.system(\"python -m spacy download pt_core_news_sm\")\n",
    "    nlp = spacy.load(\"pt_core_news_sm\")"
   ]
  },
  {
   "cell_type": "code",
   "execution_count": 15,
   "metadata": {},
   "outputs": [],
   "source": [
    "filtered = []\n",
    "for sent in df['tokens']:\n",
    "    sent = str(sent)\n",
    "    doc = nlp(sent)\n",
    "    temp = [token.lemma_ for token in doc if not token.is_punct]\n",
    "    temp = \" \".join(temp)\n",
    "    filtered.append(temp)"
   ]
  },
  {
   "cell_type": "code",
   "execution_count": 16,
   "metadata": {},
   "outputs": [
    {
     "data": {
      "text/html": [
       "<div>\n",
       "<style scoped>\n",
       "    .dataframe tbody tr th:only-of-type {\n",
       "        vertical-align: middle;\n",
       "    }\n",
       "\n",
       "    .dataframe tbody tr th {\n",
       "        vertical-align: top;\n",
       "    }\n",
       "\n",
       "    .dataframe thead th {\n",
       "        text-align: right;\n",
       "    }\n",
       "</style>\n",
       "<table border=\"1\" class=\"dataframe\">\n",
       "  <thead>\n",
       "    <tr style=\"text-align: right;\">\n",
       "      <th></th>\n",
       "      <th>resp_text</th>\n",
       "      <th>clarity</th>\n",
       "      <th>Class</th>\n",
       "      <th>tokens</th>\n",
       "      <th>lemma</th>\n",
       "    </tr>\n",
       "  </thead>\n",
       "  <tbody>\n",
       "    <tr>\n",
       "      <th>0</th>\n",
       "      <td>Prezado Sr Jose Taunai  Em atenção ao seu pe...</td>\n",
       "      <td>c5</td>\n",
       "      <td>2</td>\n",
       "      <td>[prezado, sr, jose, taunai, em, atenção, ao, s...</td>\n",
       "      <td>prezar sr jose taunai em atenção a o seu pedir...</td>\n",
       "    </tr>\n",
       "    <tr>\n",
       "      <th>1</th>\n",
       "      <td>\"A pedido do Pró-Reitor de Graduação, informa...</td>\n",
       "      <td>c5</td>\n",
       "      <td>2</td>\n",
       "      <td>[a, pedido, do, próreitor, de, graduação, info...</td>\n",
       "      <td>o pedir de o próreitor de graduação informamo ...</td>\n",
       "    </tr>\n",
       "    <tr>\n",
       "      <th>2</th>\n",
       "      <td>\"Prezado (a) Sr. (a), Agradecemos o contato e...</td>\n",
       "      <td>c234</td>\n",
       "      <td>1</td>\n",
       "      <td>[prezado, a, sr, a, agradecemos, o, contato, e...</td>\n",
       "      <td>prezar o sr o agradecer o contato e informamo ...</td>\n",
       "    </tr>\n",
       "    <tr>\n",
       "      <th>3</th>\n",
       "      <td>\"Prezado (a) Sr. (a), Agradecemos o contato e...</td>\n",
       "      <td>c234</td>\n",
       "      <td>1</td>\n",
       "      <td>[prezado, a, sr, a, agradecemos, o, contato, e...</td>\n",
       "      <td>prezar o sr o agradecer o contato e informamo ...</td>\n",
       "    </tr>\n",
       "    <tr>\n",
       "      <th>4</th>\n",
       "      <td>\"Prezado Prof. Gilberto Tadeu Reis da Silva  ...</td>\n",
       "      <td>c234</td>\n",
       "      <td>1</td>\n",
       "      <td>[prezado, prof, gilberto, tadeu, reis, da, sil...</td>\n",
       "      <td>prezar prof gilberto tader rei de o Silva em a...</td>\n",
       "    </tr>\n",
       "  </tbody>\n",
       "</table>\n",
       "</div>"
      ],
      "text/plain": [
       "                                           resp_text clarity  Class  \\\n",
       "0    Prezado Sr Jose Taunai  Em atenção ao seu pe...      c5      2   \n",
       "1   \"A pedido do Pró-Reitor de Graduação, informa...      c5      2   \n",
       "2   \"Prezado (a) Sr. (a), Agradecemos o contato e...    c234      1   \n",
       "3   \"Prezado (a) Sr. (a), Agradecemos o contato e...    c234      1   \n",
       "4   \"Prezado Prof. Gilberto Tadeu Reis da Silva  ...    c234      1   \n",
       "\n",
       "                                              tokens  \\\n",
       "0  [prezado, sr, jose, taunai, em, atenção, ao, s...   \n",
       "1  [a, pedido, do, próreitor, de, graduação, info...   \n",
       "2  [prezado, a, sr, a, agradecemos, o, contato, e...   \n",
       "3  [prezado, a, sr, a, agradecemos, o, contato, e...   \n",
       "4  [prezado, prof, gilberto, tadeu, reis, da, sil...   \n",
       "\n",
       "                                               lemma  \n",
       "0  prezar sr jose taunai em atenção a o seu pedir...  \n",
       "1  o pedir de o próreitor de graduação informamo ...  \n",
       "2  prezar o sr o agradecer o contato e informamo ...  \n",
       "3  prezar o sr o agradecer o contato e informamo ...  \n",
       "4  prezar prof gilberto tader rei de o Silva em a...  "
      ]
     },
     "execution_count": 16,
     "metadata": {},
     "output_type": "execute_result"
    }
   ],
   "source": [
    "df['lemma'] = filtered\n",
    "df.head()"
   ]
  },
  {
   "cell_type": "markdown",
   "metadata": {},
   "source": [
    "### IV N-gram"
   ]
  },
  {
   "cell_type": "code",
   "execution_count": 17,
   "metadata": {},
   "outputs": [],
   "source": [
    "import nltk\n",
    "from nltk.util import ngrams"
   ]
  },
  {
   "cell_type": "code",
   "execution_count": 18,
   "metadata": {},
   "outputs": [],
   "source": [
    "for i in range(2,4):\n",
    "    temp = []\n",
    "\n",
    "    for txt in df['lemma']:    \n",
    "        txt = list(ngrams(sequence=nltk.word_tokenize(txt), n=i))\n",
    "        temp.append(txt)\n",
    "    \n",
    "    df['ngram' + str(i)] = temp\n",
    "    "
   ]
  },
  {
   "cell_type": "code",
   "execution_count": 19,
   "metadata": {},
   "outputs": [
    {
     "data": {
      "text/html": [
       "<div>\n",
       "<style scoped>\n",
       "    .dataframe tbody tr th:only-of-type {\n",
       "        vertical-align: middle;\n",
       "    }\n",
       "\n",
       "    .dataframe tbody tr th {\n",
       "        vertical-align: top;\n",
       "    }\n",
       "\n",
       "    .dataframe thead th {\n",
       "        text-align: right;\n",
       "    }\n",
       "</style>\n",
       "<table border=\"1\" class=\"dataframe\">\n",
       "  <thead>\n",
       "    <tr style=\"text-align: right;\">\n",
       "      <th></th>\n",
       "      <th>resp_text</th>\n",
       "      <th>clarity</th>\n",
       "      <th>Class</th>\n",
       "      <th>tokens</th>\n",
       "      <th>lemma</th>\n",
       "      <th>ngram2</th>\n",
       "      <th>ngram3</th>\n",
       "    </tr>\n",
       "  </thead>\n",
       "  <tbody>\n",
       "    <tr>\n",
       "      <th>0</th>\n",
       "      <td>Prezado Sr Jose Taunai  Em atenção ao seu pe...</td>\n",
       "      <td>c5</td>\n",
       "      <td>2</td>\n",
       "      <td>[prezado, sr, jose, taunai, em, atenção, ao, s...</td>\n",
       "      <td>prezar sr jose taunai em atenção a o seu pedir...</td>\n",
       "      <td>[(prezar, sr), (sr, jose), (jose, taunai), (ta...</td>\n",
       "      <td>[(prezar, sr, jose), (sr, jose, taunai), (jose...</td>\n",
       "    </tr>\n",
       "    <tr>\n",
       "      <th>1</th>\n",
       "      <td>\"A pedido do Pró-Reitor de Graduação, informa...</td>\n",
       "      <td>c5</td>\n",
       "      <td>2</td>\n",
       "      <td>[a, pedido, do, próreitor, de, graduação, info...</td>\n",
       "      <td>o pedir de o próreitor de graduação informamo ...</td>\n",
       "      <td>[(o, pedir), (pedir, de), (de, o), (o, próreit...</td>\n",
       "      <td>[(o, pedir, de), (pedir, de, o), (de, o, próre...</td>\n",
       "    </tr>\n",
       "    <tr>\n",
       "      <th>2</th>\n",
       "      <td>\"Prezado (a) Sr. (a), Agradecemos o contato e...</td>\n",
       "      <td>c234</td>\n",
       "      <td>1</td>\n",
       "      <td>[prezado, a, sr, a, agradecemos, o, contato, e...</td>\n",
       "      <td>prezar o sr o agradecer o contato e informamo ...</td>\n",
       "      <td>[(prezar, o), (o, sr), (sr, o), (o, agradecer)...</td>\n",
       "      <td>[(prezar, o, sr), (o, sr, o), (sr, o, agradece...</td>\n",
       "    </tr>\n",
       "    <tr>\n",
       "      <th>3</th>\n",
       "      <td>\"Prezado (a) Sr. (a), Agradecemos o contato e...</td>\n",
       "      <td>c234</td>\n",
       "      <td>1</td>\n",
       "      <td>[prezado, a, sr, a, agradecemos, o, contato, e...</td>\n",
       "      <td>prezar o sr o agradecer o contato e informamo ...</td>\n",
       "      <td>[(prezar, o), (o, sr), (sr, o), (o, agradecer)...</td>\n",
       "      <td>[(prezar, o, sr), (o, sr, o), (sr, o, agradece...</td>\n",
       "    </tr>\n",
       "    <tr>\n",
       "      <th>4</th>\n",
       "      <td>\"Prezado Prof. Gilberto Tadeu Reis da Silva  ...</td>\n",
       "      <td>c234</td>\n",
       "      <td>1</td>\n",
       "      <td>[prezado, prof, gilberto, tadeu, reis, da, sil...</td>\n",
       "      <td>prezar prof gilberto tader rei de o Silva em a...</td>\n",
       "      <td>[(prezar, prof), (prof, gilberto), (gilberto, ...</td>\n",
       "      <td>[(prezar, prof, gilberto), (prof, gilberto, ta...</td>\n",
       "    </tr>\n",
       "  </tbody>\n",
       "</table>\n",
       "</div>"
      ],
      "text/plain": [
       "                                           resp_text clarity  Class  \\\n",
       "0    Prezado Sr Jose Taunai  Em atenção ao seu pe...      c5      2   \n",
       "1   \"A pedido do Pró-Reitor de Graduação, informa...      c5      2   \n",
       "2   \"Prezado (a) Sr. (a), Agradecemos o contato e...    c234      1   \n",
       "3   \"Prezado (a) Sr. (a), Agradecemos o contato e...    c234      1   \n",
       "4   \"Prezado Prof. Gilberto Tadeu Reis da Silva  ...    c234      1   \n",
       "\n",
       "                                              tokens  \\\n",
       "0  [prezado, sr, jose, taunai, em, atenção, ao, s...   \n",
       "1  [a, pedido, do, próreitor, de, graduação, info...   \n",
       "2  [prezado, a, sr, a, agradecemos, o, contato, e...   \n",
       "3  [prezado, a, sr, a, agradecemos, o, contato, e...   \n",
       "4  [prezado, prof, gilberto, tadeu, reis, da, sil...   \n",
       "\n",
       "                                               lemma  \\\n",
       "0  prezar sr jose taunai em atenção a o seu pedir...   \n",
       "1  o pedir de o próreitor de graduação informamo ...   \n",
       "2  prezar o sr o agradecer o contato e informamo ...   \n",
       "3  prezar o sr o agradecer o contato e informamo ...   \n",
       "4  prezar prof gilberto tader rei de o Silva em a...   \n",
       "\n",
       "                                              ngram2  \\\n",
       "0  [(prezar, sr), (sr, jose), (jose, taunai), (ta...   \n",
       "1  [(o, pedir), (pedir, de), (de, o), (o, próreit...   \n",
       "2  [(prezar, o), (o, sr), (sr, o), (o, agradecer)...   \n",
       "3  [(prezar, o), (o, sr), (sr, o), (o, agradecer)...   \n",
       "4  [(prezar, prof), (prof, gilberto), (gilberto, ...   \n",
       "\n",
       "                                              ngram3  \n",
       "0  [(prezar, sr, jose), (sr, jose, taunai), (jose...  \n",
       "1  [(o, pedir, de), (pedir, de, o), (de, o, próre...  \n",
       "2  [(prezar, o, sr), (o, sr, o), (sr, o, agradece...  \n",
       "3  [(prezar, o, sr), (o, sr, o), (sr, o, agradece...  \n",
       "4  [(prezar, prof, gilberto), (prof, gilberto, ta...  "
      ]
     },
     "execution_count": 19,
     "metadata": {},
     "output_type": "execute_result"
    }
   ],
   "source": [
    "df.head()"
   ]
  },
  {
   "cell_type": "code",
   "execution_count": 20,
   "metadata": {},
   "outputs": [],
   "source": [
    "df.to_csv('./datasets/DfCleaned.csv')"
   ]
  }
 ],
 "metadata": {
  "kernelspec": {
   "display_name": "base",
   "language": "python",
   "name": "python3"
  },
  "language_info": {
   "codemirror_mode": {
    "name": "ipython",
    "version": 3
   },
   "file_extension": ".py",
   "mimetype": "text/x-python",
   "name": "python",
   "nbconvert_exporter": "python",
   "pygments_lexer": "ipython3",
   "version": "3.11.4"
  }
 },
 "nbformat": 4,
 "nbformat_minor": 2
}
