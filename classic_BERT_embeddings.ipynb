{
 "cells": [
  {
   "cell_type": "code",
   "execution_count": 65,
   "metadata": {},
   "outputs": [],
   "source": [
    "import pandas as pd\n",
    "import numpy as np"
   ]
  },
  {
   "cell_type": "code",
   "execution_count": 66,
   "metadata": {},
   "outputs": [],
   "source": [
    "seed = 777\n",
    "np.random.seed(seed)"
   ]
  },
  {
   "cell_type": "code",
   "execution_count": 67,
   "metadata": {},
   "outputs": [],
   "source": [
    "df_1 = pd.read_csv('datasets/BERT_Embedding_1.csv')\n",
    "df_2 = pd.read_csv('datasets/BERT_Embedding_2.csv')\n",
    "\n",
    "df = pd.concat([df_1,df_2])\n",
    "df.reset_index(inplace=True)"
   ]
  },
  {
   "cell_type": "code",
   "execution_count": 68,
   "metadata": {},
   "outputs": [
    {
     "data": {
      "text/html": [
       "<div>\n",
       "<style scoped>\n",
       "    .dataframe tbody tr th:only-of-type {\n",
       "        vertical-align: middle;\n",
       "    }\n",
       "\n",
       "    .dataframe tbody tr th {\n",
       "        vertical-align: top;\n",
       "    }\n",
       "\n",
       "    .dataframe thead th {\n",
       "        text-align: right;\n",
       "    }\n",
       "</style>\n",
       "<table border=\"1\" class=\"dataframe\">\n",
       "  <thead>\n",
       "    <tr style=\"text-align: right;\">\n",
       "      <th></th>\n",
       "      <th>index</th>\n",
       "      <th>resp_text</th>\n",
       "      <th>clarity</th>\n",
       "      <th>Class</th>\n",
       "      <th>tokens</th>\n",
       "      <th>lemma</th>\n",
       "      <th>ngram2</th>\n",
       "      <th>ngram3</th>\n",
       "      <th>0</th>\n",
       "      <th>1</th>\n",
       "      <th>...</th>\n",
       "      <th>758</th>\n",
       "      <th>759</th>\n",
       "      <th>760</th>\n",
       "      <th>761</th>\n",
       "      <th>762</th>\n",
       "      <th>763</th>\n",
       "      <th>764</th>\n",
       "      <th>765</th>\n",
       "      <th>766</th>\n",
       "      <th>767</th>\n",
       "    </tr>\n",
       "  </thead>\n",
       "  <tbody>\n",
       "    <tr>\n",
       "      <th>0</th>\n",
       "      <td>0</td>\n",
       "      <td>Prezado Sr Jose Taunai  Em atenção ao seu pe...</td>\n",
       "      <td>c5</td>\n",
       "      <td>2</td>\n",
       "      <td>['prezado', 'sr', 'jose', 'taunai', 'em', 'ate...</td>\n",
       "      <td>prezar sr jose taunai em atenção a o seu pedir...</td>\n",
       "      <td>[('prezar', 'sr'), ('sr', 'jose'), ('jose', 't...</td>\n",
       "      <td>[('prezar', 'sr', 'jose'), ('sr', 'jose', 'tau...</td>\n",
       "      <td>0.427392</td>\n",
       "      <td>0.212042</td>\n",
       "      <td>...</td>\n",
       "      <td>0.584561</td>\n",
       "      <td>0.336162</td>\n",
       "      <td>0.482180</td>\n",
       "      <td>0.273163</td>\n",
       "      <td>0.434368</td>\n",
       "      <td>0.340332</td>\n",
       "      <td>0.491752</td>\n",
       "      <td>0.372363</td>\n",
       "      <td>0.491534</td>\n",
       "      <td>0.550062</td>\n",
       "    </tr>\n",
       "    <tr>\n",
       "      <th>1</th>\n",
       "      <td>1</td>\n",
       "      <td>\"A pedido do Pró-Reitor de Graduação, informa...</td>\n",
       "      <td>c5</td>\n",
       "      <td>2</td>\n",
       "      <td>['a', 'pedido', 'do', 'próreitor', 'de', 'grad...</td>\n",
       "      <td>o pedir de o próreitor de graduação informamo ...</td>\n",
       "      <td>[('o', 'pedir'), ('pedir', 'de'), ('de', 'o'),...</td>\n",
       "      <td>[('o', 'pedir', 'de'), ('pedir', 'de', 'o'), (...</td>\n",
       "      <td>0.308308</td>\n",
       "      <td>0.605072</td>\n",
       "      <td>...</td>\n",
       "      <td>0.399073</td>\n",
       "      <td>0.327044</td>\n",
       "      <td>0.337716</td>\n",
       "      <td>0.229499</td>\n",
       "      <td>0.230075</td>\n",
       "      <td>0.430749</td>\n",
       "      <td>0.576797</td>\n",
       "      <td>0.456070</td>\n",
       "      <td>0.527956</td>\n",
       "      <td>0.525562</td>\n",
       "    </tr>\n",
       "    <tr>\n",
       "      <th>2</th>\n",
       "      <td>2</td>\n",
       "      <td>\"Prezado (a) Sr. (a), Agradecemos o contato e...</td>\n",
       "      <td>c234</td>\n",
       "      <td>1</td>\n",
       "      <td>['prezado', 'a', 'sr', 'a', 'agradecemos', 'o'...</td>\n",
       "      <td>prezar o sr o agradecer o contato e informamo ...</td>\n",
       "      <td>[('prezar', 'o'), ('o', 'sr'), ('sr', 'o'), ('...</td>\n",
       "      <td>[('prezar', 'o', 'sr'), ('o', 'sr', 'o'), ('sr...</td>\n",
       "      <td>0.520456</td>\n",
       "      <td>0.417305</td>\n",
       "      <td>...</td>\n",
       "      <td>0.384649</td>\n",
       "      <td>0.294300</td>\n",
       "      <td>0.401364</td>\n",
       "      <td>0.281565</td>\n",
       "      <td>0.367157</td>\n",
       "      <td>0.364539</td>\n",
       "      <td>0.624911</td>\n",
       "      <td>0.454857</td>\n",
       "      <td>0.471248</td>\n",
       "      <td>0.505317</td>\n",
       "    </tr>\n",
       "    <tr>\n",
       "      <th>3</th>\n",
       "      <td>3</td>\n",
       "      <td>\"Prezado (a) Sr. (a), Agradecemos o contato e...</td>\n",
       "      <td>c234</td>\n",
       "      <td>1</td>\n",
       "      <td>['prezado', 'a', 'sr', 'a', 'agradecemos', 'o'...</td>\n",
       "      <td>prezar o sr o agradecer o contato e informamo ...</td>\n",
       "      <td>[('prezar', 'o'), ('o', 'sr'), ('sr', 'o'), ('...</td>\n",
       "      <td>[('prezar', 'o', 'sr'), ('o', 'sr', 'o'), ('sr...</td>\n",
       "      <td>0.360526</td>\n",
       "      <td>0.507117</td>\n",
       "      <td>...</td>\n",
       "      <td>0.600001</td>\n",
       "      <td>0.231550</td>\n",
       "      <td>0.447652</td>\n",
       "      <td>0.304424</td>\n",
       "      <td>0.460164</td>\n",
       "      <td>0.288831</td>\n",
       "      <td>0.581606</td>\n",
       "      <td>0.369495</td>\n",
       "      <td>0.580037</td>\n",
       "      <td>0.342662</td>\n",
       "    </tr>\n",
       "    <tr>\n",
       "      <th>4</th>\n",
       "      <td>4</td>\n",
       "      <td>\"Prezado Prof. Gilberto Tadeu Reis da Silva  ...</td>\n",
       "      <td>c234</td>\n",
       "      <td>1</td>\n",
       "      <td>['prezado', 'prof', 'gilberto', 'tadeu', 'reis...</td>\n",
       "      <td>prezar prof gilberto tader rei de o Silva em a...</td>\n",
       "      <td>[('prezar', 'prof'), ('prof', 'gilberto'), ('g...</td>\n",
       "      <td>[('prezar', 'prof', 'gilberto'), ('prof', 'gil...</td>\n",
       "      <td>0.674706</td>\n",
       "      <td>0.244865</td>\n",
       "      <td>...</td>\n",
       "      <td>0.583029</td>\n",
       "      <td>0.585966</td>\n",
       "      <td>0.295181</td>\n",
       "      <td>0.552866</td>\n",
       "      <td>0.642015</td>\n",
       "      <td>0.327959</td>\n",
       "      <td>0.653914</td>\n",
       "      <td>0.290733</td>\n",
       "      <td>0.491183</td>\n",
       "      <td>0.564766</td>\n",
       "    </tr>\n",
       "  </tbody>\n",
       "</table>\n",
       "<p>5 rows × 776 columns</p>\n",
       "</div>"
      ],
      "text/plain": [
       "   index                                          resp_text clarity  Class  \\\n",
       "0      0    Prezado Sr Jose Taunai  Em atenção ao seu pe...      c5      2   \n",
       "1      1   \"A pedido do Pró-Reitor de Graduação, informa...      c5      2   \n",
       "2      2   \"Prezado (a) Sr. (a), Agradecemos o contato e...    c234      1   \n",
       "3      3   \"Prezado (a) Sr. (a), Agradecemos o contato e...    c234      1   \n",
       "4      4   \"Prezado Prof. Gilberto Tadeu Reis da Silva  ...    c234      1   \n",
       "\n",
       "                                              tokens  \\\n",
       "0  ['prezado', 'sr', 'jose', 'taunai', 'em', 'ate...   \n",
       "1  ['a', 'pedido', 'do', 'próreitor', 'de', 'grad...   \n",
       "2  ['prezado', 'a', 'sr', 'a', 'agradecemos', 'o'...   \n",
       "3  ['prezado', 'a', 'sr', 'a', 'agradecemos', 'o'...   \n",
       "4  ['prezado', 'prof', 'gilberto', 'tadeu', 'reis...   \n",
       "\n",
       "                                               lemma  \\\n",
       "0  prezar sr jose taunai em atenção a o seu pedir...   \n",
       "1  o pedir de o próreitor de graduação informamo ...   \n",
       "2  prezar o sr o agradecer o contato e informamo ...   \n",
       "3  prezar o sr o agradecer o contato e informamo ...   \n",
       "4  prezar prof gilberto tader rei de o Silva em a...   \n",
       "\n",
       "                                              ngram2  \\\n",
       "0  [('prezar', 'sr'), ('sr', 'jose'), ('jose', 't...   \n",
       "1  [('o', 'pedir'), ('pedir', 'de'), ('de', 'o'),...   \n",
       "2  [('prezar', 'o'), ('o', 'sr'), ('sr', 'o'), ('...   \n",
       "3  [('prezar', 'o'), ('o', 'sr'), ('sr', 'o'), ('...   \n",
       "4  [('prezar', 'prof'), ('prof', 'gilberto'), ('g...   \n",
       "\n",
       "                                              ngram3         0         1  ...  \\\n",
       "0  [('prezar', 'sr', 'jose'), ('sr', 'jose', 'tau...  0.427392  0.212042  ...   \n",
       "1  [('o', 'pedir', 'de'), ('pedir', 'de', 'o'), (...  0.308308  0.605072  ...   \n",
       "2  [('prezar', 'o', 'sr'), ('o', 'sr', 'o'), ('sr...  0.520456  0.417305  ...   \n",
       "3  [('prezar', 'o', 'sr'), ('o', 'sr', 'o'), ('sr...  0.360526  0.507117  ...   \n",
       "4  [('prezar', 'prof', 'gilberto'), ('prof', 'gil...  0.674706  0.244865  ...   \n",
       "\n",
       "        758       759       760       761       762       763       764  \\\n",
       "0  0.584561  0.336162  0.482180  0.273163  0.434368  0.340332  0.491752   \n",
       "1  0.399073  0.327044  0.337716  0.229499  0.230075  0.430749  0.576797   \n",
       "2  0.384649  0.294300  0.401364  0.281565  0.367157  0.364539  0.624911   \n",
       "3  0.600001  0.231550  0.447652  0.304424  0.460164  0.288831  0.581606   \n",
       "4  0.583029  0.585966  0.295181  0.552866  0.642015  0.327959  0.653914   \n",
       "\n",
       "        765       766       767  \n",
       "0  0.372363  0.491534  0.550062  \n",
       "1  0.456070  0.527956  0.525562  \n",
       "2  0.454857  0.471248  0.505317  \n",
       "3  0.369495  0.580037  0.342662  \n",
       "4  0.290733  0.491183  0.564766  \n",
       "\n",
       "[5 rows x 776 columns]"
      ]
     },
     "execution_count": 68,
     "metadata": {},
     "output_type": "execute_result"
    }
   ],
   "source": [
    "df.head()"
   ]
  },
  {
   "cell_type": "code",
   "execution_count": 69,
   "metadata": {},
   "outputs": [
    {
     "name": "stdout",
     "output_type": "stream",
     "text": [
      "<class 'pandas.core.frame.DataFrame'>\n",
      "RangeIndex: 6000 entries, 0 to 5999\n",
      "Columns: 776 entries, index to 767\n",
      "dtypes: float64(768), int64(2), object(6)\n",
      "memory usage: 35.5+ MB\n"
     ]
    }
   ],
   "source": [
    "df.info()"
   ]
  },
  {
   "cell_type": "code",
   "execution_count": null,
   "metadata": {},
   "outputs": [],
   "source": []
  },
  {
   "cell_type": "code",
   "execution_count": 70,
   "metadata": {},
   "outputs": [],
   "source": [
    "from sklearn.model_selection import train_test_split"
   ]
  },
  {
   "cell_type": "code",
   "execution_count": 71,
   "metadata": {},
   "outputs": [],
   "source": [
    "\n",
    "X = df.iloc[:,8:]\n",
    "y = df['Class']\n",
    "X_train, X_test, y_train, y_test = train_test_split(X, y, test_size=0.2, stratify=df['Class'], random_state=seed)"
   ]
  },
  {
   "cell_type": "code",
   "execution_count": 72,
   "metadata": {},
   "outputs": [
    {
     "data": {
      "text/html": [
       "<div>\n",
       "<style scoped>\n",
       "    .dataframe tbody tr th:only-of-type {\n",
       "        vertical-align: middle;\n",
       "    }\n",
       "\n",
       "    .dataframe tbody tr th {\n",
       "        vertical-align: top;\n",
       "    }\n",
       "\n",
       "    .dataframe thead th {\n",
       "        text-align: right;\n",
       "    }\n",
       "</style>\n",
       "<table border=\"1\" class=\"dataframe\">\n",
       "  <thead>\n",
       "    <tr style=\"text-align: right;\">\n",
       "      <th></th>\n",
       "      <th>0</th>\n",
       "      <th>1</th>\n",
       "      <th>2</th>\n",
       "      <th>3</th>\n",
       "      <th>4</th>\n",
       "      <th>5</th>\n",
       "      <th>6</th>\n",
       "      <th>7</th>\n",
       "      <th>8</th>\n",
       "      <th>9</th>\n",
       "      <th>...</th>\n",
       "      <th>758</th>\n",
       "      <th>759</th>\n",
       "      <th>760</th>\n",
       "      <th>761</th>\n",
       "      <th>762</th>\n",
       "      <th>763</th>\n",
       "      <th>764</th>\n",
       "      <th>765</th>\n",
       "      <th>766</th>\n",
       "      <th>767</th>\n",
       "    </tr>\n",
       "  </thead>\n",
       "  <tbody>\n",
       "    <tr>\n",
       "      <th>0</th>\n",
       "      <td>0.427392</td>\n",
       "      <td>0.212042</td>\n",
       "      <td>0.516438</td>\n",
       "      <td>0.318693</td>\n",
       "      <td>0.333473</td>\n",
       "      <td>0.453760</td>\n",
       "      <td>0.398751</td>\n",
       "      <td>0.590207</td>\n",
       "      <td>0.548045</td>\n",
       "      <td>0.254649</td>\n",
       "      <td>...</td>\n",
       "      <td>0.584561</td>\n",
       "      <td>0.336162</td>\n",
       "      <td>0.482180</td>\n",
       "      <td>0.273163</td>\n",
       "      <td>0.434368</td>\n",
       "      <td>0.340332</td>\n",
       "      <td>0.491752</td>\n",
       "      <td>0.372363</td>\n",
       "      <td>0.491534</td>\n",
       "      <td>0.550062</td>\n",
       "    </tr>\n",
       "    <tr>\n",
       "      <th>1</th>\n",
       "      <td>0.308308</td>\n",
       "      <td>0.605072</td>\n",
       "      <td>0.438790</td>\n",
       "      <td>0.140321</td>\n",
       "      <td>0.282645</td>\n",
       "      <td>0.344609</td>\n",
       "      <td>0.344057</td>\n",
       "      <td>0.664280</td>\n",
       "      <td>0.475701</td>\n",
       "      <td>0.341812</td>\n",
       "      <td>...</td>\n",
       "      <td>0.399073</td>\n",
       "      <td>0.327044</td>\n",
       "      <td>0.337716</td>\n",
       "      <td>0.229499</td>\n",
       "      <td>0.230075</td>\n",
       "      <td>0.430749</td>\n",
       "      <td>0.576797</td>\n",
       "      <td>0.456070</td>\n",
       "      <td>0.527956</td>\n",
       "      <td>0.525562</td>\n",
       "    </tr>\n",
       "    <tr>\n",
       "      <th>2</th>\n",
       "      <td>0.520456</td>\n",
       "      <td>0.417305</td>\n",
       "      <td>0.493604</td>\n",
       "      <td>0.343242</td>\n",
       "      <td>0.373456</td>\n",
       "      <td>0.453849</td>\n",
       "      <td>0.387929</td>\n",
       "      <td>0.457754</td>\n",
       "      <td>0.480572</td>\n",
       "      <td>0.410370</td>\n",
       "      <td>...</td>\n",
       "      <td>0.384649</td>\n",
       "      <td>0.294300</td>\n",
       "      <td>0.401364</td>\n",
       "      <td>0.281565</td>\n",
       "      <td>0.367157</td>\n",
       "      <td>0.364539</td>\n",
       "      <td>0.624911</td>\n",
       "      <td>0.454857</td>\n",
       "      <td>0.471248</td>\n",
       "      <td>0.505317</td>\n",
       "    </tr>\n",
       "    <tr>\n",
       "      <th>3</th>\n",
       "      <td>0.360526</td>\n",
       "      <td>0.507117</td>\n",
       "      <td>0.409693</td>\n",
       "      <td>0.444649</td>\n",
       "      <td>0.277761</td>\n",
       "      <td>0.277426</td>\n",
       "      <td>0.246544</td>\n",
       "      <td>0.539393</td>\n",
       "      <td>0.427776</td>\n",
       "      <td>0.654609</td>\n",
       "      <td>...</td>\n",
       "      <td>0.600001</td>\n",
       "      <td>0.231550</td>\n",
       "      <td>0.447652</td>\n",
       "      <td>0.304424</td>\n",
       "      <td>0.460164</td>\n",
       "      <td>0.288831</td>\n",
       "      <td>0.581606</td>\n",
       "      <td>0.369495</td>\n",
       "      <td>0.580037</td>\n",
       "      <td>0.342662</td>\n",
       "    </tr>\n",
       "    <tr>\n",
       "      <th>4</th>\n",
       "      <td>0.674706</td>\n",
       "      <td>0.244865</td>\n",
       "      <td>0.611399</td>\n",
       "      <td>0.377804</td>\n",
       "      <td>0.260994</td>\n",
       "      <td>0.471969</td>\n",
       "      <td>0.450395</td>\n",
       "      <td>0.582794</td>\n",
       "      <td>0.486488</td>\n",
       "      <td>0.434794</td>\n",
       "      <td>...</td>\n",
       "      <td>0.583029</td>\n",
       "      <td>0.585966</td>\n",
       "      <td>0.295181</td>\n",
       "      <td>0.552866</td>\n",
       "      <td>0.642015</td>\n",
       "      <td>0.327959</td>\n",
       "      <td>0.653914</td>\n",
       "      <td>0.290733</td>\n",
       "      <td>0.491183</td>\n",
       "      <td>0.564766</td>\n",
       "    </tr>\n",
       "  </tbody>\n",
       "</table>\n",
       "<p>5 rows × 768 columns</p>\n",
       "</div>"
      ],
      "text/plain": [
       "          0         1         2         3         4         5         6  \\\n",
       "0  0.427392  0.212042  0.516438  0.318693  0.333473  0.453760  0.398751   \n",
       "1  0.308308  0.605072  0.438790  0.140321  0.282645  0.344609  0.344057   \n",
       "2  0.520456  0.417305  0.493604  0.343242  0.373456  0.453849  0.387929   \n",
       "3  0.360526  0.507117  0.409693  0.444649  0.277761  0.277426  0.246544   \n",
       "4  0.674706  0.244865  0.611399  0.377804  0.260994  0.471969  0.450395   \n",
       "\n",
       "          7         8         9  ...       758       759       760       761  \\\n",
       "0  0.590207  0.548045  0.254649  ...  0.584561  0.336162  0.482180  0.273163   \n",
       "1  0.664280  0.475701  0.341812  ...  0.399073  0.327044  0.337716  0.229499   \n",
       "2  0.457754  0.480572  0.410370  ...  0.384649  0.294300  0.401364  0.281565   \n",
       "3  0.539393  0.427776  0.654609  ...  0.600001  0.231550  0.447652  0.304424   \n",
       "4  0.582794  0.486488  0.434794  ...  0.583029  0.585966  0.295181  0.552866   \n",
       "\n",
       "        762       763       764       765       766       767  \n",
       "0  0.434368  0.340332  0.491752  0.372363  0.491534  0.550062  \n",
       "1  0.230075  0.430749  0.576797  0.456070  0.527956  0.525562  \n",
       "2  0.367157  0.364539  0.624911  0.454857  0.471248  0.505317  \n",
       "3  0.460164  0.288831  0.581606  0.369495  0.580037  0.342662  \n",
       "4  0.642015  0.327959  0.653914  0.290733  0.491183  0.564766  \n",
       "\n",
       "[5 rows x 768 columns]"
      ]
     },
     "execution_count": 72,
     "metadata": {},
     "output_type": "execute_result"
    }
   ],
   "source": [
    "X.head()"
   ]
  },
  {
   "cell_type": "code",
   "execution_count": 73,
   "metadata": {},
   "outputs": [
    {
     "data": {
      "text/plain": [
       "0    2\n",
       "1    2\n",
       "2    1\n",
       "3    1\n",
       "4    1\n",
       "Name: Class, dtype: int64"
      ]
     },
     "execution_count": 73,
     "metadata": {},
     "output_type": "execute_result"
    }
   ],
   "source": [
    "y.head()"
   ]
  },
  {
   "cell_type": "code",
   "execution_count": 74,
   "metadata": {},
   "outputs": [],
   "source": [
    "import warnings\n",
    "\n",
    "warnings.filterwarnings(\"ignore\")"
   ]
  },
  {
   "cell_type": "code",
   "execution_count": 75,
   "metadata": {},
   "outputs": [],
   "source": [
    "from sklearn.model_selection import cross_val_score"
   ]
  },
  {
   "cell_type": "code",
   "execution_count": 76,
   "metadata": {},
   "outputs": [
    {
     "name": "stdout",
     "output_type": "stream",
     "text": [
      "[0.40625    0.48125    0.4375     0.41041667 0.44166667 0.425\n",
      " 0.4625     0.4625     0.46458333 0.45208333]\n"
     ]
    },
    {
     "data": {
      "text/plain": [
       "0.4443750000000001"
      ]
     },
     "execution_count": 76,
     "metadata": {},
     "output_type": "execute_result"
    }
   ],
   "source": [
    "from sklearn import naive_bayes\n",
    "\n",
    "Naive = naive_bayes.MultinomialNB()\n",
    "\n",
    "scores = cross_val_score(Naive, X_train, y_train, cv=10)\n",
    "\n",
    "print(scores)\n",
    "scores.mean()"
   ]
  },
  {
   "cell_type": "code",
   "execution_count": 77,
   "metadata": {},
   "outputs": [
    {
     "name": "stdout",
     "output_type": "stream",
     "text": [
      "[0.5        0.50416667 0.47708333 0.51041667 0.52916667 0.47291667\n",
      " 0.48958333 0.51875    0.51458333 0.55625   ]\n"
     ]
    },
    {
     "data": {
      "text/plain": [
       "0.5072916666666667"
      ]
     },
     "execution_count": 77,
     "metadata": {},
     "output_type": "execute_result"
    }
   ],
   "source": [
    "from sklearn import svm\n",
    "\n",
    "SVM = svm.SVC(C=1.0, kernel='linear', degree=3, gamma='auto')\n",
    "\n",
    "scores = cross_val_score(SVM, X_train, y_train, cv=10)\n",
    "\n",
    "print(scores)\n",
    "scores.mean()"
   ]
  },
  {
   "cell_type": "code",
   "execution_count": 78,
   "metadata": {},
   "outputs": [
    {
     "data": {
      "text/plain": [
       "0.5175"
      ]
     },
     "execution_count": 78,
     "metadata": {},
     "output_type": "execute_result"
    }
   ],
   "source": [
    "from sklearn.metrics import accuracy_score\n",
    "\n",
    "SVM.fit(X_train, y_train)\n",
    "\n",
    "y_pred = SVM.predict(X_test)\n",
    "\n",
    "accuracy_score(y_pred=y_pred, y_true=y_test)"
   ]
  },
  {
   "cell_type": "code",
   "execution_count": 79,
   "metadata": {},
   "outputs": [
    {
     "name": "stdout",
     "output_type": "stream",
     "text": [
      "[0.53333333 0.50833333 0.54791667 0.52916667 0.5125     0.5\n",
      " 0.55625    0.54583333 0.55416667 0.50625   ]\n"
     ]
    },
    {
     "data": {
      "text/plain": [
       "0.5293749999999999"
      ]
     },
     "execution_count": 79,
     "metadata": {},
     "output_type": "execute_result"
    }
   ],
   "source": [
    "from sklearn.ensemble import RandomForestClassifier\n",
    "\n",
    "RF = RandomForestClassifier()\n",
    "scores = cross_val_score(RF, X_train, y_train, cv=10)\n",
    "\n",
    "print(scores)\n",
    "scores.mean()"
   ]
  }
 ],
 "metadata": {
  "kernelspec": {
   "display_name": "Python 3",
   "language": "python",
   "name": "python3"
  },
  "language_info": {
   "codemirror_mode": {
    "name": "ipython",
    "version": 3
   },
   "file_extension": ".py",
   "mimetype": "text/x-python",
   "name": "python",
   "nbconvert_exporter": "python",
   "pygments_lexer": "ipython3",
   "version": "3.11.4"
  }
 },
 "nbformat": 4,
 "nbformat_minor": 2
}
