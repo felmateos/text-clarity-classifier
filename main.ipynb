{
 "cells": [
  {
   "cell_type": "markdown",
   "metadata": {},
   "source": [
    "# Instruções para reproduzir os resultados do modelo final"
   ]
  },
  {
   "cell_type": "code",
   "execution_count": 42,
   "metadata": {},
   "outputs": [
    {
     "name": "stdout",
     "output_type": "stream",
     "text": [
      "Requirement already satisfied: pandas in c:\\users\\felma\\appdata\\local\\programs\\python\\python311\\lib\\site-packages (from -r requirements.txt (line 1)) (2.0.2)\n",
      "Requirement already satisfied: numpy in c:\\users\\felma\\appdata\\local\\programs\\python\\python311\\lib\\site-packages (from -r requirements.txt (line 2)) (1.25.0)\n",
      "Requirement already satisfied: nltk in c:\\users\\felma\\appdata\\local\\programs\\python\\python311\\lib\\site-packages (from -r requirements.txt (line 3)) (3.2.4)\n",
      "Requirement already satisfied: spacy in c:\\users\\felma\\appdata\\local\\programs\\python\\python311\\lib\\site-packages (from -r requirements.txt (line 4)) (3.6.1)\n",
      "Requirement already satisfied: scikit-learn in c:\\users\\felma\\appdata\\local\\programs\\python\\python311\\lib\\site-packages (from -r requirements.txt (line 5)) (1.3.0)\n",
      "Requirement already satisfied: gensim in c:\\users\\felma\\appdata\\local\\programs\\python\\python311\\lib\\site-packages (from -r requirements.txt (line 6)) (4.3.2)\n",
      "Requirement already satisfied: transformers in c:\\users\\felma\\appdata\\local\\programs\\python\\python311\\lib\\site-packages (from -r requirements.txt (line 7)) (4.33.2)\n",
      "Requirement already satisfied: python-dateutil>=2.8.2 in c:\\users\\felma\\appdata\\roaming\\python\\python311\\site-packages (from pandas->-r requirements.txt (line 1)) (2.8.2)\n",
      "Requirement already satisfied: pytz>=2020.1 in c:\\users\\felma\\appdata\\local\\programs\\python\\python311\\lib\\site-packages (from pandas->-r requirements.txt (line 1)) (2023.3)\n",
      "Requirement already satisfied: tzdata>=2022.1 in c:\\users\\felma\\appdata\\local\\programs\\python\\python311\\lib\\site-packages (from pandas->-r requirements.txt (line 1)) (2023.3)\n",
      "Requirement already satisfied: six in c:\\users\\felma\\appdata\\roaming\\python\\python311\\site-packages (from nltk->-r requirements.txt (line 3)) (1.16.0)\n",
      "Requirement already satisfied: spacy-legacy<3.1.0,>=3.0.11 in c:\\users\\felma\\appdata\\local\\programs\\python\\python311\\lib\\site-packages (from spacy->-r requirements.txt (line 4)) (3.0.12)\n",
      "Requirement already satisfied: spacy-loggers<2.0.0,>=1.0.0 in c:\\users\\felma\\appdata\\local\\programs\\python\\python311\\lib\\site-packages (from spacy->-r requirements.txt (line 4)) (1.0.4)\n",
      "Requirement already satisfied: murmurhash<1.1.0,>=0.28.0 in c:\\users\\felma\\appdata\\local\\programs\\python\\python311\\lib\\site-packages (from spacy->-r requirements.txt (line 4)) (1.0.9)\n",
      "Requirement already satisfied: cymem<2.1.0,>=2.0.2 in c:\\users\\felma\\appdata\\local\\programs\\python\\python311\\lib\\site-packages (from spacy->-r requirements.txt (line 4)) (2.0.7)\n",
      "Requirement already satisfied: preshed<3.1.0,>=3.0.2 in c:\\users\\felma\\appdata\\local\\programs\\python\\python311\\lib\\site-packages (from spacy->-r requirements.txt (line 4)) (3.0.8)\n",
      "Requirement already satisfied: thinc<8.2.0,>=8.1.8 in c:\\users\\felma\\appdata\\local\\programs\\python\\python311\\lib\\site-packages (from spacy->-r requirements.txt (line 4)) (8.1.12)\n",
      "Requirement already satisfied: wasabi<1.2.0,>=0.9.1 in c:\\users\\felma\\appdata\\local\\programs\\python\\python311\\lib\\site-packages (from spacy->-r requirements.txt (line 4)) (1.1.2)\n",
      "Requirement already satisfied: srsly<3.0.0,>=2.4.3 in c:\\users\\felma\\appdata\\local\\programs\\python\\python311\\lib\\site-packages (from spacy->-r requirements.txt (line 4)) (2.4.7)\n",
      "Requirement already satisfied: catalogue<2.1.0,>=2.0.6 in c:\\users\\felma\\appdata\\local\\programs\\python\\python311\\lib\\site-packages (from spacy->-r requirements.txt (line 4)) (2.0.9)\n",
      "Requirement already satisfied: typer<0.10.0,>=0.3.0 in c:\\users\\felma\\appdata\\local\\programs\\python\\python311\\lib\\site-packages (from spacy->-r requirements.txt (line 4)) (0.9.0)\n",
      "Requirement already satisfied: pathy>=0.10.0 in c:\\users\\felma\\appdata\\local\\programs\\python\\python311\\lib\\site-packages (from spacy->-r requirements.txt (line 4)) (0.10.2)\n",
      "Requirement already satisfied: smart-open<7.0.0,>=5.2.1 in c:\\users\\felma\\appdata\\local\\programs\\python\\python311\\lib\\site-packages (from spacy->-r requirements.txt (line 4)) (6.3.0)\n",
      "Requirement already satisfied: tqdm<5.0.0,>=4.38.0 in c:\\users\\felma\\appdata\\local\\programs\\python\\python311\\lib\\site-packages (from spacy->-r requirements.txt (line 4)) (4.66.1)\n",
      "Requirement already satisfied: requests<3.0.0,>=2.13.0 in c:\\users\\felma\\appdata\\local\\programs\\python\\python311\\lib\\site-packages (from spacy->-r requirements.txt (line 4)) (2.31.0)\n",
      "Requirement already satisfied: pydantic!=1.8,!=1.8.1,<3.0.0,>=1.7.4 in c:\\users\\felma\\appdata\\local\\programs\\python\\python311\\lib\\site-packages (from spacy->-r requirements.txt (line 4)) (2.1.1)\n",
      "Requirement already satisfied: jinja2 in c:\\users\\felma\\appdata\\local\\programs\\python\\python311\\lib\\site-packages (from spacy->-r requirements.txt (line 4)) (3.0.1)\n",
      "Requirement already satisfied: setuptools in c:\\users\\felma\\appdata\\local\\programs\\python\\python311\\lib\\site-packages (from spacy->-r requirements.txt (line 4)) (65.5.0)\n",
      "Requirement already satisfied: packaging>=20.0 in c:\\users\\felma\\appdata\\roaming\\python\\python311\\site-packages (from spacy->-r requirements.txt (line 4)) (23.1)\n",
      "Requirement already satisfied: langcodes<4.0.0,>=3.2.0 in c:\\users\\felma\\appdata\\local\\programs\\python\\python311\\lib\\site-packages (from spacy->-r requirements.txt (line 4)) (3.3.0)\n",
      "Requirement already satisfied: scipy>=1.5.0 in c:\\users\\felma\\appdata\\local\\programs\\python\\python311\\lib\\site-packages (from scikit-learn->-r requirements.txt (line 5)) (1.11.1)\n",
      "Requirement already satisfied: joblib>=1.1.1 in c:\\users\\felma\\appdata\\local\\programs\\python\\python311\\lib\\site-packages (from scikit-learn->-r requirements.txt (line 5)) (1.3.1)\n",
      "Requirement already satisfied: threadpoolctl>=2.0.0 in c:\\users\\felma\\appdata\\local\\programs\\python\\python311\\lib\\site-packages (from scikit-learn->-r requirements.txt (line 5)) (3.1.0)\n",
      "Requirement already satisfied: filelock in c:\\users\\felma\\appdata\\local\\programs\\python\\python311\\lib\\site-packages (from transformers->-r requirements.txt (line 7)) (3.12.2)\n",
      "Requirement already satisfied: huggingface-hub<1.0,>=0.15.1 in c:\\users\\felma\\appdata\\local\\programs\\python\\python311\\lib\\site-packages (from transformers->-r requirements.txt (line 7)) (0.17.1)\n",
      "Requirement already satisfied: pyyaml>=5.1 in c:\\users\\felma\\appdata\\local\\programs\\python\\python311\\lib\\site-packages (from transformers->-r requirements.txt (line 7)) (6.0.1)\n",
      "Requirement already satisfied: regex!=2019.12.17 in c:\\users\\felma\\appdata\\local\\programs\\python\\python311\\lib\\site-packages (from transformers->-r requirements.txt (line 7)) (2023.8.8)\n",
      "Requirement already satisfied: tokenizers!=0.11.3,<0.14,>=0.11.1 in c:\\users\\felma\\appdata\\local\\programs\\python\\python311\\lib\\site-packages (from transformers->-r requirements.txt (line 7)) (0.13.3)\n",
      "Requirement already satisfied: safetensors>=0.3.1 in c:\\users\\felma\\appdata\\local\\programs\\python\\python311\\lib\\site-packages (from transformers->-r requirements.txt (line 7)) (0.3.3)\n",
      "Requirement already satisfied: fsspec in c:\\users\\felma\\appdata\\local\\programs\\python\\python311\\lib\\site-packages (from huggingface-hub<1.0,>=0.15.1->transformers->-r requirements.txt (line 7)) (2023.9.1)\n",
      "Requirement already satisfied: typing-extensions>=3.7.4.3 in c:\\users\\felma\\appdata\\local\\programs\\python\\python311\\lib\\site-packages (from huggingface-hub<1.0,>=0.15.1->transformers->-r requirements.txt (line 7)) (4.8.0)\n",
      "Requirement already satisfied: annotated-types>=0.4.0 in c:\\users\\felma\\appdata\\local\\programs\\python\\python311\\lib\\site-packages (from pydantic!=1.8,!=1.8.1,<3.0.0,>=1.7.4->spacy->-r requirements.txt (line 4)) (0.5.0)\n",
      "Requirement already satisfied: pydantic-core==2.4.0 in c:\\users\\felma\\appdata\\local\\programs\\python\\python311\\lib\\site-packages (from pydantic!=1.8,!=1.8.1,<3.0.0,>=1.7.4->spacy->-r requirements.txt (line 4)) (2.4.0)\n",
      "Requirement already satisfied: charset-normalizer<4,>=2 in c:\\users\\felma\\appdata\\local\\programs\\python\\python311\\lib\\site-packages (from requests<3.0.0,>=2.13.0->spacy->-r requirements.txt (line 4)) (3.1.0)\n",
      "Requirement already satisfied: idna<4,>=2.5 in c:\\users\\felma\\appdata\\local\\programs\\python\\python311\\lib\\site-packages (from requests<3.0.0,>=2.13.0->spacy->-r requirements.txt (line 4)) (3.4)\n",
      "Requirement already satisfied: urllib3<3,>=1.21.1 in c:\\users\\felma\\appdata\\local\\programs\\python\\python311\\lib\\site-packages (from requests<3.0.0,>=2.13.0->spacy->-r requirements.txt (line 4)) (2.0.3)\n",
      "Requirement already satisfied: certifi>=2017.4.17 in c:\\users\\felma\\appdata\\local\\programs\\python\\python311\\lib\\site-packages (from requests<3.0.0,>=2.13.0->spacy->-r requirements.txt (line 4)) (2023.5.7)\n",
      "Requirement already satisfied: blis<0.8.0,>=0.7.8 in c:\\users\\felma\\appdata\\local\\programs\\python\\python311\\lib\\site-packages (from thinc<8.2.0,>=8.1.8->spacy->-r requirements.txt (line 4)) (0.7.10)\n",
      "Requirement already satisfied: confection<1.0.0,>=0.0.1 in c:\\users\\felma\\appdata\\local\\programs\\python\\python311\\lib\\site-packages (from thinc<8.2.0,>=8.1.8->spacy->-r requirements.txt (line 4)) (0.1.1)\n",
      "Requirement already satisfied: colorama in c:\\users\\felma\\appdata\\roaming\\python\\python311\\site-packages (from tqdm<5.0.0,>=4.38.0->spacy->-r requirements.txt (line 4)) (0.4.6)\n",
      "Requirement already satisfied: click<9.0.0,>=7.1.1 in c:\\users\\felma\\appdata\\local\\programs\\python\\python311\\lib\\site-packages (from typer<0.10.0,>=0.3.0->spacy->-r requirements.txt (line 4)) (8.1.6)\n",
      "Requirement already satisfied: MarkupSafe>=2.0 in c:\\users\\felma\\appdata\\local\\programs\\python\\python311\\lib\\site-packages (from jinja2->spacy->-r requirements.txt (line 4)) (2.1.3)\n"
     ]
    }
   ],
   "source": [
    "# instalar todas as bibliotecas utilizadas\n",
    "!pip install -r requirements.txt"
   ]
  },
  {
   "cell_type": "markdown",
   "metadata": {},
   "source": [
    "## 1. Pré-processar o conjunto de dados\n",
    "\n",
    "Execute o notebook jupyter 'pre_precessing_pipeline.ipynb' que está no diretório 'processing'. Você deve obter como resultado o arquivo 'esic2023_cleaned.csv' armazenado em 'data'\n",
    "\n",
    "## 2. Vetorizar conjunto de dados limpo\n",
    "\n",
    "Execute o notebook jupyter 'vectorizer.ipynb' que está no diretório 'processing'. Você deve obter como resultado os arquivos {'X_train_Tfidf.npz', 'X_test_Tfidf.npz', 'y_train.npy', 'y_test.npy'} armazenado em 'vects'\n",
    "\n",
    "## 3. Treinar o modelo de SVM\n",
    "\n",
    "Execute as células abaixo para, por fim, treinar o modelo final"
   ]
  },
  {
   "cell_type": "code",
   "execution_count": 43,
   "metadata": {},
   "outputs": [],
   "source": [
    "import numpy as np\n",
    "from scipy.sparse import load_npz\n",
    "\n",
    "from sklearn import svm\n",
    "\n",
    "from sklearn.model_selection import GridSearchCV\n",
    "\n",
    "from sklearn.model_selection import cross_val_score\n",
    "from sklearn.metrics import accuracy_score\n",
    "\n",
    "import warnings\n",
    "\n",
    "warnings.filterwarnings(\"ignore\")"
   ]
  },
  {
   "cell_type": "markdown",
   "metadata": {},
   "source": [
    "### Carregar vetores de treino e teste"
   ]
  },
  {
   "cell_type": "code",
   "execution_count": 44,
   "metadata": {},
   "outputs": [],
   "source": [
    "X_train_Tfidf = load_npz('vects/X_train_Tfidf.npz')\n",
    "X_test_Tfidf = load_npz('vects/X_test_Tfidf.npz')\n",
    "\n",
    "y_train = np.load('vects/y_train.npy', allow_pickle=True)\n",
    "y_test = np.load('vects/y_test.npy', allow_pickle=True)"
   ]
  },
  {
   "cell_type": "markdown",
   "metadata": {},
   "source": [
    "### Otimização de hiperparametros"
   ]
  },
  {
   "cell_type": "code",
   "execution_count": 45,
   "metadata": {},
   "outputs": [],
   "source": [
    "SVM = svm.SVC()"
   ]
  },
  {
   "cell_type": "code",
   "execution_count": 46,
   "metadata": {},
   "outputs": [],
   "source": [
    "param_grid = {\n",
    "    'kernel': ['linear', 'poly', 'rbf', 'sigmoid'],\n",
    "    'C': [1.0, 2.0, 3.0]\n",
    "}"
   ]
  },
  {
   "cell_type": "code",
   "execution_count": 47,
   "metadata": {},
   "outputs": [
    {
     "name": "stdout",
     "output_type": "stream",
     "text": [
      "Melhores hiperparâmetros: {'C': 2.0, 'kernel': 'rbf'}\n"
     ]
    }
   ],
   "source": [
    "grid_search = GridSearchCV(SVM, param_grid, cv=10, scoring='accuracy')\n",
    "\n",
    "grid_search.fit(X_train_Tfidf, y_train)\n",
    "\n",
    "print(\"Melhores hiperparâmetros:\", grid_search.best_params_)"
   ]
  },
  {
   "cell_type": "code",
   "execution_count": 48,
   "metadata": {},
   "outputs": [
    {
     "name": "stdout",
     "output_type": "stream",
     "text": [
      "Acurácia no conjunto de teste: 0.5816666666666667\n"
     ]
    }
   ],
   "source": [
    "accuracy = grid_search.score(X_test_Tfidf, y_test)\n",
    "print(\"Acurácia no conjunto de teste:\", accuracy)"
   ]
  },
  {
   "cell_type": "markdown",
   "metadata": {},
   "source": [
    "### Avaliação"
   ]
  },
  {
   "cell_type": "code",
   "execution_count": 49,
   "metadata": {},
   "outputs": [],
   "source": [
    "SVM = svm.SVC(**grid_search.best_params_)"
   ]
  },
  {
   "cell_type": "code",
   "execution_count": 50,
   "metadata": {},
   "outputs": [
    {
     "name": "stdout",
     "output_type": "stream",
     "text": [
      "56.55 %\n"
     ]
    }
   ],
   "source": [
    "cv_scores = cross_val_score(SVM, X_train_Tfidf, y_train, cv=10).mean()\n",
    "\n",
    "print(\"{:.2f}\".format(cv_scores*100), '%')"
   ]
  },
  {
   "cell_type": "markdown",
   "metadata": {},
   "source": [
    "### Teste"
   ]
  },
  {
   "cell_type": "code",
   "execution_count": 51,
   "metadata": {},
   "outputs": [
    {
     "name": "stdout",
     "output_type": "stream",
     "text": [
      "58.17 %\n"
     ]
    }
   ],
   "source": [
    "SVM.fit(X_train_Tfidf, y_train)\n",
    "\n",
    "y_pred = SVM.predict(X_test_Tfidf)\n",
    "\n",
    "test_scores = accuracy_score(y_pred=y_pred, y_true=y_test)\n",
    "\n",
    "print(\"{:.2f}\".format(test_scores*100), '%')"
   ]
  },
  {
   "cell_type": "markdown",
   "metadata": {},
   "source": [
    "### Armazenando modelo treinado"
   ]
  },
  {
   "cell_type": "code",
   "execution_count": 54,
   "metadata": {},
   "outputs": [],
   "source": [
    "import pickle\n",
    "\n",
    "with open('models-dump\\SVM.pkl', 'wb') as arquivo:\n",
    "    pickle.dump(SVM, arquivo)"
   ]
  }
 ],
 "metadata": {
  "kernelspec": {
   "display_name": "Python 3",
   "language": "python",
   "name": "python3"
  },
  "language_info": {
   "codemirror_mode": {
    "name": "ipython",
    "version": 3
   },
   "file_extension": ".py",
   "mimetype": "text/x-python",
   "name": "python",
   "nbconvert_exporter": "python",
   "pygments_lexer": "ipython3",
   "version": "3.11.4"
  }
 },
 "nbformat": 4,
 "nbformat_minor": 2
}
