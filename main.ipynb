{
 "cells": [
  {
   "cell_type": "code",
   "execution_count": null,
   "metadata": {},
   "outputs": [],
   "source": [
    "#!pip install -r requirements.txt"
   ]
  },
  {
   "cell_type": "code",
   "execution_count": 4,
   "metadata": {},
   "outputs": [],
   "source": [
    "import pandas as pd\n",
    "import numpy as np"
   ]
  },
  {
   "cell_type": "code",
   "execution_count": 5,
   "metadata": {},
   "outputs": [],
   "source": [
    "np.random.seed(777)"
   ]
  },
  {
   "cell_type": "code",
   "execution_count": 6,
   "metadata": {},
   "outputs": [
    {
     "data": {
      "text/html": [
       "<div>\n",
       "<style scoped>\n",
       "    .dataframe tbody tr th:only-of-type {\n",
       "        vertical-align: middle;\n",
       "    }\n",
       "\n",
       "    .dataframe tbody tr th {\n",
       "        vertical-align: top;\n",
       "    }\n",
       "\n",
       "    .dataframe thead th {\n",
       "        text-align: right;\n",
       "    }\n",
       "</style>\n",
       "<table border=\"1\" class=\"dataframe\">\n",
       "  <thead>\n",
       "    <tr style=\"text-align: right;\">\n",
       "      <th></th>\n",
       "      <th>resp_text</th>\n",
       "      <th>clarity</th>\n",
       "    </tr>\n",
       "  </thead>\n",
       "  <tbody>\n",
       "    <tr>\n",
       "      <th>0</th>\n",
       "      <td>Prezado Sr Jose Taunai  Em atenção ao seu pe...</td>\n",
       "      <td>c5</td>\n",
       "    </tr>\n",
       "    <tr>\n",
       "      <th>1</th>\n",
       "      <td>\"A pedido do Pró-Reitor de Graduação, informa...</td>\n",
       "      <td>c5</td>\n",
       "    </tr>\n",
       "    <tr>\n",
       "      <th>2</th>\n",
       "      <td>\"Prezado (a) Sr. (a), Agradecemos o contato e...</td>\n",
       "      <td>c234</td>\n",
       "    </tr>\n",
       "    <tr>\n",
       "      <th>3</th>\n",
       "      <td>\"Prezado (a) Sr. (a), Agradecemos o contato e...</td>\n",
       "      <td>c234</td>\n",
       "    </tr>\n",
       "    <tr>\n",
       "      <th>4</th>\n",
       "      <td>\"Prezado Prof. Gilberto Tadeu Reis da Silva  ...</td>\n",
       "      <td>c234</td>\n",
       "    </tr>\n",
       "  </tbody>\n",
       "</table>\n",
       "</div>"
      ],
      "text/plain": [
       "                                           resp_text clarity\n",
       "0    Prezado Sr Jose Taunai  Em atenção ao seu pe...      c5\n",
       "1   \"A pedido do Pró-Reitor de Graduação, informa...      c5\n",
       "2   \"Prezado (a) Sr. (a), Agradecemos o contato e...    c234\n",
       "3   \"Prezado (a) Sr. (a), Agradecemos o contato e...    c234\n",
       "4   \"Prezado Prof. Gilberto Tadeu Reis da Silva  ...    c234"
      ]
     },
     "execution_count": 6,
     "metadata": {},
     "output_type": "execute_result"
    }
   ],
   "source": [
    "df = pd.read_excel('datasets/ep1_esic2023_clareza_TRAIN.xlsx')\n",
    "df.head()"
   ]
  },
  {
   "cell_type": "code",
   "execution_count": 7,
   "metadata": {},
   "outputs": [
    {
     "data": {
      "text/html": [
       "<div>\n",
       "<style scoped>\n",
       "    .dataframe tbody tr th:only-of-type {\n",
       "        vertical-align: middle;\n",
       "    }\n",
       "\n",
       "    .dataframe tbody tr th {\n",
       "        vertical-align: top;\n",
       "    }\n",
       "\n",
       "    .dataframe thead th {\n",
       "        text-align: right;\n",
       "    }\n",
       "</style>\n",
       "<table border=\"1\" class=\"dataframe\">\n",
       "  <thead>\n",
       "    <tr style=\"text-align: right;\">\n",
       "      <th></th>\n",
       "      <th>resp_text</th>\n",
       "      <th>clarity</th>\n",
       "    </tr>\n",
       "  </thead>\n",
       "  <tbody>\n",
       "    <tr>\n",
       "      <th>count</th>\n",
       "      <td>6000</td>\n",
       "      <td>6000</td>\n",
       "    </tr>\n",
       "    <tr>\n",
       "      <th>unique</th>\n",
       "      <td>5626</td>\n",
       "      <td>3</td>\n",
       "    </tr>\n",
       "    <tr>\n",
       "      <th>top</th>\n",
       "      <td>Prezado(a) Senhor(a),  Sua manifestação foi a...</td>\n",
       "      <td>c5</td>\n",
       "    </tr>\n",
       "    <tr>\n",
       "      <th>freq</th>\n",
       "      <td>41</td>\n",
       "      <td>2000</td>\n",
       "    </tr>\n",
       "  </tbody>\n",
       "</table>\n",
       "</div>"
      ],
      "text/plain": [
       "                                                resp_text clarity\n",
       "count                                                6000    6000\n",
       "unique                                               5626       3\n",
       "top      Prezado(a) Senhor(a),  Sua manifestação foi a...      c5\n",
       "freq                                                   41    2000"
      ]
     },
     "execution_count": 7,
     "metadata": {},
     "output_type": "execute_result"
    }
   ],
   "source": [
    "df.describe()"
   ]
  },
  {
   "cell_type": "code",
   "execution_count": 8,
   "metadata": {},
   "outputs": [
    {
     "name": "stdout",
     "output_type": "stream",
     "text": [
      "<class 'pandas.core.frame.DataFrame'>\n",
      "RangeIndex: 6000 entries, 0 to 5999\n",
      "Data columns (total 2 columns):\n",
      " #   Column     Non-Null Count  Dtype \n",
      "---  ------     --------------  ----- \n",
      " 0   resp_text  6000 non-null   object\n",
      " 1   clarity    6000 non-null   object\n",
      "dtypes: object(2)\n",
      "memory usage: 93.9+ KB\n"
     ]
    }
   ],
   "source": [
    "df.info()"
   ]
  },
  {
   "cell_type": "markdown",
   "metadata": {},
   "source": [
    "## Pré-processamento"
   ]
  },
  {
   "cell_type": "markdown",
   "metadata": {},
   "source": [
    "### 0. Reordenar baseado no rótulo 'clarity' (opcional)"
   ]
  },
  {
   "cell_type": "code",
   "execution_count": 9,
   "metadata": {},
   "outputs": [
    {
     "data": {
      "text/html": [
       "<div>\n",
       "<style scoped>\n",
       "    .dataframe tbody tr th:only-of-type {\n",
       "        vertical-align: middle;\n",
       "    }\n",
       "\n",
       "    .dataframe tbody tr th {\n",
       "        vertical-align: top;\n",
       "    }\n",
       "\n",
       "    .dataframe thead th {\n",
       "        text-align: right;\n",
       "    }\n",
       "</style>\n",
       "<table border=\"1\" class=\"dataframe\">\n",
       "  <thead>\n",
       "    <tr style=\"text-align: right;\">\n",
       "      <th></th>\n",
       "      <th>resp_text</th>\n",
       "      <th>clarity</th>\n",
       "    </tr>\n",
       "  </thead>\n",
       "  <tbody>\n",
       "    <tr>\n",
       "      <th>0</th>\n",
       "      <td>Prezada Senhora, Informa-se que o DNIT é uma ...</td>\n",
       "      <td>c1</td>\n",
       "    </tr>\n",
       "    <tr>\n",
       "      <th>1</th>\n",
       "      <td>Prezada,   Os dados se referem somente aos na...</td>\n",
       "      <td>c1</td>\n",
       "    </tr>\n",
       "    <tr>\n",
       "      <th>2</th>\n",
       "      <td>Prezado Usuário, Inicialmente agradecemos o s...</td>\n",
       "      <td>c1</td>\n",
       "    </tr>\n",
       "    <tr>\n",
       "      <th>3</th>\n",
       "      <td>Prezada,   Referimo-nos a sua demanda, regist...</td>\n",
       "      <td>c1</td>\n",
       "    </tr>\n",
       "    <tr>\n",
       "      <th>4</th>\n",
       "      <td>Prezada,   Segue anexa a resposta da área com...</td>\n",
       "      <td>c1</td>\n",
       "    </tr>\n",
       "  </tbody>\n",
       "</table>\n",
       "</div>"
      ],
      "text/plain": [
       "                                           resp_text clarity\n",
       "0   Prezada Senhora, Informa-se que o DNIT é uma ...      c1\n",
       "1   Prezada,   Os dados se referem somente aos na...      c1\n",
       "2   Prezado Usuário, Inicialmente agradecemos o s...      c1\n",
       "3   Prezada,   Referimo-nos a sua demanda, regist...      c1\n",
       "4   Prezada,   Segue anexa a resposta da área com...      c1"
      ]
     },
     "execution_count": 9,
     "metadata": {},
     "output_type": "execute_result"
    }
   ],
   "source": [
    "df.sort_values(by='clarity', ascending=True, inplace=True, ignore_index=True)\n",
    "df.head()"
   ]
  },
  {
   "cell_type": "markdown",
   "metadata": {},
   "source": [
    "### 1. Remover linhas vazias ou nulas, se existirem"
   ]
  },
  {
   "cell_type": "code",
   "execution_count": 10,
   "metadata": {},
   "outputs": [],
   "source": [
    "df['resp_text'].dropna(inplace=True)"
   ]
  },
  {
   "cell_type": "code",
   "execution_count": 11,
   "metadata": {},
   "outputs": [
    {
     "name": "stdout",
     "output_type": "stream",
     "text": [
      "<class 'pandas.core.frame.DataFrame'>\n",
      "RangeIndex: 6000 entries, 0 to 5999\n",
      "Data columns (total 2 columns):\n",
      " #   Column     Non-Null Count  Dtype \n",
      "---  ------     --------------  ----- \n",
      " 0   resp_text  6000 non-null   object\n",
      " 1   clarity    6000 non-null   object\n",
      "dtypes: object(2)\n",
      "memory usage: 93.9+ KB\n"
     ]
    }
   ],
   "source": [
    "df.info()"
   ]
  },
  {
   "cell_type": "markdown",
   "metadata": {},
   "source": [
    "não tinhamos nenhuma linha vazia ou nula"
   ]
  },
  {
   "cell_type": "markdown",
   "metadata": {},
   "source": [
    "### 2. Mudar todas as letras para caixa baixa"
   ]
  },
  {
   "cell_type": "code",
   "execution_count": 12,
   "metadata": {},
   "outputs": [
    {
     "data": {
      "text/html": [
       "<div>\n",
       "<style scoped>\n",
       "    .dataframe tbody tr th:only-of-type {\n",
       "        vertical-align: middle;\n",
       "    }\n",
       "\n",
       "    .dataframe tbody tr th {\n",
       "        vertical-align: top;\n",
       "    }\n",
       "\n",
       "    .dataframe thead th {\n",
       "        text-align: right;\n",
       "    }\n",
       "</style>\n",
       "<table border=\"1\" class=\"dataframe\">\n",
       "  <thead>\n",
       "    <tr style=\"text-align: right;\">\n",
       "      <th></th>\n",
       "      <th>resp_text</th>\n",
       "      <th>clarity</th>\n",
       "    </tr>\n",
       "  </thead>\n",
       "  <tbody>\n",
       "    <tr>\n",
       "      <th>2240</th>\n",
       "      <td>prezado senhor,     em atenção a solicitação ...</td>\n",
       "      <td>c234</td>\n",
       "    </tr>\n",
       "  </tbody>\n",
       "</table>\n",
       "</div>"
      ],
      "text/plain": [
       "                                              resp_text clarity\n",
       "2240   prezado senhor,     em atenção a solicitação ...    c234"
      ]
     },
     "execution_count": 12,
     "metadata": {},
     "output_type": "execute_result"
    }
   ],
   "source": [
    "df['resp_text'] = [resp.lower() for resp in df['resp_text']]\n",
    "df.sample()"
   ]
  },
  {
   "cell_type": "markdown",
   "metadata": {},
   "source": [
    "### 3. Tokenização"
   ]
  },
  {
   "cell_type": "code",
   "execution_count": 13,
   "metadata": {},
   "outputs": [],
   "source": [
    "from nltk.tokenize import word_tokenize"
   ]
  },
  {
   "cell_type": "code",
   "execution_count": 14,
   "metadata": {},
   "outputs": [],
   "source": [
    "df_tokenized = df\n",
    "df_tokenized['tokens'] = [word_tokenize(resp) for resp in df['resp_text']]"
   ]
  },
  {
   "cell_type": "code",
   "execution_count": 15,
   "metadata": {},
   "outputs": [
    {
     "data": {
      "text/html": [
       "<div>\n",
       "<style scoped>\n",
       "    .dataframe tbody tr th:only-of-type {\n",
       "        vertical-align: middle;\n",
       "    }\n",
       "\n",
       "    .dataframe tbody tr th {\n",
       "        vertical-align: top;\n",
       "    }\n",
       "\n",
       "    .dataframe thead th {\n",
       "        text-align: right;\n",
       "    }\n",
       "</style>\n",
       "<table border=\"1\" class=\"dataframe\">\n",
       "  <thead>\n",
       "    <tr style=\"text-align: right;\">\n",
       "      <th></th>\n",
       "      <th>resp_text</th>\n",
       "      <th>clarity</th>\n",
       "      <th>tokens</th>\n",
       "    </tr>\n",
       "  </thead>\n",
       "  <tbody>\n",
       "    <tr>\n",
       "      <th>0</th>\n",
       "      <td>prezada senhora, informa-se que o dnit é uma ...</td>\n",
       "      <td>c1</td>\n",
       "      <td>[prezada, senhora, ,, informa-se, que, o, dnit...</td>\n",
       "    </tr>\n",
       "    <tr>\n",
       "      <th>1</th>\n",
       "      <td>prezada,   os dados se referem somente aos na...</td>\n",
       "      <td>c1</td>\n",
       "      <td>[prezada, ,, os, dados, se, referem, somente, ...</td>\n",
       "    </tr>\n",
       "    <tr>\n",
       "      <th>2</th>\n",
       "      <td>prezado usuário, inicialmente agradecemos o s...</td>\n",
       "      <td>c1</td>\n",
       "      <td>[prezado, usuário, ,, inicialmente, agradecemo...</td>\n",
       "    </tr>\n",
       "    <tr>\n",
       "      <th>3</th>\n",
       "      <td>prezada,   referimo-nos a sua demanda, regist...</td>\n",
       "      <td>c1</td>\n",
       "      <td>[prezada, ,, referimo-nos, a, sua, demanda, ,,...</td>\n",
       "    </tr>\n",
       "    <tr>\n",
       "      <th>4</th>\n",
       "      <td>prezada,   segue anexa a resposta da área com...</td>\n",
       "      <td>c1</td>\n",
       "      <td>[prezada, ,, segue, anexa, a, resposta, da, ár...</td>\n",
       "    </tr>\n",
       "    <tr>\n",
       "      <th>5</th>\n",
       "      <td>prezada,   segue anexa a resposta da área com...</td>\n",
       "      <td>c1</td>\n",
       "      <td>[prezada, ,, segue, anexa, a, resposta, da, ár...</td>\n",
       "    </tr>\n",
       "    <tr>\n",
       "      <th>6</th>\n",
       "      <td>prezada,   segue em anexo resposta da área té...</td>\n",
       "      <td>c1</td>\n",
       "      <td>[prezada, ,, segue, em, anexo, resposta, da, á...</td>\n",
       "    </tr>\n",
       "    <tr>\n",
       "      <th>7</th>\n",
       "      <td>prezado usuário, segue anexa resposta do seto...</td>\n",
       "      <td>c1</td>\n",
       "      <td>[prezado, usuário, ,, segue, anexa, resposta, ...</td>\n",
       "    </tr>\n",
       "    <tr>\n",
       "      <th>8</th>\n",
       "      <td>prezada,   segue resposta ao seu pedido de in...</td>\n",
       "      <td>c1</td>\n",
       "      <td>[prezada, ,, segue, resposta, ao, seu, pedido,...</td>\n",
       "    </tr>\n",
       "    <tr>\n",
       "      <th>9</th>\n",
       "      <td>prezado usuário, enviamos a resposta apresent...</td>\n",
       "      <td>c1</td>\n",
       "      <td>[prezado, usuário, ,, enviamos, a, resposta, a...</td>\n",
       "    </tr>\n",
       "  </tbody>\n",
       "</table>\n",
       "</div>"
      ],
      "text/plain": [
       "                                           resp_text clarity  \\\n",
       "0   prezada senhora, informa-se que o dnit é uma ...      c1   \n",
       "1   prezada,   os dados se referem somente aos na...      c1   \n",
       "2   prezado usuário, inicialmente agradecemos o s...      c1   \n",
       "3   prezada,   referimo-nos a sua demanda, regist...      c1   \n",
       "4   prezada,   segue anexa a resposta da área com...      c1   \n",
       "5   prezada,   segue anexa a resposta da área com...      c1   \n",
       "6   prezada,   segue em anexo resposta da área té...      c1   \n",
       "7   prezado usuário, segue anexa resposta do seto...      c1   \n",
       "8   prezada,   segue resposta ao seu pedido de in...      c1   \n",
       "9   prezado usuário, enviamos a resposta apresent...      c1   \n",
       "\n",
       "                                              tokens  \n",
       "0  [prezada, senhora, ,, informa-se, que, o, dnit...  \n",
       "1  [prezada, ,, os, dados, se, referem, somente, ...  \n",
       "2  [prezado, usuário, ,, inicialmente, agradecemo...  \n",
       "3  [prezada, ,, referimo-nos, a, sua, demanda, ,,...  \n",
       "4  [prezada, ,, segue, anexa, a, resposta, da, ár...  \n",
       "5  [prezada, ,, segue, anexa, a, resposta, da, ár...  \n",
       "6  [prezada, ,, segue, em, anexo, resposta, da, á...  \n",
       "7  [prezado, usuário, ,, segue, anexa, resposta, ...  \n",
       "8  [prezada, ,, segue, resposta, ao, seu, pedido,...  \n",
       "9  [prezado, usuário, ,, enviamos, a, resposta, a...  "
      ]
     },
     "execution_count": 15,
     "metadata": {},
     "output_type": "execute_result"
    }
   ],
   "source": [
    "df_tokenized.head(10)"
   ]
  },
  {
   "cell_type": "markdown",
   "metadata": {},
   "source": [
    "### 4. Lemmatização"
   ]
  },
  {
   "cell_type": "code",
   "execution_count": 16,
   "metadata": {},
   "outputs": [],
   "source": [
    "import spacy\n",
    "import os\n",
    "\n",
    "try:\n",
    "    nlp = spacy.load(\"pt_core_news_sm\")\n",
    "except Exception:\n",
    "    os.system(\"python -m spacy download pt_core_news_sm\")\n",
    "    nlp = spacy.load(\"pt_core_news_sm\")"
   ]
  },
  {
   "cell_type": "code",
   "execution_count": 17,
   "metadata": {},
   "outputs": [],
   "source": [
    "df_lemma = df\n",
    "filtered = []\n",
    "for sent in df['resp_text']:\n",
    "    sent = str(sent)\n",
    "    doc = nlp(sent)\n",
    "    temp = [token.lemma_ for token in doc if not token.is_punct]\n",
    "    temp = \" \".join(temp)\n",
    "    filtered.append(temp)"
   ]
  },
  {
   "cell_type": "code",
   "execution_count": 18,
   "metadata": {},
   "outputs": [],
   "source": [
    "df_lemma['lemma'] = filtered"
   ]
  },
  {
   "cell_type": "code",
   "execution_count": 19,
   "metadata": {},
   "outputs": [
    {
     "data": {
      "text/html": [
       "<div>\n",
       "<style scoped>\n",
       "    .dataframe tbody tr th:only-of-type {\n",
       "        vertical-align: middle;\n",
       "    }\n",
       "\n",
       "    .dataframe tbody tr th {\n",
       "        vertical-align: top;\n",
       "    }\n",
       "\n",
       "    .dataframe thead th {\n",
       "        text-align: right;\n",
       "    }\n",
       "</style>\n",
       "<table border=\"1\" class=\"dataframe\">\n",
       "  <thead>\n",
       "    <tr style=\"text-align: right;\">\n",
       "      <th></th>\n",
       "      <th>resp_text</th>\n",
       "      <th>clarity</th>\n",
       "      <th>tokens</th>\n",
       "      <th>lemma</th>\n",
       "    </tr>\n",
       "  </thead>\n",
       "  <tbody>\n",
       "    <tr>\n",
       "      <th>0</th>\n",
       "      <td>prezada senhora, informa-se que o dnit é uma ...</td>\n",
       "      <td>c1</td>\n",
       "      <td>[prezada, senhora, ,, informa-se, que, o, dnit...</td>\n",
       "      <td>prezar senhora informar se que o dnit ser um...</td>\n",
       "    </tr>\n",
       "    <tr>\n",
       "      <th>1</th>\n",
       "      <td>prezada,   os dados se referem somente aos na...</td>\n",
       "      <td>c1</td>\n",
       "      <td>[prezada, ,, os, dados, se, referem, somente, ...</td>\n",
       "      <td>prezar    o dado se referir somente a o nasc...</td>\n",
       "    </tr>\n",
       "    <tr>\n",
       "      <th>2</th>\n",
       "      <td>prezado usuário, inicialmente agradecemos o s...</td>\n",
       "      <td>c1</td>\n",
       "      <td>[prezado, usuário, ,, inicialmente, agradecemo...</td>\n",
       "      <td>prezar usuário inicialmente agradecer o seu ...</td>\n",
       "    </tr>\n",
       "    <tr>\n",
       "      <th>3</th>\n",
       "      <td>prezada,   referimo-nos a sua demanda, regist...</td>\n",
       "      <td>c1</td>\n",
       "      <td>[prezada, ,, referimo-nos, a, sua, demanda, ,,...</td>\n",
       "      <td>prezar    referimo-nos o seu demanda registr...</td>\n",
       "    </tr>\n",
       "    <tr>\n",
       "      <th>4</th>\n",
       "      <td>prezada,   segue anexa a resposta da área com...</td>\n",
       "      <td>c1</td>\n",
       "      <td>[prezada, ,, segue, anexa, a, resposta, da, ár...</td>\n",
       "      <td>prezar    seguir anexo o resposta de o área ...</td>\n",
       "    </tr>\n",
       "  </tbody>\n",
       "</table>\n",
       "</div>"
      ],
      "text/plain": [
       "                                           resp_text clarity  \\\n",
       "0   prezada senhora, informa-se que o dnit é uma ...      c1   \n",
       "1   prezada,   os dados se referem somente aos na...      c1   \n",
       "2   prezado usuário, inicialmente agradecemos o s...      c1   \n",
       "3   prezada,   referimo-nos a sua demanda, regist...      c1   \n",
       "4   prezada,   segue anexa a resposta da área com...      c1   \n",
       "\n",
       "                                              tokens  \\\n",
       "0  [prezada, senhora, ,, informa-se, que, o, dnit...   \n",
       "1  [prezada, ,, os, dados, se, referem, somente, ...   \n",
       "2  [prezado, usuário, ,, inicialmente, agradecemo...   \n",
       "3  [prezada, ,, referimo-nos, a, sua, demanda, ,,...   \n",
       "4  [prezada, ,, segue, anexa, a, resposta, da, ár...   \n",
       "\n",
       "                                               lemma  \n",
       "0    prezar senhora informar se que o dnit ser um...  \n",
       "1    prezar    o dado se referir somente a o nasc...  \n",
       "2    prezar usuário inicialmente agradecer o seu ...  \n",
       "3    prezar    referimo-nos o seu demanda registr...  \n",
       "4    prezar    seguir anexo o resposta de o área ...  "
      ]
     },
     "execution_count": 19,
     "metadata": {},
     "output_type": "execute_result"
    }
   ],
   "source": [
    "df_lemma.head()"
   ]
  },
  {
   "cell_type": "markdown",
   "metadata": {},
   "source": [
    "## Separação de treino e teste"
   ]
  },
  {
   "cell_type": "code",
   "execution_count": 20,
   "metadata": {},
   "outputs": [],
   "source": [
    "from sklearn.model_selection import train_test_split"
   ]
  },
  {
   "cell_type": "code",
   "execution_count": 21,
   "metadata": {},
   "outputs": [],
   "source": [
    "main = df_lemma\n",
    "\n",
    "X = main[['lemma']]\n",
    "y = main[['clarity']]\n",
    "X_train, X_test, y_train, y_test = train_test_split(X, y, test_size=0.3, stratify=main['clarity'])"
   ]
  },
  {
   "cell_type": "code",
   "execution_count": 22,
   "metadata": {},
   "outputs": [
    {
     "data": {
      "text/plain": [
       "<Axes: ylabel='clarity'>"
      ]
     },
     "execution_count": 22,
     "metadata": {},
     "output_type": "execute_result"
    },
    {
     "data": {
      "image/png": "[encoded data removed]",
      "text/plain": [
       "<Figure size 640x480 with 1 Axes>"
      ]
     },
     "metadata": {},
     "output_type": "display_data"
    }
   ],
   "source": [
    "y_test['clarity'].value_counts().plot(kind='barh')\n"
   ]
  },
  {
   "cell_type": "markdown",
   "metadata": {},
   "source": [
    "### Enconding do rótulo"
   ]
  },
  {
   "cell_type": "code",
   "execution_count": 23,
   "metadata": {},
   "outputs": [],
   "source": [
    "from sklearn.preprocessing import LabelEncoder"
   ]
  },
  {
   "cell_type": "code",
   "execution_count": 24,
   "metadata": {},
   "outputs": [],
   "source": [
    "import warnings\n",
    "\n",
    "warnings.filterwarnings(\"ignore\")\n",
    "\n",
    "Encoder = LabelEncoder()\n",
    "\n",
    "y_train = Encoder.fit_transform(y_train)\n",
    "y_test = Encoder.fit_transform(y_test)"
   ]
  },
  {
   "cell_type": "markdown",
   "metadata": {},
   "source": [
    "## Vetorização de palavras"
   ]
  },
  {
   "cell_type": "code",
   "execution_count": 25,
   "metadata": {},
   "outputs": [],
   "source": [
    "from sklearn.feature_extraction.text import TfidfVectorizer"
   ]
  },
  {
   "cell_type": "code",
   "execution_count": 26,
   "metadata": {},
   "outputs": [],
   "source": [
    "Tfidf_vect = TfidfVectorizer(max_features=5000)\n",
    "Tfidf_vect.fit(main['lemma'])\n",
    "\n",
    "X_train_Tfidf = Tfidf_vect.transform(X_train['lemma'])\n",
    "X_test_Tfidf = Tfidf_vect.transform(X_test['lemma'])"
   ]
  },
  {
   "cell_type": "markdown",
   "metadata": {},
   "source": [
    "### Naive Bayes"
   ]
  },
  {
   "cell_type": "code",
   "execution_count": 27,
   "metadata": {},
   "outputs": [],
   "source": [
    "from sklearn.model_selection import cross_val_score"
   ]
  },
  {
   "cell_type": "code",
   "execution_count": 28,
   "metadata": {},
   "outputs": [
    {
     "name": "stdout",
     "output_type": "stream",
     "text": [
      "[0.55       0.51428571 0.53809524 0.50952381 0.52142857 0.56666667\n",
      " 0.52857143 0.58333333 0.53333333 0.55714286]\n"
     ]
    },
    {
     "data": {
      "text/plain": [
       "0.5402380952380952"
      ]
     },
     "execution_count": 28,
     "metadata": {},
     "output_type": "execute_result"
    }
   ],
   "source": [
    "from sklearn import naive_bayes\n",
    "\n",
    "Naive = naive_bayes.MultinomialNB()\n",
    "\n",
    "scores = cross_val_score(Naive, X_train_Tfidf, y_train, cv=10)\n",
    "\n",
    "print(scores)\n",
    "scores.mean()"
   ]
  },
  {
   "cell_type": "markdown",
   "metadata": {},
   "source": [
    "mto ruim eu acho"
   ]
  },
  {
   "cell_type": "markdown",
   "metadata": {},
   "source": [
    "### SVM"
   ]
  },
  {
   "cell_type": "code",
   "execution_count": 29,
   "metadata": {},
   "outputs": [
    {
     "name": "stdout",
     "output_type": "stream",
     "text": [
      "[0.5452381  0.54285714 0.55       0.53809524 0.56666667 0.61428571\n",
      " 0.58809524 0.62142857 0.55952381 0.57619048]\n"
     ]
    },
    {
     "data": {
      "text/plain": [
       "0.5702380952380952"
      ]
     },
     "execution_count": 29,
     "metadata": {},
     "output_type": "execute_result"
    }
   ],
   "source": [
    "from sklearn import svm\n",
    "\n",
    "SVM = svm.SVC(C=1.0, kernel='linear', degree=3, gamma='auto')\n",
    "\n",
    "scores = cross_val_score(SVM, X_train_Tfidf, y_train, cv=10)\n",
    "\n",
    "print(scores)\n",
    "scores.mean()"
   ]
  },
  {
   "cell_type": "code",
   "execution_count": 30,
   "metadata": {},
   "outputs": [
    {
     "data": {
      "text/plain": [
       "0.5627777777777778"
      ]
     },
     "execution_count": 30,
     "metadata": {},
     "output_type": "execute_result"
    }
   ],
   "source": [
    "from sklearn.metrics import accuracy_score\n",
    "\n",
    "SVM.fit(X_train_Tfidf, y_train)\n",
    "\n",
    "y_pred = SVM.predict(X_test_Tfidf)\n",
    "\n",
    "accuracy_score(y_pred=y_pred, y_true=y_test)"
   ]
  },
  {
   "cell_type": "markdown",
   "metadata": {},
   "source": [
    "não tão mlr assim, ctz que tem algo errado"
   ]
  },
  {
   "cell_type": "markdown",
   "metadata": {},
   "source": [
    "### Random Forest"
   ]
  },
  {
   "cell_type": "code",
   "execution_count": 31,
   "metadata": {},
   "outputs": [
    {
     "name": "stdout",
     "output_type": "stream",
     "text": [
      "[0.5452381  0.51904762 0.56190476 0.55952381 0.5452381  0.56666667\n",
      " 0.58809524 0.62619048 0.5547619  0.6       ]\n"
     ]
    },
    {
     "data": {
      "text/plain": [
       "0.5666666666666667"
      ]
     },
     "execution_count": 31,
     "metadata": {},
     "output_type": "execute_result"
    }
   ],
   "source": [
    "from sklearn.ensemble import RandomForestClassifier\n",
    "\n",
    "RF = RandomForestClassifier()\n",
    "scores = cross_val_score(RF, X_train_Tfidf, y_train, cv=10)\n",
    "\n",
    "print(scores)\n",
    "scores.mean()\n"
   ]
  },
  {
   "cell_type": "markdown",
   "metadata": {},
   "source": [
    "meio fezes tbm"
   ]
  },
  {
   "cell_type": "code",
   "execution_count": 32,
   "metadata": {},
   "outputs": [
    {
     "name": "stdout",
     "output_type": "stream",
     "text": [
      "0.5527777777777778\n"
     ]
    }
   ],
   "source": [
    "RF.fit(X_train_Tfidf, y_train)\n",
    "result = RF.score(X_test_Tfidf, y_test)\n",
    "print(result)"
   ]
  },
  {
   "cell_type": "markdown",
   "metadata": {},
   "source": [
    "# Grid Search"
   ]
  },
  {
   "cell_type": "code",
   "execution_count": 33,
   "metadata": {},
   "outputs": [],
   "source": [
    "from sklearn.model_selection import GridSearchCV"
   ]
  },
  {
   "cell_type": "code",
   "execution_count": 44,
   "metadata": {},
   "outputs": [],
   "source": [
    "param_grid = {\n",
    "    'kernel': ['linear', 'poly', 'rbf', 'sigmoid'],\n",
    "    'C': [1.0, 2.0, 3.0]\n",
    "}"
   ]
  },
  {
   "cell_type": "code",
   "execution_count": 45,
   "metadata": {},
   "outputs": [
    {
     "name": "stdout",
     "output_type": "stream",
     "text": [
      "Melhores hiperparâmetros: {'C': 1.0, 'kernel': 'linear'}\n"
     ]
    }
   ],
   "source": [
    "grid_search = GridSearchCV(SVM, param_grid, cv=10, scoring='accuracy')\n",
    "\n",
    "grid_search.fit(X_train_Tfidf, y_train)\n",
    "\n",
    "print(\"Melhores hiperparâmetros:\", grid_search.best_params_)"
   ]
  },
  {
   "cell_type": "code",
   "execution_count": 46,
   "metadata": {},
   "outputs": [
    {
     "name": "stdout",
     "output_type": "stream",
     "text": [
      "Acurácia no conjunto de teste: 0.5627777777777778\n"
     ]
    }
   ],
   "source": [
    "accuracy = grid_search.score(X_test_Tfidf, y_test)\n",
    "print(\"Acurácia no conjunto de teste:\", accuracy)"
   ]
  },
  {
   "cell_type": "markdown",
   "metadata": {},
   "source": [
    "## Relação entre tamanho do texto e claridade"
   ]
  },
  {
   "cell_type": "code",
   "execution_count": 35,
   "metadata": {},
   "outputs": [
    {
     "data": {
      "text/plain": [
       "-0.10332829414456454"
      ]
     },
     "execution_count": 35,
     "metadata": {},
     "output_type": "execute_result"
    }
   ],
   "source": [
    "text_size = df['resp_text'].str.len()\n",
    "df['text_size'] = text_size\n",
    "df['clarity_new'] = df['clarity'].replace(['c1', 'c234', 'c5'], [0,1,2])\n",
    "df['clarity_new'] = df['clarity_new'].astype('int64')\n",
    "df['clarity_new'].corr(df['text_size'])"
   ]
  },
  {
   "cell_type": "markdown",
   "metadata": {},
   "source": [
    "legal, n tem correlaçãokkkkk"
   ]
  },
  {
   "cell_type": "code",
   "execution_count": 36,
   "metadata": {},
   "outputs": [],
   "source": [
    "df = df[['resp_text', 'clarity']]"
   ]
  }
 ],
 "metadata": {
  "kernelspec": {
   "display_name": "Python 3",
   "language": "python",
   "name": "python3"
  },
  "language_info": {
   "codemirror_mode": {
    "name": "ipython",
    "version": 3
   },
   "file_extension": ".py",
   "mimetype": "text/x-python",
   "name": "python",
   "nbconvert_exporter": "python",
   "pygments_lexer": "ipython3",
   "version": "3.11.4"
  }
 },
 "nbformat": 4,
 "nbformat_minor": 2
}
