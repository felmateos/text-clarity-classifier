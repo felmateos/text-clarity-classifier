{
 "cells": [
  {
   "cell_type": "code",
   "execution_count": 1,
   "metadata": {},
   "outputs": [
    {
     "name": "stdout",
     "output_type": "stream",
     "text": [
      "Requirement already satisfied: pandas in c:\\users\\felma\\appdata\\local\\programs\\python\\python311\\lib\\site-packages (from -r requirements.txt (line 1)) (2.0.2)\n",
      "Requirement already satisfied: numpy in c:\\users\\felma\\appdata\\local\\programs\\python\\python311\\lib\\site-packages (from -r requirements.txt (line 2)) (1.25.0)\n",
      "Requirement already satisfied: nltk in c:\\users\\felma\\appdata\\local\\programs\\python\\python311\\lib\\site-packages (from -r requirements.txt (line 3)) (3.2.4)\n",
      "Requirement already satisfied: spacy in c:\\users\\felma\\appdata\\local\\programs\\python\\python311\\lib\\site-packages (from -r requirements.txt (line 4)) (3.6.1)\n",
      "Requirement already satisfied: scikit-learn in c:\\users\\felma\\appdata\\local\\programs\\python\\python311\\lib\\site-packages (from -r requirements.txt (line 5)) (1.3.0)\n",
      "Requirement already satisfied: gensim in c:\\users\\felma\\appdata\\local\\programs\\python\\python311\\lib\\site-packages (from -r requirements.txt (line 6)) (4.3.2)\n",
      "Requirement already satisfied: transformers in c:\\users\\felma\\appdata\\local\\programs\\python\\python311\\lib\\site-packages (from -r requirements.txt (line 7)) (4.33.2)\n",
      "Requirement already satisfied: python-dateutil>=2.8.2 in c:\\users\\felma\\appdata\\roaming\\python\\python311\\site-packages (from pandas->-r requirements.txt (line 1)) (2.8.2)\n",
      "Requirement already satisfied: pytz>=2020.1 in c:\\users\\felma\\appdata\\local\\programs\\python\\python311\\lib\\site-packages (from pandas->-r requirements.txt (line 1)) (2023.3)\n",
      "Requirement already satisfied: tzdata>=2022.1 in c:\\users\\felma\\appdata\\local\\programs\\python\\python311\\lib\\site-packages (from pandas->-r requirements.txt (line 1)) (2023.3)\n",
      "Requirement already satisfied: six in c:\\users\\felma\\appdata\\roaming\\python\\python311\\site-packages (from nltk->-r requirements.txt (line 3)) (1.16.0)\n",
      "Requirement already satisfied: spacy-legacy<3.1.0,>=3.0.11 in c:\\users\\felma\\appdata\\local\\programs\\python\\python311\\lib\\site-packages (from spacy->-r requirements.txt (line 4)) (3.0.12)\n",
      "Requirement already satisfied: spacy-loggers<2.0.0,>=1.0.0 in c:\\users\\felma\\appdata\\local\\programs\\python\\python311\\lib\\site-packages (from spacy->-r requirements.txt (line 4)) (1.0.4)\n",
      "Requirement already satisfied: murmurhash<1.1.0,>=0.28.0 in c:\\users\\felma\\appdata\\local\\programs\\python\\python311\\lib\\site-packages (from spacy->-r requirements.txt (line 4)) (1.0.9)\n",
      "Requirement already satisfied: cymem<2.1.0,>=2.0.2 in c:\\users\\felma\\appdata\\local\\programs\\python\\python311\\lib\\site-packages (from spacy->-r requirements.txt (line 4)) (2.0.7)\n",
      "Requirement already satisfied: preshed<3.1.0,>=3.0.2 in c:\\users\\felma\\appdata\\local\\programs\\python\\python311\\lib\\site-packages (from spacy->-r requirements.txt (line 4)) (3.0.8)\n",
      "Requirement already satisfied: thinc<8.2.0,>=8.1.8 in c:\\users\\felma\\appdata\\local\\programs\\python\\python311\\lib\\site-packages (from spacy->-r requirements.txt (line 4)) (8.1.12)\n",
      "Requirement already satisfied: wasabi<1.2.0,>=0.9.1 in c:\\users\\felma\\appdata\\local\\programs\\python\\python311\\lib\\site-packages (from spacy->-r requirements.txt (line 4)) (1.1.2)\n",
      "Requirement already satisfied: srsly<3.0.0,>=2.4.3 in c:\\users\\felma\\appdata\\local\\programs\\python\\python311\\lib\\site-packages (from spacy->-r requirements.txt (line 4)) (2.4.7)\n",
      "Requirement already satisfied: catalogue<2.1.0,>=2.0.6 in c:\\users\\felma\\appdata\\local\\programs\\python\\python311\\lib\\site-packages (from spacy->-r requirements.txt (line 4)) (2.0.9)\n",
      "Requirement already satisfied: typer<0.10.0,>=0.3.0 in c:\\users\\felma\\appdata\\local\\programs\\python\\python311\\lib\\site-packages (from spacy->-r requirements.txt (line 4)) (0.9.0)\n",
      "Requirement already satisfied: pathy>=0.10.0 in c:\\users\\felma\\appdata\\local\\programs\\python\\python311\\lib\\site-packages (from spacy->-r requirements.txt (line 4)) (0.10.2)\n",
      "Requirement already satisfied: smart-open<7.0.0,>=5.2.1 in c:\\users\\felma\\appdata\\local\\programs\\python\\python311\\lib\\site-packages (from spacy->-r requirements.txt (line 4)) (6.3.0)\n",
      "Requirement already satisfied: tqdm<5.0.0,>=4.38.0 in c:\\users\\felma\\appdata\\local\\programs\\python\\python311\\lib\\site-packages (from spacy->-r requirements.txt (line 4)) (4.66.1)\n",
      "Requirement already satisfied: requests<3.0.0,>=2.13.0 in c:\\users\\felma\\appdata\\local\\programs\\python\\python311\\lib\\site-packages (from spacy->-r requirements.txt (line 4)) (2.31.0)\n",
      "Requirement already satisfied: pydantic!=1.8,!=1.8.1,<3.0.0,>=1.7.4 in c:\\users\\felma\\appdata\\local\\programs\\python\\python311\\lib\\site-packages (from spacy->-r requirements.txt (line 4)) (2.1.1)\n",
      "Requirement already satisfied: jinja2 in c:\\users\\felma\\appdata\\local\\programs\\python\\python311\\lib\\site-packages (from spacy->-r requirements.txt (line 4)) (3.0.1)\n",
      "Requirement already satisfied: setuptools in c:\\users\\felma\\appdata\\local\\programs\\python\\python311\\lib\\site-packages (from spacy->-r requirements.txt (line 4)) (65.5.0)\n",
      "Requirement already satisfied: packaging>=20.0 in c:\\users\\felma\\appdata\\roaming\\python\\python311\\site-packages (from spacy->-r requirements.txt (line 4)) (23.1)\n",
      "Requirement already satisfied: langcodes<4.0.0,>=3.2.0 in c:\\users\\felma\\appdata\\local\\programs\\python\\python311\\lib\\site-packages (from spacy->-r requirements.txt (line 4)) (3.3.0)\n",
      "Requirement already satisfied: scipy>=1.5.0 in c:\\users\\felma\\appdata\\local\\programs\\python\\python311\\lib\\site-packages (from scikit-learn->-r requirements.txt (line 5)) (1.11.1)\n",
      "Requirement already satisfied: joblib>=1.1.1 in c:\\users\\felma\\appdata\\local\\programs\\python\\python311\\lib\\site-packages (from scikit-learn->-r requirements.txt (line 5)) (1.3.1)\n",
      "Requirement already satisfied: threadpoolctl>=2.0.0 in c:\\users\\felma\\appdata\\local\\programs\\python\\python311\\lib\\site-packages (from scikit-learn->-r requirements.txt (line 5)) (3.1.0)\n",
      "Requirement already satisfied: filelock in c:\\users\\felma\\appdata\\local\\programs\\python\\python311\\lib\\site-packages (from transformers->-r requirements.txt (line 7)) (3.12.2)\n",
      "Requirement already satisfied: huggingface-hub<1.0,>=0.15.1 in c:\\users\\felma\\appdata\\local\\programs\\python\\python311\\lib\\site-packages (from transformers->-r requirements.txt (line 7)) (0.17.1)\n",
      "Requirement already satisfied: pyyaml>=5.1 in c:\\users\\felma\\appdata\\local\\programs\\python\\python311\\lib\\site-packages (from transformers->-r requirements.txt (line 7)) (6.0.1)\n",
      "Requirement already satisfied: regex!=2019.12.17 in c:\\users\\felma\\appdata\\local\\programs\\python\\python311\\lib\\site-packages (from transformers->-r requirements.txt (line 7)) (2023.8.8)\n",
      "Requirement already satisfied: tokenizers!=0.11.3,<0.14,>=0.11.1 in c:\\users\\felma\\appdata\\local\\programs\\python\\python311\\lib\\site-packages (from transformers->-r requirements.txt (line 7)) (0.13.3)\n",
      "Requirement already satisfied: safetensors>=0.3.1 in c:\\users\\felma\\appdata\\local\\programs\\python\\python311\\lib\\site-packages (from transformers->-r requirements.txt (line 7)) (0.3.3)\n",
      "Requirement already satisfied: fsspec in c:\\users\\felma\\appdata\\local\\programs\\python\\python311\\lib\\site-packages (from huggingface-hub<1.0,>=0.15.1->transformers->-r requirements.txt (line 7)) (2023.9.1)\n",
      "Requirement already satisfied: typing-extensions>=3.7.4.3 in c:\\users\\felma\\appdata\\local\\programs\\python\\python311\\lib\\site-packages (from huggingface-hub<1.0,>=0.15.1->transformers->-r requirements.txt (line 7)) (4.8.0)\n",
      "Requirement already satisfied: annotated-types>=0.4.0 in c:\\users\\felma\\appdata\\local\\programs\\python\\python311\\lib\\site-packages (from pydantic!=1.8,!=1.8.1,<3.0.0,>=1.7.4->spacy->-r requirements.txt (line 4)) (0.5.0)\n",
      "Requirement already satisfied: pydantic-core==2.4.0 in c:\\users\\felma\\appdata\\local\\programs\\python\\python311\\lib\\site-packages (from pydantic!=1.8,!=1.8.1,<3.0.0,>=1.7.4->spacy->-r requirements.txt (line 4)) (2.4.0)\n",
      "Requirement already satisfied: charset-normalizer<4,>=2 in c:\\users\\felma\\appdata\\local\\programs\\python\\python311\\lib\\site-packages (from requests<3.0.0,>=2.13.0->spacy->-r requirements.txt (line 4)) (3.1.0)\n",
      "Requirement already satisfied: idna<4,>=2.5 in c:\\users\\felma\\appdata\\local\\programs\\python\\python311\\lib\\site-packages (from requests<3.0.0,>=2.13.0->spacy->-r requirements.txt (line 4)) (3.4)\n",
      "Requirement already satisfied: urllib3<3,>=1.21.1 in c:\\users\\felma\\appdata\\local\\programs\\python\\python311\\lib\\site-packages (from requests<3.0.0,>=2.13.0->spacy->-r requirements.txt (line 4)) (2.0.3)\n",
      "Requirement already satisfied: certifi>=2017.4.17 in c:\\users\\felma\\appdata\\local\\programs\\python\\python311\\lib\\site-packages (from requests<3.0.0,>=2.13.0->spacy->-r requirements.txt (line 4)) (2023.5.7)\n",
      "Requirement already satisfied: blis<0.8.0,>=0.7.8 in c:\\users\\felma\\appdata\\local\\programs\\python\\python311\\lib\\site-packages (from thinc<8.2.0,>=8.1.8->spacy->-r requirements.txt (line 4)) (0.7.10)\n",
      "Requirement already satisfied: confection<1.0.0,>=0.0.1 in c:\\users\\felma\\appdata\\local\\programs\\python\\python311\\lib\\site-packages (from thinc<8.2.0,>=8.1.8->spacy->-r requirements.txt (line 4)) (0.1.1)\n",
      "Requirement already satisfied: colorama in c:\\users\\felma\\appdata\\roaming\\python\\python311\\site-packages (from tqdm<5.0.0,>=4.38.0->spacy->-r requirements.txt (line 4)) (0.4.6)\n",
      "Requirement already satisfied: click<9.0.0,>=7.1.1 in c:\\users\\felma\\appdata\\local\\programs\\python\\python311\\lib\\site-packages (from typer<0.10.0,>=0.3.0->spacy->-r requirements.txt (line 4)) (8.1.6)\n",
      "Requirement already satisfied: MarkupSafe>=2.0 in c:\\users\\felma\\appdata\\local\\programs\\python\\python311\\lib\\site-packages (from jinja2->spacy->-r requirements.txt (line 4)) (2.1.3)\n"
     ]
    }
   ],
   "source": [
    "!pip install -r requirements.txt"
   ]
  },
  {
   "cell_type": "code",
   "execution_count": 2,
   "metadata": {},
   "outputs": [
    {
     "name": "stderr",
     "output_type": "stream",
     "text": [
      "c:\\Users\\felma\\AppData\\Local\\Programs\\Python\\Python311\\Lib\\site-packages\\tqdm\\auto.py:21: TqdmWarning: IProgress not found. Please update jupyter and ipywidgets. See https://ipywidgets.readthedocs.io/en/stable/user_install.html\n",
      "  from .autonotebook import tqdm as notebook_tqdm\n"
     ]
    }
   ],
   "source": [
    "import random\n",
    "import torch\n",
    "from transformers import BertTokenizer, BertModel\n",
    "from sklearn.metrics.pairwise import cosine_similarity\n",
    "import pandas as pd"
   ]
  },
  {
   "cell_type": "code",
   "execution_count": 3,
   "metadata": {},
   "outputs": [],
   "source": [
    "seed = 777\n",
    "random.seed(seed)\n",
    "\n",
    "torch.manual_seed(seed)\n",
    "if torch.cuda.is_available():\n",
    "    torch.cuda.manual_seed_all(seed)"
   ]
  },
  {
   "cell_type": "code",
   "execution_count": 4,
   "metadata": {},
   "outputs": [
    {
     "name": "stdout",
     "output_type": "stream",
     "text": [
      "True\n"
     ]
    }
   ],
   "source": [
    "import torch\n",
    " \n",
    "print(torch.cuda.is_available())"
   ]
  },
  {
   "cell_type": "code",
   "execution_count": 5,
   "metadata": {},
   "outputs": [
    {
     "name": "stdout",
     "output_type": "stream",
     "text": [
      "True\n",
      "CUDA version: 11.8\n",
      "0\n",
      "NVIDIA GeForce RTX 3050 Laptop GPU\n"
     ]
    }
   ],
   "source": [
    "import torch\n",
    "\n",
    "print(torch.cuda.is_available())\n",
    "print(f\"CUDA version: {torch.version.cuda}\")\n",
    "\n",
    "# Storing ID of current CUDA device\n",
    "cuda_id = torch.cuda.current_device()\n",
    "print(torch.cuda.current_device())\n",
    "\t\n",
    "print(torch.cuda.get_device_name(cuda_id))\n"
   ]
  },
  {
   "cell_type": "code",
   "execution_count": 6,
   "metadata": {},
   "outputs": [],
   "source": [
    "model = BertModel.from_pretrained('bert-base-uncased')\n",
    "tokenizer = BertTokenizer.from_pretrained('bert-base-uncased')"
   ]
  },
  {
   "cell_type": "code",
   "execution_count": 7,
   "metadata": {},
   "outputs": [],
   "source": [
    "device = 'cuda' if torch.cuda.is_available() else 'cpu'\n",
    "model = model.to(device)"
   ]
  },
  {
   "cell_type": "code",
   "execution_count": 8,
   "metadata": {},
   "outputs": [
    {
     "data": {
      "text/html": [
       "<div>\n",
       "<style scoped>\n",
       "    .dataframe tbody tr th:only-of-type {\n",
       "        vertical-align: middle;\n",
       "    }\n",
       "\n",
       "    .dataframe tbody tr th {\n",
       "        vertical-align: top;\n",
       "    }\n",
       "\n",
       "    .dataframe thead th {\n",
       "        text-align: right;\n",
       "    }\n",
       "</style>\n",
       "<table border=\"1\" class=\"dataframe\">\n",
       "  <thead>\n",
       "    <tr style=\"text-align: right;\">\n",
       "      <th></th>\n",
       "      <th>Unnamed: 0</th>\n",
       "      <th>resp_text</th>\n",
       "      <th>clarity</th>\n",
       "      <th>Class</th>\n",
       "      <th>tokens</th>\n",
       "      <th>lemma</th>\n",
       "      <th>ngram2</th>\n",
       "      <th>ngram3</th>\n",
       "    </tr>\n",
       "  </thead>\n",
       "  <tbody>\n",
       "    <tr>\n",
       "      <th>0</th>\n",
       "      <td>0</td>\n",
       "      <td>Prezado Sr Jose Taunai  Em atenção ao seu pe...</td>\n",
       "      <td>c5</td>\n",
       "      <td>2</td>\n",
       "      <td>['prezado', 'sr', 'jose', 'taunai', 'em', 'ate...</td>\n",
       "      <td>prezar sr jose taunai em atenção a o seu pedir...</td>\n",
       "      <td>[('prezar', 'sr'), ('sr', 'jose'), ('jose', 't...</td>\n",
       "      <td>[('prezar', 'sr', 'jose'), ('sr', 'jose', 'tau...</td>\n",
       "    </tr>\n",
       "    <tr>\n",
       "      <th>1</th>\n",
       "      <td>1</td>\n",
       "      <td>\"A pedido do Pró-Reitor de Graduação, informa...</td>\n",
       "      <td>c5</td>\n",
       "      <td>2</td>\n",
       "      <td>['a', 'pedido', 'do', 'próreitor', 'de', 'grad...</td>\n",
       "      <td>o pedir de o próreitor de graduação informamo ...</td>\n",
       "      <td>[('o', 'pedir'), ('pedir', 'de'), ('de', 'o'),...</td>\n",
       "      <td>[('o', 'pedir', 'de'), ('pedir', 'de', 'o'), (...</td>\n",
       "    </tr>\n",
       "    <tr>\n",
       "      <th>2</th>\n",
       "      <td>2</td>\n",
       "      <td>\"Prezado (a) Sr. (a), Agradecemos o contato e...</td>\n",
       "      <td>c234</td>\n",
       "      <td>1</td>\n",
       "      <td>['prezado', 'a', 'sr', 'a', 'agradecemos', 'o'...</td>\n",
       "      <td>prezar o sr o agradecer o contato e informamo ...</td>\n",
       "      <td>[('prezar', 'o'), ('o', 'sr'), ('sr', 'o'), ('...</td>\n",
       "      <td>[('prezar', 'o', 'sr'), ('o', 'sr', 'o'), ('sr...</td>\n",
       "    </tr>\n",
       "    <tr>\n",
       "      <th>3</th>\n",
       "      <td>3</td>\n",
       "      <td>\"Prezado (a) Sr. (a), Agradecemos o contato e...</td>\n",
       "      <td>c234</td>\n",
       "      <td>1</td>\n",
       "      <td>['prezado', 'a', 'sr', 'a', 'agradecemos', 'o'...</td>\n",
       "      <td>prezar o sr o agradecer o contato e informamo ...</td>\n",
       "      <td>[('prezar', 'o'), ('o', 'sr'), ('sr', 'o'), ('...</td>\n",
       "      <td>[('prezar', 'o', 'sr'), ('o', 'sr', 'o'), ('sr...</td>\n",
       "    </tr>\n",
       "    <tr>\n",
       "      <th>4</th>\n",
       "      <td>4</td>\n",
       "      <td>\"Prezado Prof. Gilberto Tadeu Reis da Silva  ...</td>\n",
       "      <td>c234</td>\n",
       "      <td>1</td>\n",
       "      <td>['prezado', 'prof', 'gilberto', 'tadeu', 'reis...</td>\n",
       "      <td>prezar prof gilberto tader rei de o Silva em a...</td>\n",
       "      <td>[('prezar', 'prof'), ('prof', 'gilberto'), ('g...</td>\n",
       "      <td>[('prezar', 'prof', 'gilberto'), ('prof', 'gil...</td>\n",
       "    </tr>\n",
       "  </tbody>\n",
       "</table>\n",
       "</div>"
      ],
      "text/plain": [
       "   Unnamed: 0                                          resp_text clarity  \\\n",
       "0           0    Prezado Sr Jose Taunai  Em atenção ao seu pe...      c5   \n",
       "1           1   \"A pedido do Pró-Reitor de Graduação, informa...      c5   \n",
       "2           2   \"Prezado (a) Sr. (a), Agradecemos o contato e...    c234   \n",
       "3           3   \"Prezado (a) Sr. (a), Agradecemos o contato e...    c234   \n",
       "4           4   \"Prezado Prof. Gilberto Tadeu Reis da Silva  ...    c234   \n",
       "\n",
       "   Class                                             tokens  \\\n",
       "0      2  ['prezado', 'sr', 'jose', 'taunai', 'em', 'ate...   \n",
       "1      2  ['a', 'pedido', 'do', 'próreitor', 'de', 'grad...   \n",
       "2      1  ['prezado', 'a', 'sr', 'a', 'agradecemos', 'o'...   \n",
       "3      1  ['prezado', 'a', 'sr', 'a', 'agradecemos', 'o'...   \n",
       "4      1  ['prezado', 'prof', 'gilberto', 'tadeu', 'reis...   \n",
       "\n",
       "                                               lemma  \\\n",
       "0  prezar sr jose taunai em atenção a o seu pedir...   \n",
       "1  o pedir de o próreitor de graduação informamo ...   \n",
       "2  prezar o sr o agradecer o contato e informamo ...   \n",
       "3  prezar o sr o agradecer o contato e informamo ...   \n",
       "4  prezar prof gilberto tader rei de o Silva em a...   \n",
       "\n",
       "                                              ngram2  \\\n",
       "0  [('prezar', 'sr'), ('sr', 'jose'), ('jose', 't...   \n",
       "1  [('o', 'pedir'), ('pedir', 'de'), ('de', 'o'),...   \n",
       "2  [('prezar', 'o'), ('o', 'sr'), ('sr', 'o'), ('...   \n",
       "3  [('prezar', 'o'), ('o', 'sr'), ('sr', 'o'), ('...   \n",
       "4  [('prezar', 'prof'), ('prof', 'gilberto'), ('g...   \n",
       "\n",
       "                                              ngram3  \n",
       "0  [('prezar', 'sr', 'jose'), ('sr', 'jose', 'tau...  \n",
       "1  [('o', 'pedir', 'de'), ('pedir', 'de', 'o'), (...  \n",
       "2  [('prezar', 'o', 'sr'), ('o', 'sr', 'o'), ('sr...  \n",
       "3  [('prezar', 'o', 'sr'), ('o', 'sr', 'o'), ('sr...  \n",
       "4  [('prezar', 'prof', 'gilberto'), ('prof', 'gil...  "
      ]
     },
     "execution_count": 8,
     "metadata": {},
     "output_type": "execute_result"
    }
   ],
   "source": [
    "df = pd.read_csv('datasets/DfCleaned.csv')\n",
    "\n",
    "df.head()"
   ]
  },
  {
   "cell_type": "code",
   "execution_count": null,
   "metadata": {},
   "outputs": [],
   "source": []
  },
  {
   "cell_type": "code",
   "execution_count": 9,
   "metadata": {},
   "outputs": [
    {
     "name": "stdout",
     "output_type": "stream",
     "text": [
      "Input ID: tensor([[  101,  1031,  1005,  ...,     0,     0,     0],\n",
      "        [  101,  1031,  1005,  ...,  1005, 23384,   102],\n",
      "        [  101,  1031,  1005,  ...,     0,     0,     0],\n",
      "        ...,\n",
      "        [  101,  1031,  1005,  ...,  2229,  1005,   102],\n",
      "        [  101,  1031,  1005,  ...,     0,     0,     0],\n",
      "        [  101,  1031,  1005,  ...,     0,     0,     0]], device='cuda:0')\n",
      "Attention mask: tensor([[1, 1, 1,  ..., 0, 0, 0],\n",
      "        [1, 1, 1,  ..., 1, 1, 1],\n",
      "        [1, 1, 1,  ..., 0, 0, 0],\n",
      "        ...,\n",
      "        [1, 1, 1,  ..., 1, 1, 1],\n",
      "        [1, 1, 1,  ..., 0, 0, 0],\n",
      "        [1, 1, 1,  ..., 0, 0, 0]], device='cuda:0')\n"
     ]
    }
   ],
   "source": [
    "encoding = tokenizer.batch_encode_plus(\n",
    "    df['tokens'].head(100),                    # List of input texts\n",
    "    padding=True,              # Pad to the maximum sequence length\n",
    "    truncation=True,           # Truncate to the maximum sequence length if necessary\n",
    "    return_tensors='pt',      # Return PyTorch tensors\n",
    "    add_special_tokens=True    # Add special tokens CLS and SEP\n",
    ").to(device)\n",
    "\n",
    "input_ids = encoding['input_ids'] \n",
    "print(f\"Input ID: {input_ids}\")\n",
    "attention_mask = encoding['attention_mask']  # Attention mask\n",
    "# print attention mask\n",
    "print(f\"Attention mask: {attention_mask}\")"
   ]
  },
  {
   "cell_type": "code",
   "execution_count": 10,
   "metadata": {},
   "outputs": [
    {
     "name": "stdout",
     "output_type": "stream",
     "text": [
      "Shape of Word Embeddings: torch.Size([100, 512, 768])\n"
     ]
    }
   ],
   "source": [
    "# Generate embeddings using BERT model\n",
    "with torch.no_grad():\n",
    "\toutputs = model(input_ids, attention_mask=attention_mask)\n",
    "\tword_embeddings = outputs.last_hidden_state # This contains the embeddings\n",
    "\n",
    "# Output the shape of word embeddings\n",
    "print(f\"Shape of Word Embeddings: {word_embeddings.shape}\")\n"
   ]
  }
 ],
 "metadata": {
  "kernelspec": {
   "display_name": "Python 3",
   "language": "python",
   "name": "python3"
  },
  "language_info": {
   "codemirror_mode": {
    "name": "ipython",
    "version": 3
   },
   "file_extension": ".py",
   "mimetype": "text/x-python",
   "name": "python",
   "nbconvert_exporter": "python",
   "pygments_lexer": "ipython3",
   "version": "3.11.4"
  }
 },
 "nbformat": 4,
 "nbformat_minor": 2
}
