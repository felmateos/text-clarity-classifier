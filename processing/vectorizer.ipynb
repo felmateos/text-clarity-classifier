{
 "cells": [
  {
   "cell_type": "markdown",
   "metadata": {},
   "source": [
    "## Vetorização de palavras"
   ]
  },
  {
   "cell_type": "code",
   "execution_count": 1,
   "metadata": {},
   "outputs": [],
   "source": [
    "from sklearn.feature_extraction.text import TfidfVectorizer"
   ]
  },
  {
   "cell_type": "code",
   "execution_count": 2,
   "metadata": {},
   "outputs": [],
   "source": [
    "import pandas as pd\n",
    "import numpy as np\n",
    "\n",
    "seed=777\n",
    "\n",
    "np.random.seed(seed)\n",
    "\n",
    "df = pd.read_csv('../data/esic2023_cleaned.csv')"
   ]
  },
  {
   "cell_type": "code",
   "execution_count": 3,
   "metadata": {},
   "outputs": [],
   "source": [
    "from sklearn.model_selection import train_test_split\n",
    "\n",
    "X = df[['lemma']]\n",
    "y = df[['Class']]\n",
    "X_train, X_test, y_train, y_test = train_test_split(X, y, test_size=0.3, stratify=df['Class'], random_state=seed)"
   ]
  },
  {
   "cell_type": "code",
   "execution_count": 4,
   "metadata": {},
   "outputs": [],
   "source": [
    "Tfidf_vect = TfidfVectorizer(max_features=5000)\n",
    "Tfidf_vect.fit(df['lemma'])\n",
    "\n",
    "X_train_Tfidf = Tfidf_vect.transform(X_train['lemma'])\n",
    "X_test_Tfidf = Tfidf_vect.transform(X_test['lemma'])"
   ]
  },
  {
   "cell_type": "code",
   "execution_count": 5,
   "metadata": {},
   "outputs": [],
   "source": [
    "from scipy.sparse import save_npz\n",
    "\n",
    "# Suponha que 'tfidf_matrix_sparse' seja uma matriz esparsa do Scipy\n",
    "save_npz('../vects/X_train_Tfidf.npz', X_train_Tfidf)\n",
    "save_npz('../vects/X_test_Tfidf.npz', X_test_Tfidf)\n",
    "\n",
    "np.save('../vects/y_train.npy', y_train)\n",
    "np.save('../vects/y_test.npy', y_test)"
   ]
  }
 ],
 "metadata": {
  "kernelspec": {
   "display_name": "Python 3",
   "language": "python",
   "name": "python3"
  },
  "language_info": {
   "codemirror_mode": {
    "name": "ipython",
    "version": 3
   },
   "file_extension": ".py",
   "mimetype": "text/x-python",
   "name": "python",
   "nbconvert_exporter": "python",
   "pygments_lexer": "ipython3",
   "version": "3.11.4"
  }
 },
 "nbformat": 4,
 "nbformat_minor": 2
}
