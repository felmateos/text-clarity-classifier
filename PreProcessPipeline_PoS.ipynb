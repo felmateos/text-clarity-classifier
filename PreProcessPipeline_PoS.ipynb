{
 "cells": [
  {
   "cell_type": "code",
   "execution_count": 4,
   "metadata": {},
   "outputs": [],
   "source": [
    "import pandas as pd\n",
    "import numpy as np"
   ]
  },
  {
   "cell_type": "code",
   "execution_count": 5,
   "metadata": {},
   "outputs": [
    {
     "data": {
      "text/html": [
       "<div>\n",
       "<style scoped>\n",
       "    .dataframe tbody tr th:only-of-type {\n",
       "        vertical-align: middle;\n",
       "    }\n",
       "\n",
       "    .dataframe tbody tr th {\n",
       "        vertical-align: top;\n",
       "    }\n",
       "\n",
       "    .dataframe thead th {\n",
       "        text-align: right;\n",
       "    }\n",
       "</style>\n",
       "<table border=\"1\" class=\"dataframe\">\n",
       "  <thead>\n",
       "    <tr style=\"text-align: right;\">\n",
       "      <th></th>\n",
       "      <th>Unnamed: 0</th>\n",
       "      <th>resp_text</th>\n",
       "      <th>clarity</th>\n",
       "      <th>Class</th>\n",
       "      <th>tokens</th>\n",
       "      <th>lemma</th>\n",
       "      <th>ngram2</th>\n",
       "      <th>ngram3</th>\n",
       "    </tr>\n",
       "  </thead>\n",
       "  <tbody>\n",
       "    <tr>\n",
       "      <th>0</th>\n",
       "      <td>0</td>\n",
       "      <td>Prezado Sr Jose Taunai  Em atenção ao seu pe...</td>\n",
       "      <td>c5</td>\n",
       "      <td>2</td>\n",
       "      <td>['prezado', 'sr', 'jose', 'taunai', 'em', 'ate...</td>\n",
       "      <td>prezar sr jose taunai em atenção a o seu pedir...</td>\n",
       "      <td>[('prezar', 'sr'), ('sr', 'jose'), ('jose', 't...</td>\n",
       "      <td>[('prezar', 'sr', 'jose'), ('sr', 'jose', 'tau...</td>\n",
       "    </tr>\n",
       "    <tr>\n",
       "      <th>1</th>\n",
       "      <td>1</td>\n",
       "      <td>\"A pedido do Pró-Reitor de Graduação, informa...</td>\n",
       "      <td>c5</td>\n",
       "      <td>2</td>\n",
       "      <td>['a', 'pedido', 'do', 'próreitor', 'de', 'grad...</td>\n",
       "      <td>o pedir de o próreitor de graduação informamo ...</td>\n",
       "      <td>[('o', 'pedir'), ('pedir', 'de'), ('de', 'o'),...</td>\n",
       "      <td>[('o', 'pedir', 'de'), ('pedir', 'de', 'o'), (...</td>\n",
       "    </tr>\n",
       "    <tr>\n",
       "      <th>2</th>\n",
       "      <td>2</td>\n",
       "      <td>\"Prezado (a) Sr. (a), Agradecemos o contato e...</td>\n",
       "      <td>c234</td>\n",
       "      <td>1</td>\n",
       "      <td>['prezado', 'a', 'sr', 'a', 'agradecemos', 'o'...</td>\n",
       "      <td>prezar o sr o agradecer o contato e informamo ...</td>\n",
       "      <td>[('prezar', 'o'), ('o', 'sr'), ('sr', 'o'), ('...</td>\n",
       "      <td>[('prezar', 'o', 'sr'), ('o', 'sr', 'o'), ('sr...</td>\n",
       "    </tr>\n",
       "    <tr>\n",
       "      <th>3</th>\n",
       "      <td>3</td>\n",
       "      <td>\"Prezado (a) Sr. (a), Agradecemos o contato e...</td>\n",
       "      <td>c234</td>\n",
       "      <td>1</td>\n",
       "      <td>['prezado', 'a', 'sr', 'a', 'agradecemos', 'o'...</td>\n",
       "      <td>prezar o sr o agradecer o contato e informamo ...</td>\n",
       "      <td>[('prezar', 'o'), ('o', 'sr'), ('sr', 'o'), ('...</td>\n",
       "      <td>[('prezar', 'o', 'sr'), ('o', 'sr', 'o'), ('sr...</td>\n",
       "    </tr>\n",
       "    <tr>\n",
       "      <th>4</th>\n",
       "      <td>4</td>\n",
       "      <td>\"Prezado Prof. Gilberto Tadeu Reis da Silva  ...</td>\n",
       "      <td>c234</td>\n",
       "      <td>1</td>\n",
       "      <td>['prezado', 'prof', 'gilberto', 'tadeu', 'reis...</td>\n",
       "      <td>prezar prof gilberto tader rei de o Silva em a...</td>\n",
       "      <td>[('prezar', 'prof'), ('prof', 'gilberto'), ('g...</td>\n",
       "      <td>[('prezar', 'prof', 'gilberto'), ('prof', 'gil...</td>\n",
       "    </tr>\n",
       "  </tbody>\n",
       "</table>\n",
       "</div>"
      ],
      "text/plain": [
       "   Unnamed: 0                                          resp_text clarity  \\\n",
       "0           0    Prezado Sr Jose Taunai  Em atenção ao seu pe...      c5   \n",
       "1           1   \"A pedido do Pró-Reitor de Graduação, informa...      c5   \n",
       "2           2   \"Prezado (a) Sr. (a), Agradecemos o contato e...    c234   \n",
       "3           3   \"Prezado (a) Sr. (a), Agradecemos o contato e...    c234   \n",
       "4           4   \"Prezado Prof. Gilberto Tadeu Reis da Silva  ...    c234   \n",
       "\n",
       "   Class                                             tokens  \\\n",
       "0      2  ['prezado', 'sr', 'jose', 'taunai', 'em', 'ate...   \n",
       "1      2  ['a', 'pedido', 'do', 'próreitor', 'de', 'grad...   \n",
       "2      1  ['prezado', 'a', 'sr', 'a', 'agradecemos', 'o'...   \n",
       "3      1  ['prezado', 'a', 'sr', 'a', 'agradecemos', 'o'...   \n",
       "4      1  ['prezado', 'prof', 'gilberto', 'tadeu', 'reis...   \n",
       "\n",
       "                                               lemma  \\\n",
       "0  prezar sr jose taunai em atenção a o seu pedir...   \n",
       "1  o pedir de o próreitor de graduação informamo ...   \n",
       "2  prezar o sr o agradecer o contato e informamo ...   \n",
       "3  prezar o sr o agradecer o contato e informamo ...   \n",
       "4  prezar prof gilberto tader rei de o Silva em a...   \n",
       "\n",
       "                                              ngram2  \\\n",
       "0  [('prezar', 'sr'), ('sr', 'jose'), ('jose', 't...   \n",
       "1  [('o', 'pedir'), ('pedir', 'de'), ('de', 'o'),...   \n",
       "2  [('prezar', 'o'), ('o', 'sr'), ('sr', 'o'), ('...   \n",
       "3  [('prezar', 'o'), ('o', 'sr'), ('sr', 'o'), ('...   \n",
       "4  [('prezar', 'prof'), ('prof', 'gilberto'), ('g...   \n",
       "\n",
       "                                              ngram3  \n",
       "0  [('prezar', 'sr', 'jose'), ('sr', 'jose', 'tau...  \n",
       "1  [('o', 'pedir', 'de'), ('pedir', 'de', 'o'), (...  \n",
       "2  [('prezar', 'o', 'sr'), ('o', 'sr', 'o'), ('sr...  \n",
       "3  [('prezar', 'o', 'sr'), ('o', 'sr', 'o'), ('sr...  \n",
       "4  [('prezar', 'prof', 'gilberto'), ('prof', 'gil...  "
      ]
     },
     "execution_count": 5,
     "metadata": {},
     "output_type": "execute_result"
    }
   ],
   "source": [
    "df = pd.read_csv('./datasets/DfCleaned.csv')\n",
    "df.head()"
   ]
  },
  {
   "cell_type": "markdown",
   "metadata": {},
   "source": [
    "### V PoS tag"
   ]
  },
  {
   "cell_type": "markdown",
   "metadata": {},
   "source": [
    "[Source](https://spotintelligence.com/2023/01/24/part-of-speech-pos-tagging-in-nlp-python/)"
   ]
  },
  {
   "cell_type": "code",
   "execution_count": 1,
   "metadata": {},
   "outputs": [],
   "source": [
    "import nltk"
   ]
  },
  {
   "cell_type": "code",
   "execution_count": 2,
   "metadata": {},
   "outputs": [
    {
     "name": "stderr",
     "output_type": "stream",
     "text": [
      "[nltk_data] Downloading package averaged_perceptron_tagger to\n",
      "[nltk_data]     /home/chocomenta/nltk_data...\n",
      "[nltk_data]   Package averaged_perceptron_tagger is already up-to-\n",
      "[nltk_data]       date!\n"
     ]
    },
    {
     "data": {
      "text/plain": [
       "True"
      ]
     },
     "execution_count": 2,
     "metadata": {},
     "output_type": "execute_result"
    }
   ],
   "source": [
    "#nltk.download('averaged_perceptron_tagger')"
   ]
  },
  {
   "cell_type": "code",
   "execution_count": 6,
   "metadata": {},
   "outputs": [],
   "source": [
    "temp = []\n",
    "for sentence in df['lemma']:\n",
    "    tokens = nltk.word_tokenize(sentence, 'portuguese')\n",
    "    pos_tags = nltk.pos_tag(tokens)\n",
    "    temp.append(pos_tags)\n",
    "\n",
    "df['pos'] = temp"
   ]
  },
  {
   "cell_type": "code",
   "execution_count": 7,
   "metadata": {},
   "outputs": [
    {
     "data": {
      "text/html": [
       "<div>\n",
       "<style scoped>\n",
       "    .dataframe tbody tr th:only-of-type {\n",
       "        vertical-align: middle;\n",
       "    }\n",
       "\n",
       "    .dataframe tbody tr th {\n",
       "        vertical-align: top;\n",
       "    }\n",
       "\n",
       "    .dataframe thead th {\n",
       "        text-align: right;\n",
       "    }\n",
       "</style>\n",
       "<table border=\"1\" class=\"dataframe\">\n",
       "  <thead>\n",
       "    <tr style=\"text-align: right;\">\n",
       "      <th></th>\n",
       "      <th>lemma</th>\n",
       "      <th>pos</th>\n",
       "      <th>Class</th>\n",
       "    </tr>\n",
       "  </thead>\n",
       "  <tbody>\n",
       "    <tr>\n",
       "      <th>0</th>\n",
       "      <td>prezar sr jose taunai em atenção a o seu pedir...</td>\n",
       "      <td>[(prezar, NN), (sr, NN), (jose, NN), (taunai, ...</td>\n",
       "      <td>2</td>\n",
       "    </tr>\n",
       "    <tr>\n",
       "      <th>1</th>\n",
       "      <td>o pedir de o próreitor de graduação informamo ...</td>\n",
       "      <td>[(o, JJ), (pedir, NN), (de, IN), (o, FW), (pró...</td>\n",
       "      <td>2</td>\n",
       "    </tr>\n",
       "    <tr>\n",
       "      <th>2</th>\n",
       "      <td>prezar o sr o agradecer o contato e informamo ...</td>\n",
       "      <td>[(prezar, NN), (o, MD), (sr, VB), (o, JJ), (ag...</td>\n",
       "      <td>1</td>\n",
       "    </tr>\n",
       "    <tr>\n",
       "      <th>3</th>\n",
       "      <td>prezar o sr o agradecer o contato e informamo ...</td>\n",
       "      <td>[(prezar, NN), (o, MD), (sr, VB), (o, JJ), (ag...</td>\n",
       "      <td>1</td>\n",
       "    </tr>\n",
       "    <tr>\n",
       "      <th>4</th>\n",
       "      <td>prezar prof gilberto tader rei de o Silva em a...</td>\n",
       "      <td>[(prezar, NN), (prof, NN), (gilberto, NN), (ta...</td>\n",
       "      <td>1</td>\n",
       "    </tr>\n",
       "    <tr>\n",
       "      <th>...</th>\n",
       "      <td>...</td>\n",
       "      <td>...</td>\n",
       "      <td>...</td>\n",
       "    </tr>\n",
       "    <tr>\n",
       "      <th>5995</th>\n",
       "      <td>tratase de solicitação com base em o lei de ac...</td>\n",
       "      <td>[(tratase, NN), (de, FW), (solicitação, FW), (...</td>\n",
       "      <td>0</td>\n",
       "    </tr>\n",
       "    <tr>\n",
       "      <th>5996</th>\n",
       "      <td>tratase de um solicitação repetir o informação...</td>\n",
       "      <td>[(tratase, NN), (de, FW), (um, FW), (solicitaç...</td>\n",
       "      <td>2</td>\n",
       "    </tr>\n",
       "    <tr>\n",
       "      <th>5997</th>\n",
       "      <td>unidade</td>\n",
       "      <td>[(unidade, NN)]</td>\n",
       "      <td>2</td>\n",
       "    </tr>\n",
       "    <tr>\n",
       "      <th>5998</th>\n",
       "      <td>vale dizer que o gestão de o telefone de uso p...</td>\n",
       "      <td>[(vale, JJ), (dizer, NN), (que, NN), (o, JJ), ...</td>\n",
       "      <td>1</td>\n",
       "    </tr>\n",
       "    <tr>\n",
       "      <th>5999</th>\n",
       "      <td>wilhan donizete gonçalve nune em este nup 2348...</td>\n",
       "      <td>[(wilhan, JJ), (donizete, JJ), (gonçalve, NN),...</td>\n",
       "      <td>1</td>\n",
       "    </tr>\n",
       "  </tbody>\n",
       "</table>\n",
       "<p>6000 rows × 3 columns</p>\n",
       "</div>"
      ],
      "text/plain": [
       "                                                  lemma  \\\n",
       "0     prezar sr jose taunai em atenção a o seu pedir...   \n",
       "1     o pedir de o próreitor de graduação informamo ...   \n",
       "2     prezar o sr o agradecer o contato e informamo ...   \n",
       "3     prezar o sr o agradecer o contato e informamo ...   \n",
       "4     prezar prof gilberto tader rei de o Silva em a...   \n",
       "...                                                 ...   \n",
       "5995  tratase de solicitação com base em o lei de ac...   \n",
       "5996  tratase de um solicitação repetir o informação...   \n",
       "5997                                            unidade   \n",
       "5998  vale dizer que o gestão de o telefone de uso p...   \n",
       "5999  wilhan donizete gonçalve nune em este nup 2348...   \n",
       "\n",
       "                                                    pos  Class  \n",
       "0     [(prezar, NN), (sr, NN), (jose, NN), (taunai, ...      2  \n",
       "1     [(o, JJ), (pedir, NN), (de, IN), (o, FW), (pró...      2  \n",
       "2     [(prezar, NN), (o, MD), (sr, VB), (o, JJ), (ag...      1  \n",
       "3     [(prezar, NN), (o, MD), (sr, VB), (o, JJ), (ag...      1  \n",
       "4     [(prezar, NN), (prof, NN), (gilberto, NN), (ta...      1  \n",
       "...                                                 ...    ...  \n",
       "5995  [(tratase, NN), (de, FW), (solicitação, FW), (...      0  \n",
       "5996  [(tratase, NN), (de, FW), (um, FW), (solicitaç...      2  \n",
       "5997                                    [(unidade, NN)]      2  \n",
       "5998  [(vale, JJ), (dizer, NN), (que, NN), (o, JJ), ...      1  \n",
       "5999  [(wilhan, JJ), (donizete, JJ), (gonçalve, NN),...      1  \n",
       "\n",
       "[6000 rows x 3 columns]"
      ]
     },
     "execution_count": 7,
     "metadata": {},
     "output_type": "execute_result"
    }
   ],
   "source": [
    "new = df[[\n",
    "    'lemma'\n",
    "    , 'pos'\n",
    "    , 'Class']]\n",
    "\n",
    "new"
   ]
  },
  {
   "cell_type": "code",
   "execution_count": 8,
   "metadata": {},
   "outputs": [],
   "source": [
    "new.to_csv('./datasets/DfPos.csv')"
   ]
  }
 ],
 "metadata": {
  "kernelspec": {
   "display_name": "base",
   "language": "python",
   "name": "python3"
  },
  "language_info": {
   "codemirror_mode": {
    "name": "ipython",
    "version": 3
   },
   "file_extension": ".py",
   "mimetype": "text/x-python",
   "name": "python",
   "nbconvert_exporter": "python",
   "pygments_lexer": "ipython3",
   "version": "3.11.5"
  }
 },
 "nbformat": 4,
 "nbformat_minor": 2
}
