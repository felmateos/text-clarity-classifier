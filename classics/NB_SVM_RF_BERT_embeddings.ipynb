{
 "cells": [
  {
   "cell_type": "code",
   "execution_count": 7,
   "metadata": {},
   "outputs": [],
   "source": [
    "import pandas as pd\n",
    "import numpy as np"
   ]
  },
  {
   "cell_type": "code",
   "execution_count": 8,
   "metadata": {},
   "outputs": [],
   "source": [
    "seed = 777\n",
    "np.random.seed(seed)"
   ]
  },
  {
   "cell_type": "code",
   "execution_count": 9,
   "metadata": {},
   "outputs": [],
   "source": [
    "df_1 = pd.read_csv('../embeddings/BERT_Embeddings_1.csv')\n",
    "df_2 = pd.read_csv('../embeddings/BERT_Embeddings_2.csv')\n",
    "\n",
    "df = pd.concat([df_1,df_2])\n",
    "df.reset_index(inplace=True)"
   ]
  },
  {
   "cell_type": "code",
   "execution_count": 10,
   "metadata": {},
   "outputs": [
    {
     "data": {
      "text/html": [
       "<div>\n",
       "<style scoped>\n",
       "    .dataframe tbody tr th:only-of-type {\n",
       "        vertical-align: middle;\n",
       "    }\n",
       "\n",
       "    .dataframe tbody tr th {\n",
       "        vertical-align: top;\n",
       "    }\n",
       "\n",
       "    .dataframe thead th {\n",
       "        text-align: right;\n",
       "    }\n",
       "</style>\n",
       "<table border=\"1\" class=\"dataframe\">\n",
       "  <thead>\n",
       "    <tr style=\"text-align: right;\">\n",
       "      <th></th>\n",
       "      <th>index</th>\n",
       "      <th>resp_text</th>\n",
       "      <th>clarity</th>\n",
       "      <th>Class</th>\n",
       "      <th>tokens</th>\n",
       "      <th>lemma</th>\n",
       "      <th>ngram2</th>\n",
       "      <th>ngram3</th>\n",
       "      <th>0</th>\n",
       "      <th>1</th>\n",
       "      <th>...</th>\n",
       "      <th>758</th>\n",
       "      <th>759</th>\n",
       "      <th>760</th>\n",
       "      <th>761</th>\n",
       "      <th>762</th>\n",
       "      <th>763</th>\n",
       "      <th>764</th>\n",
       "      <th>765</th>\n",
       "      <th>766</th>\n",
       "      <th>767</th>\n",
       "    </tr>\n",
       "  </thead>\n",
       "  <tbody>\n",
       "    <tr>\n",
       "      <th>0</th>\n",
       "      <td>0</td>\n",
       "      <td>Prezada Senhora, Informa-se que o DNIT é uma ...</td>\n",
       "      <td>c1</td>\n",
       "      <td>0</td>\n",
       "      <td>['prezada', 'senhora', 'informase', 'que', 'o'...</td>\n",
       "      <td>prezar senhor informase que o dnit ser um auta...</td>\n",
       "      <td>[('prezar', 'senhor'), ('senhor', 'informase')...</td>\n",
       "      <td>[('prezar', 'senhor', 'informase'), ('senhor',...</td>\n",
       "      <td>0.505127</td>\n",
       "      <td>0.766378</td>\n",
       "      <td>...</td>\n",
       "      <td>0.275737</td>\n",
       "      <td>0.716399</td>\n",
       "      <td>0.905849</td>\n",
       "      <td>0.889190</td>\n",
       "      <td>0.045048</td>\n",
       "      <td>0.879967</td>\n",
       "      <td>0.528071</td>\n",
       "      <td>0.093110</td>\n",
       "      <td>0.531860</td>\n",
       "      <td>0.877069</td>\n",
       "    </tr>\n",
       "    <tr>\n",
       "      <th>1</th>\n",
       "      <td>1</td>\n",
       "      <td>Prezada,   Os dados se referem somente aos na...</td>\n",
       "      <td>c1</td>\n",
       "      <td>0</td>\n",
       "      <td>['prezada', 'os', 'dados', 'se', 'referem', 's...</td>\n",
       "      <td>prezar o dar se referir somente a o nascido vi...</td>\n",
       "      <td>[('prezar', 'o'), ('o', 'dar'), ('dar', 'se'),...</td>\n",
       "      <td>[('prezar', 'o', 'dar'), ('o', 'dar', 'se'), (...</td>\n",
       "      <td>0.469561</td>\n",
       "      <td>0.688681</td>\n",
       "      <td>...</td>\n",
       "      <td>0.262989</td>\n",
       "      <td>0.694362</td>\n",
       "      <td>0.917148</td>\n",
       "      <td>0.832956</td>\n",
       "      <td>0.092697</td>\n",
       "      <td>0.904497</td>\n",
       "      <td>0.501777</td>\n",
       "      <td>0.160684</td>\n",
       "      <td>0.560638</td>\n",
       "      <td>0.876449</td>\n",
       "    </tr>\n",
       "    <tr>\n",
       "      <th>2</th>\n",
       "      <td>2</td>\n",
       "      <td>Prezado Usuário, Inicialmente agradecemos o s...</td>\n",
       "      <td>c1</td>\n",
       "      <td>0</td>\n",
       "      <td>['prezado', 'usuário', 'inicialmente', 'agrade...</td>\n",
       "      <td>prezar usuário inicialmente agradecer o seu co...</td>\n",
       "      <td>[('prezar', 'usuário'), ('usuário', 'inicialme...</td>\n",
       "      <td>[('prezar', 'usuário', 'inicialmente'), ('usuá...</td>\n",
       "      <td>0.532807</td>\n",
       "      <td>0.769794</td>\n",
       "      <td>...</td>\n",
       "      <td>0.264708</td>\n",
       "      <td>0.726420</td>\n",
       "      <td>0.949025</td>\n",
       "      <td>0.940052</td>\n",
       "      <td>0.048876</td>\n",
       "      <td>0.917774</td>\n",
       "      <td>0.479433</td>\n",
       "      <td>0.100289</td>\n",
       "      <td>0.538197</td>\n",
       "      <td>0.934336</td>\n",
       "    </tr>\n",
       "    <tr>\n",
       "      <th>3</th>\n",
       "      <td>3</td>\n",
       "      <td>Prezada,   Referimo-nos a sua demanda, regist...</td>\n",
       "      <td>c1</td>\n",
       "      <td>0</td>\n",
       "      <td>['prezada', 'referimonos', 'a', 'sua', 'demand...</td>\n",
       "      <td>prezar referimono o seu demanda registrar em o...</td>\n",
       "      <td>[('prezar', 'referimono'), ('referimono', 'o')...</td>\n",
       "      <td>[('prezar', 'referimono', 'o'), ('referimono',...</td>\n",
       "      <td>0.351271</td>\n",
       "      <td>0.637699</td>\n",
       "      <td>...</td>\n",
       "      <td>0.274973</td>\n",
       "      <td>0.694385</td>\n",
       "      <td>0.649727</td>\n",
       "      <td>0.706238</td>\n",
       "      <td>0.181229</td>\n",
       "      <td>0.676903</td>\n",
       "      <td>0.572161</td>\n",
       "      <td>0.224631</td>\n",
       "      <td>0.527368</td>\n",
       "      <td>0.727080</td>\n",
       "    </tr>\n",
       "    <tr>\n",
       "      <th>4</th>\n",
       "      <td>4</td>\n",
       "      <td>Prezada,   Segue anexa a resposta da área com...</td>\n",
       "      <td>c1</td>\n",
       "      <td>0</td>\n",
       "      <td>['prezada', 'segue', 'anexa', 'a', 'resposta',...</td>\n",
       "      <td>prezar seguir anexo o resposta de o área compe...</td>\n",
       "      <td>[('prezar', 'seguir'), ('seguir', 'anexo'), ('...</td>\n",
       "      <td>[('prezar', 'seguir', 'anexo'), ('seguir', 'an...</td>\n",
       "      <td>0.407822</td>\n",
       "      <td>0.682736</td>\n",
       "      <td>...</td>\n",
       "      <td>0.461279</td>\n",
       "      <td>0.629783</td>\n",
       "      <td>0.594298</td>\n",
       "      <td>0.649282</td>\n",
       "      <td>0.243664</td>\n",
       "      <td>0.698317</td>\n",
       "      <td>0.506059</td>\n",
       "      <td>0.309669</td>\n",
       "      <td>0.537712</td>\n",
       "      <td>0.584884</td>\n",
       "    </tr>\n",
       "  </tbody>\n",
       "</table>\n",
       "<p>5 rows × 776 columns</p>\n",
       "</div>"
      ],
      "text/plain": [
       "   index                                          resp_text clarity  Class  \\\n",
       "0      0   Prezada Senhora, Informa-se que o DNIT é uma ...      c1      0   \n",
       "1      1   Prezada,   Os dados se referem somente aos na...      c1      0   \n",
       "2      2   Prezado Usuário, Inicialmente agradecemos o s...      c1      0   \n",
       "3      3   Prezada,   Referimo-nos a sua demanda, regist...      c1      0   \n",
       "4      4   Prezada,   Segue anexa a resposta da área com...      c1      0   \n",
       "\n",
       "                                              tokens  \\\n",
       "0  ['prezada', 'senhora', 'informase', 'que', 'o'...   \n",
       "1  ['prezada', 'os', 'dados', 'se', 'referem', 's...   \n",
       "2  ['prezado', 'usuário', 'inicialmente', 'agrade...   \n",
       "3  ['prezada', 'referimonos', 'a', 'sua', 'demand...   \n",
       "4  ['prezada', 'segue', 'anexa', 'a', 'resposta',...   \n",
       "\n",
       "                                               lemma  \\\n",
       "0  prezar senhor informase que o dnit ser um auta...   \n",
       "1  prezar o dar se referir somente a o nascido vi...   \n",
       "2  prezar usuário inicialmente agradecer o seu co...   \n",
       "3  prezar referimono o seu demanda registrar em o...   \n",
       "4  prezar seguir anexo o resposta de o área compe...   \n",
       "\n",
       "                                              ngram2  \\\n",
       "0  [('prezar', 'senhor'), ('senhor', 'informase')...   \n",
       "1  [('prezar', 'o'), ('o', 'dar'), ('dar', 'se'),...   \n",
       "2  [('prezar', 'usuário'), ('usuário', 'inicialme...   \n",
       "3  [('prezar', 'referimono'), ('referimono', 'o')...   \n",
       "4  [('prezar', 'seguir'), ('seguir', 'anexo'), ('...   \n",
       "\n",
       "                                              ngram3         0         1  ...  \\\n",
       "0  [('prezar', 'senhor', 'informase'), ('senhor',...  0.505127  0.766378  ...   \n",
       "1  [('prezar', 'o', 'dar'), ('o', 'dar', 'se'), (...  0.469561  0.688681  ...   \n",
       "2  [('prezar', 'usuário', 'inicialmente'), ('usuá...  0.532807  0.769794  ...   \n",
       "3  [('prezar', 'referimono', 'o'), ('referimono',...  0.351271  0.637699  ...   \n",
       "4  [('prezar', 'seguir', 'anexo'), ('seguir', 'an...  0.407822  0.682736  ...   \n",
       "\n",
       "        758       759       760       761       762       763       764  \\\n",
       "0  0.275737  0.716399  0.905849  0.889190  0.045048  0.879967  0.528071   \n",
       "1  0.262989  0.694362  0.917148  0.832956  0.092697  0.904497  0.501777   \n",
       "2  0.264708  0.726420  0.949025  0.940052  0.048876  0.917774  0.479433   \n",
       "3  0.274973  0.694385  0.649727  0.706238  0.181229  0.676903  0.572161   \n",
       "4  0.461279  0.629783  0.594298  0.649282  0.243664  0.698317  0.506059   \n",
       "\n",
       "        765       766       767  \n",
       "0  0.093110  0.531860  0.877069  \n",
       "1  0.160684  0.560638  0.876449  \n",
       "2  0.100289  0.538197  0.934336  \n",
       "3  0.224631  0.527368  0.727080  \n",
       "4  0.309669  0.537712  0.584884  \n",
       "\n",
       "[5 rows x 776 columns]"
      ]
     },
     "execution_count": 10,
     "metadata": {},
     "output_type": "execute_result"
    }
   ],
   "source": [
    "df.head()"
   ]
  },
  {
   "cell_type": "code",
   "execution_count": 11,
   "metadata": {},
   "outputs": [
    {
     "name": "stdout",
     "output_type": "stream",
     "text": [
      "<class 'pandas.core.frame.DataFrame'>\n",
      "RangeIndex: 6000 entries, 0 to 5999\n",
      "Columns: 776 entries, index to 767\n",
      "dtypes: float64(768), int64(2), object(6)\n",
      "memory usage: 35.5+ MB\n"
     ]
    }
   ],
   "source": [
    "df.info()"
   ]
  },
  {
   "cell_type": "code",
   "execution_count": 12,
   "metadata": {},
   "outputs": [],
   "source": [
    "from sklearn.model_selection import train_test_split"
   ]
  },
  {
   "cell_type": "code",
   "execution_count": 13,
   "metadata": {},
   "outputs": [],
   "source": [
    "\n",
    "X = df.iloc[:,8:]\n",
    "y = df['Class']\n",
    "X_train, X_test, y_train, y_test = train_test_split(X, y, test_size=0.2, stratify=df['Class'], random_state=seed)"
   ]
  },
  {
   "cell_type": "code",
   "execution_count": 14,
   "metadata": {},
   "outputs": [
    {
     "data": {
      "text/html": [
       "<div>\n",
       "<style scoped>\n",
       "    .dataframe tbody tr th:only-of-type {\n",
       "        vertical-align: middle;\n",
       "    }\n",
       "\n",
       "    .dataframe tbody tr th {\n",
       "        vertical-align: top;\n",
       "    }\n",
       "\n",
       "    .dataframe thead th {\n",
       "        text-align: right;\n",
       "    }\n",
       "</style>\n",
       "<table border=\"1\" class=\"dataframe\">\n",
       "  <thead>\n",
       "    <tr style=\"text-align: right;\">\n",
       "      <th></th>\n",
       "      <th>0</th>\n",
       "      <th>1</th>\n",
       "      <th>2</th>\n",
       "      <th>3</th>\n",
       "      <th>4</th>\n",
       "      <th>5</th>\n",
       "      <th>6</th>\n",
       "      <th>7</th>\n",
       "      <th>8</th>\n",
       "      <th>9</th>\n",
       "      <th>...</th>\n",
       "      <th>758</th>\n",
       "      <th>759</th>\n",
       "      <th>760</th>\n",
       "      <th>761</th>\n",
       "      <th>762</th>\n",
       "      <th>763</th>\n",
       "      <th>764</th>\n",
       "      <th>765</th>\n",
       "      <th>766</th>\n",
       "      <th>767</th>\n",
       "    </tr>\n",
       "  </thead>\n",
       "  <tbody>\n",
       "    <tr>\n",
       "      <th>0</th>\n",
       "      <td>0.505127</td>\n",
       "      <td>0.766378</td>\n",
       "      <td>0.105300</td>\n",
       "      <td>0.285969</td>\n",
       "      <td>0.092293</td>\n",
       "      <td>0.249332</td>\n",
       "      <td>0.465746</td>\n",
       "      <td>0.324952</td>\n",
       "      <td>0.691307</td>\n",
       "      <td>0.839414</td>\n",
       "      <td>...</td>\n",
       "      <td>0.275737</td>\n",
       "      <td>0.716399</td>\n",
       "      <td>0.905849</td>\n",
       "      <td>0.889190</td>\n",
       "      <td>0.045048</td>\n",
       "      <td>0.879967</td>\n",
       "      <td>0.528071</td>\n",
       "      <td>0.093110</td>\n",
       "      <td>0.531860</td>\n",
       "      <td>0.877069</td>\n",
       "    </tr>\n",
       "    <tr>\n",
       "      <th>1</th>\n",
       "      <td>0.469561</td>\n",
       "      <td>0.688681</td>\n",
       "      <td>0.113576</td>\n",
       "      <td>0.264515</td>\n",
       "      <td>0.116232</td>\n",
       "      <td>0.267609</td>\n",
       "      <td>0.468771</td>\n",
       "      <td>0.290847</td>\n",
       "      <td>0.706276</td>\n",
       "      <td>0.769807</td>\n",
       "      <td>...</td>\n",
       "      <td>0.262989</td>\n",
       "      <td>0.694362</td>\n",
       "      <td>0.917148</td>\n",
       "      <td>0.832956</td>\n",
       "      <td>0.092697</td>\n",
       "      <td>0.904497</td>\n",
       "      <td>0.501777</td>\n",
       "      <td>0.160684</td>\n",
       "      <td>0.560638</td>\n",
       "      <td>0.876449</td>\n",
       "    </tr>\n",
       "    <tr>\n",
       "      <th>2</th>\n",
       "      <td>0.532807</td>\n",
       "      <td>0.769794</td>\n",
       "      <td>0.053227</td>\n",
       "      <td>0.283687</td>\n",
       "      <td>0.038090</td>\n",
       "      <td>0.184949</td>\n",
       "      <td>0.500581</td>\n",
       "      <td>0.308323</td>\n",
       "      <td>0.679207</td>\n",
       "      <td>0.865095</td>\n",
       "      <td>...</td>\n",
       "      <td>0.264708</td>\n",
       "      <td>0.726420</td>\n",
       "      <td>0.949025</td>\n",
       "      <td>0.940052</td>\n",
       "      <td>0.048876</td>\n",
       "      <td>0.917774</td>\n",
       "      <td>0.479433</td>\n",
       "      <td>0.100289</td>\n",
       "      <td>0.538197</td>\n",
       "      <td>0.934336</td>\n",
       "    </tr>\n",
       "    <tr>\n",
       "      <th>3</th>\n",
       "      <td>0.351271</td>\n",
       "      <td>0.637699</td>\n",
       "      <td>0.287832</td>\n",
       "      <td>0.257460</td>\n",
       "      <td>0.198257</td>\n",
       "      <td>0.396646</td>\n",
       "      <td>0.468053</td>\n",
       "      <td>0.286730</td>\n",
       "      <td>0.582105</td>\n",
       "      <td>0.683174</td>\n",
       "      <td>...</td>\n",
       "      <td>0.274973</td>\n",
       "      <td>0.694385</td>\n",
       "      <td>0.649727</td>\n",
       "      <td>0.706238</td>\n",
       "      <td>0.181229</td>\n",
       "      <td>0.676903</td>\n",
       "      <td>0.572161</td>\n",
       "      <td>0.224631</td>\n",
       "      <td>0.527368</td>\n",
       "      <td>0.727080</td>\n",
       "    </tr>\n",
       "    <tr>\n",
       "      <th>4</th>\n",
       "      <td>0.407822</td>\n",
       "      <td>0.682736</td>\n",
       "      <td>0.366654</td>\n",
       "      <td>0.400153</td>\n",
       "      <td>0.280517</td>\n",
       "      <td>0.355127</td>\n",
       "      <td>0.448908</td>\n",
       "      <td>0.301572</td>\n",
       "      <td>0.707264</td>\n",
       "      <td>0.858857</td>\n",
       "      <td>...</td>\n",
       "      <td>0.461279</td>\n",
       "      <td>0.629783</td>\n",
       "      <td>0.594298</td>\n",
       "      <td>0.649282</td>\n",
       "      <td>0.243664</td>\n",
       "      <td>0.698317</td>\n",
       "      <td>0.506059</td>\n",
       "      <td>0.309669</td>\n",
       "      <td>0.537712</td>\n",
       "      <td>0.584884</td>\n",
       "    </tr>\n",
       "  </tbody>\n",
       "</table>\n",
       "<p>5 rows × 768 columns</p>\n",
       "</div>"
      ],
      "text/plain": [
       "          0         1         2         3         4         5         6  \\\n",
       "0  0.505127  0.766378  0.105300  0.285969  0.092293  0.249332  0.465746   \n",
       "1  0.469561  0.688681  0.113576  0.264515  0.116232  0.267609  0.468771   \n",
       "2  0.532807  0.769794  0.053227  0.283687  0.038090  0.184949  0.500581   \n",
       "3  0.351271  0.637699  0.287832  0.257460  0.198257  0.396646  0.468053   \n",
       "4  0.407822  0.682736  0.366654  0.400153  0.280517  0.355127  0.448908   \n",
       "\n",
       "          7         8         9  ...       758       759       760       761  \\\n",
       "0  0.324952  0.691307  0.839414  ...  0.275737  0.716399  0.905849  0.889190   \n",
       "1  0.290847  0.706276  0.769807  ...  0.262989  0.694362  0.917148  0.832956   \n",
       "2  0.308323  0.679207  0.865095  ...  0.264708  0.726420  0.949025  0.940052   \n",
       "3  0.286730  0.582105  0.683174  ...  0.274973  0.694385  0.649727  0.706238   \n",
       "4  0.301572  0.707264  0.858857  ...  0.461279  0.629783  0.594298  0.649282   \n",
       "\n",
       "        762       763       764       765       766       767  \n",
       "0  0.045048  0.879967  0.528071  0.093110  0.531860  0.877069  \n",
       "1  0.092697  0.904497  0.501777  0.160684  0.560638  0.876449  \n",
       "2  0.048876  0.917774  0.479433  0.100289  0.538197  0.934336  \n",
       "3  0.181229  0.676903  0.572161  0.224631  0.527368  0.727080  \n",
       "4  0.243664  0.698317  0.506059  0.309669  0.537712  0.584884  \n",
       "\n",
       "[5 rows x 768 columns]"
      ]
     },
     "execution_count": 14,
     "metadata": {},
     "output_type": "execute_result"
    }
   ],
   "source": [
    "X.head()"
   ]
  },
  {
   "cell_type": "code",
   "execution_count": 15,
   "metadata": {},
   "outputs": [
    {
     "data": {
      "text/plain": [
       "0    0\n",
       "1    0\n",
       "2    0\n",
       "3    0\n",
       "4    0\n",
       "Name: Class, dtype: int64"
      ]
     },
     "execution_count": 15,
     "metadata": {},
     "output_type": "execute_result"
    }
   ],
   "source": [
    "y.head()"
   ]
  },
  {
   "cell_type": "code",
   "execution_count": 16,
   "metadata": {},
   "outputs": [],
   "source": [
    "import warnings\n",
    "\n",
    "warnings.filterwarnings(\"ignore\")"
   ]
  },
  {
   "cell_type": "markdown",
   "metadata": {},
   "source": [
    "## Treinamento dos modelos"
   ]
  },
  {
   "cell_type": "code",
   "execution_count": 17,
   "metadata": {},
   "outputs": [],
   "source": [
    "from sklearn.model_selection import cross_val_score"
   ]
  },
  {
   "cell_type": "markdown",
   "metadata": {},
   "source": [
    "### Naive Bayes"
   ]
  },
  {
   "cell_type": "code",
   "execution_count": 25,
   "metadata": {},
   "outputs": [
    {
     "name": "stdout",
     "output_type": "stream",
     "text": [
      "[0.36875    0.38541667 0.45833333 0.425      0.41458333 0.37916667\n",
      " 0.42083333 0.43125    0.41875    0.4375    ]\n"
     ]
    },
    {
     "data": {
      "text/plain": [
       "0.4139583333333333"
      ]
     },
     "execution_count": 25,
     "metadata": {},
     "output_type": "execute_result"
    }
   ],
   "source": [
    "from sklearn import naive_bayes\n",
    "\n",
    "Naive = naive_bayes.MultinomialNB()\n",
    "\n",
    "scores = cross_val_score(Naive, X_train, y_train, cv=10)\n",
    "\n",
    "print(scores)\n",
    "scores.mean()"
   ]
  },
  {
   "cell_type": "markdown",
   "metadata": {},
   "source": [
    "### Support Vector Machine"
   ]
  },
  {
   "cell_type": "code",
   "execution_count": 26,
   "metadata": {},
   "outputs": [
    {
     "name": "stdout",
     "output_type": "stream",
     "text": [
      "[0.51666667 0.4875     0.54375    0.4875     0.5125     0.51041667\n",
      " 0.5625     0.53333333 0.525      0.52708333]\n"
     ]
    },
    {
     "data": {
      "text/plain": [
       "0.5206250000000001"
      ]
     },
     "execution_count": 26,
     "metadata": {},
     "output_type": "execute_result"
    }
   ],
   "source": [
    "from sklearn import svm\n",
    "\n",
    "SVM = svm.SVC(C=3.0, kernel='linear', degree=3, gamma='auto')\n",
    "\n",
    "scores = cross_val_score(SVM, X_train, y_train, cv=10)\n",
    "\n",
    "print(scores)\n",
    "scores.mean()"
   ]
  },
  {
   "cell_type": "code",
   "execution_count": 27,
   "metadata": {},
   "outputs": [
    {
     "data": {
      "text/plain": [
       "0.52"
      ]
     },
     "execution_count": 27,
     "metadata": {},
     "output_type": "execute_result"
    }
   ],
   "source": [
    "from sklearn.metrics import accuracy_score\n",
    "\n",
    "SVM.fit(X_train, y_train)\n",
    "\n",
    "y_pred = SVM.predict(X_test)\n",
    "\n",
    "accuracy_score(y_pred=y_pred, y_true=y_test)"
   ]
  },
  {
   "cell_type": "markdown",
   "metadata": {},
   "source": [
    "### Random Forest"
   ]
  },
  {
   "cell_type": "code",
   "execution_count": 28,
   "metadata": {},
   "outputs": [
    {
     "name": "stdout",
     "output_type": "stream",
     "text": [
      "[0.5125     0.48333333 0.52291667 0.525      0.52916667 0.4875\n",
      " 0.56666667 0.5375     0.56458333 0.53125   ]\n"
     ]
    },
    {
     "data": {
      "text/plain": [
       "0.5260416666666666"
      ]
     },
     "execution_count": 28,
     "metadata": {},
     "output_type": "execute_result"
    }
   ],
   "source": [
    "from sklearn.ensemble import RandomForestClassifier\n",
    "\n",
    "RF = RandomForestClassifier()\n",
    "scores = cross_val_score(RF, X_train, y_train, cv=10)\n",
    "\n",
    "print(scores)\n",
    "scores.mean()"
   ]
  },
  {
   "cell_type": "code",
   "execution_count": 29,
   "metadata": {},
   "outputs": [
    {
     "data": {
      "text/plain": [
       "0.5541666666666667"
      ]
     },
     "execution_count": 29,
     "metadata": {},
     "output_type": "execute_result"
    }
   ],
   "source": [
    "from sklearn.metrics import accuracy_score\n",
    "\n",
    "RF.fit(X_train, y_train)\n",
    "\n",
    "y_pred = RF.predict(X_test)\n",
    "\n",
    "accuracy_score(y_pred=y_pred, y_true=y_test)"
   ]
  },
  {
   "cell_type": "markdown",
   "metadata": {},
   "source": [
    "# Grid Search"
   ]
  },
  {
   "cell_type": "code",
   "execution_count": 21,
   "metadata": {},
   "outputs": [],
   "source": [
    "from sklearn.model_selection import GridSearchCV"
   ]
  },
  {
   "cell_type": "markdown",
   "metadata": {},
   "source": [
    "### SVM"
   ]
  },
  {
   "cell_type": "code",
   "execution_count": 22,
   "metadata": {},
   "outputs": [],
   "source": [
    "param_grid = {\n",
    "    'kernel': ['linear', 'poly', 'rbf', 'sigmoid'],\n",
    "    'C': [1.0, 2.0, 3.0]\n",
    "}"
   ]
  },
  {
   "cell_type": "code",
   "execution_count": 23,
   "metadata": {},
   "outputs": [
    {
     "name": "stdout",
     "output_type": "stream",
     "text": [
      "Melhores hiperparâmetros: {'C': 3.0, 'kernel': 'linear'}\n"
     ]
    }
   ],
   "source": [
    "grid_search = GridSearchCV(SVM, param_grid, cv=10, scoring='accuracy')\n",
    "\n",
    "grid_search.fit(X_train, y_train)\n",
    "\n",
    "print(\"Melhores hiperparâmetros:\", grid_search.best_params_)"
   ]
  },
  {
   "cell_type": "code",
   "execution_count": 24,
   "metadata": {},
   "outputs": [
    {
     "name": "stdout",
     "output_type": "stream",
     "text": [
      "Acurácia no conjunto de teste: 0.52\n"
     ]
    }
   ],
   "source": [
    "accuracy = grid_search.score(X_test, y_test)\n",
    "print(\"Acurácia no conjunto de teste:\", accuracy)"
   ]
  },
  {
   "cell_type": "markdown",
   "metadata": {},
   "source": [
    "### Random Forest"
   ]
  },
  {
   "cell_type": "code",
   "execution_count": 37,
   "metadata": {},
   "outputs": [],
   "source": [
    "param_grid = {\n",
    "    'n_estimators': [200, 300],\n",
    "    'max_depth': [20, 30],\n",
    "    'min_samples_leaf': [2, 4],\n",
    "    'max_features': ['auto', 'sqrt', None]\n",
    "}"
   ]
  },
  {
   "cell_type": "code",
   "execution_count": 38,
   "metadata": {},
   "outputs": [],
   "source": [
    "grid_search = GridSearchCV(RF, param_grid, cv=10, scoring='accuracy')\n",
    "\n",
    "grid_search.fit(X_train, y_train)\n",
    "\n",
    "print(\"Melhores hiperparâmetros:\", grid_search.best_params_)"
   ]
  },
  {
   "cell_type": "code",
   "execution_count": null,
   "metadata": {},
   "outputs": [
    {
     "name": "stdout",
     "output_type": "stream",
     "text": [
      "Acurácia no conjunto de teste: 0.52\n"
     ]
    }
   ],
   "source": [
    "accuracy = grid_search.score(X_test.head(100), y_test.head(100))\n",
    "print(\"Acurácia no conjunto de teste:\", accuracy)"
   ]
  }
 ],
 "metadata": {
  "kernelspec": {
   "display_name": "Python 3",
   "language": "python",
   "name": "python3"
  },
  "language_info": {
   "codemirror_mode": {
    "name": "ipython",
    "version": 3
   },
   "file_extension": ".py",
   "mimetype": "text/x-python",
   "name": "python",
   "nbconvert_exporter": "python",
   "pygments_lexer": "ipython3",
   "version": "3.11.4"
  }
 },
 "nbformat": 4,
 "nbformat_minor": 2
}
