{
 "cells": [
  {
   "cell_type": "code",
   "execution_count": 33,
   "metadata": {},
   "outputs": [],
   "source": [
    "import pandas as pd\n",
    "import numpy as np"
   ]
  },
  {
   "cell_type": "code",
   "execution_count": 34,
   "metadata": {},
   "outputs": [],
   "source": [
    "seed = 777\n",
    "np.random.seed(seed)"
   ]
  },
  {
   "cell_type": "code",
   "execution_count": 35,
   "metadata": {},
   "outputs": [],
   "source": [
    "df_1 = pd.read_csv('embeddeds/BERT_Embedding_1.csv')\n",
    "df_2 = pd.read_csv('embeddeds/BERT_Embedding_2.csv')\n",
    "\n",
    "df = pd.concat([df_1,df_2])\n",
    "df.reset_index(inplace=True)"
   ]
  },
  {
   "cell_type": "code",
   "execution_count": 36,
   "metadata": {},
   "outputs": [
    {
     "data": {
      "text/html": [
       "<div>\n",
       "<style scoped>\n",
       "    .dataframe tbody tr th:only-of-type {\n",
       "        vertical-align: middle;\n",
       "    }\n",
       "\n",
       "    .dataframe tbody tr th {\n",
       "        vertical-align: top;\n",
       "    }\n",
       "\n",
       "    .dataframe thead th {\n",
       "        text-align: right;\n",
       "    }\n",
       "</style>\n",
       "<table border=\"1\" class=\"dataframe\">\n",
       "  <thead>\n",
       "    <tr style=\"text-align: right;\">\n",
       "      <th></th>\n",
       "      <th>index</th>\n",
       "      <th>resp_text</th>\n",
       "      <th>clarity</th>\n",
       "      <th>Class</th>\n",
       "      <th>tokens</th>\n",
       "      <th>lemma</th>\n",
       "      <th>ngram2</th>\n",
       "      <th>ngram3</th>\n",
       "      <th>0</th>\n",
       "      <th>1</th>\n",
       "      <th>...</th>\n",
       "      <th>758</th>\n",
       "      <th>759</th>\n",
       "      <th>760</th>\n",
       "      <th>761</th>\n",
       "      <th>762</th>\n",
       "      <th>763</th>\n",
       "      <th>764</th>\n",
       "      <th>765</th>\n",
       "      <th>766</th>\n",
       "      <th>767</th>\n",
       "    </tr>\n",
       "  </thead>\n",
       "  <tbody>\n",
       "    <tr>\n",
       "      <th>0</th>\n",
       "      <td>0</td>\n",
       "      <td>Prezado Sr Jose Taunai  Em atenção ao seu pe...</td>\n",
       "      <td>c5</td>\n",
       "      <td>2</td>\n",
       "      <td>['prezado', 'sr', 'jose', 'taunai', 'em', 'ate...</td>\n",
       "      <td>prezar sr jose taunai em atenção a o seu pedir...</td>\n",
       "      <td>[('prezar', 'sr'), ('sr', 'jose'), ('jose', 't...</td>\n",
       "      <td>[('prezar', 'sr', 'jose'), ('sr', 'jose', 'tau...</td>\n",
       "      <td>0.366699</td>\n",
       "      <td>0.436405</td>\n",
       "      <td>...</td>\n",
       "      <td>0.646290</td>\n",
       "      <td>0.461819</td>\n",
       "      <td>0.457743</td>\n",
       "      <td>0.168369</td>\n",
       "      <td>0.451732</td>\n",
       "      <td>0.390573</td>\n",
       "      <td>0.582483</td>\n",
       "      <td>0.394189</td>\n",
       "      <td>0.513413</td>\n",
       "      <td>0.569378</td>\n",
       "    </tr>\n",
       "    <tr>\n",
       "      <th>1</th>\n",
       "      <td>1</td>\n",
       "      <td>\"A pedido do Pró-Reitor de Graduação, informa...</td>\n",
       "      <td>c5</td>\n",
       "      <td>2</td>\n",
       "      <td>['a', 'pedido', 'do', 'próreitor', 'de', 'grad...</td>\n",
       "      <td>o pedir de o próreitor de graduação informamo ...</td>\n",
       "      <td>[('o', 'pedir'), ('pedir', 'de'), ('de', 'o'),...</td>\n",
       "      <td>[('o', 'pedir', 'de'), ('pedir', 'de', 'o'), (...</td>\n",
       "      <td>0.357845</td>\n",
       "      <td>0.643555</td>\n",
       "      <td>...</td>\n",
       "      <td>0.540465</td>\n",
       "      <td>0.347499</td>\n",
       "      <td>0.333893</td>\n",
       "      <td>0.188837</td>\n",
       "      <td>0.211751</td>\n",
       "      <td>0.342873</td>\n",
       "      <td>0.642443</td>\n",
       "      <td>0.489474</td>\n",
       "      <td>0.557651</td>\n",
       "      <td>0.561903</td>\n",
       "    </tr>\n",
       "    <tr>\n",
       "      <th>2</th>\n",
       "      <td>2</td>\n",
       "      <td>\"Prezado (a) Sr. (a), Agradecemos o contato e...</td>\n",
       "      <td>c234</td>\n",
       "      <td>1</td>\n",
       "      <td>['prezado', 'a', 'sr', 'a', 'agradecemos', 'o'...</td>\n",
       "      <td>prezar o sr o agradecer o contato e informamo ...</td>\n",
       "      <td>[('prezar', 'o'), ('o', 'sr'), ('sr', 'o'), ('...</td>\n",
       "      <td>[('prezar', 'o', 'sr'), ('o', 'sr', 'o'), ('sr...</td>\n",
       "      <td>0.444821</td>\n",
       "      <td>0.499724</td>\n",
       "      <td>...</td>\n",
       "      <td>0.413470</td>\n",
       "      <td>0.404744</td>\n",
       "      <td>0.352644</td>\n",
       "      <td>0.272323</td>\n",
       "      <td>0.292353</td>\n",
       "      <td>0.365345</td>\n",
       "      <td>0.646133</td>\n",
       "      <td>0.497469</td>\n",
       "      <td>0.474224</td>\n",
       "      <td>0.546584</td>\n",
       "    </tr>\n",
       "    <tr>\n",
       "      <th>3</th>\n",
       "      <td>3</td>\n",
       "      <td>\"Prezado (a) Sr. (a), Agradecemos o contato e...</td>\n",
       "      <td>c234</td>\n",
       "      <td>1</td>\n",
       "      <td>['prezado', 'a', 'sr', 'a', 'agradecemos', 'o'...</td>\n",
       "      <td>prezar o sr o agradecer o contato e informamo ...</td>\n",
       "      <td>[('prezar', 'o'), ('o', 'sr'), ('sr', 'o'), ('...</td>\n",
       "      <td>[('prezar', 'o', 'sr'), ('o', 'sr', 'o'), ('sr...</td>\n",
       "      <td>0.338893</td>\n",
       "      <td>0.664219</td>\n",
       "      <td>...</td>\n",
       "      <td>0.502520</td>\n",
       "      <td>0.439282</td>\n",
       "      <td>0.362558</td>\n",
       "      <td>0.296149</td>\n",
       "      <td>0.379228</td>\n",
       "      <td>0.237873</td>\n",
       "      <td>0.573954</td>\n",
       "      <td>0.540782</td>\n",
       "      <td>0.604582</td>\n",
       "      <td>0.450783</td>\n",
       "    </tr>\n",
       "    <tr>\n",
       "      <th>4</th>\n",
       "      <td>4</td>\n",
       "      <td>\"Prezado Prof. Gilberto Tadeu Reis da Silva  ...</td>\n",
       "      <td>c234</td>\n",
       "      <td>1</td>\n",
       "      <td>['prezado', 'prof', 'gilberto', 'tadeu', 'reis...</td>\n",
       "      <td>prezar prof gilberto tader rei de o Silva em a...</td>\n",
       "      <td>[('prezar', 'prof'), ('prof', 'gilberto'), ('g...</td>\n",
       "      <td>[('prezar', 'prof', 'gilberto'), ('prof', 'gil...</td>\n",
       "      <td>0.496814</td>\n",
       "      <td>0.420793</td>\n",
       "      <td>...</td>\n",
       "      <td>0.602760</td>\n",
       "      <td>0.576759</td>\n",
       "      <td>0.383231</td>\n",
       "      <td>0.367842</td>\n",
       "      <td>0.531815</td>\n",
       "      <td>0.299715</td>\n",
       "      <td>0.646647</td>\n",
       "      <td>0.398757</td>\n",
       "      <td>0.508204</td>\n",
       "      <td>0.586519</td>\n",
       "    </tr>\n",
       "  </tbody>\n",
       "</table>\n",
       "<p>5 rows × 776 columns</p>\n",
       "</div>"
      ],
      "text/plain": [
       "   index                                          resp_text clarity  Class  \\\n",
       "0      0    Prezado Sr Jose Taunai  Em atenção ao seu pe...      c5      2   \n",
       "1      1   \"A pedido do Pró-Reitor de Graduação, informa...      c5      2   \n",
       "2      2   \"Prezado (a) Sr. (a), Agradecemos o contato e...    c234      1   \n",
       "3      3   \"Prezado (a) Sr. (a), Agradecemos o contato e...    c234      1   \n",
       "4      4   \"Prezado Prof. Gilberto Tadeu Reis da Silva  ...    c234      1   \n",
       "\n",
       "                                              tokens  \\\n",
       "0  ['prezado', 'sr', 'jose', 'taunai', 'em', 'ate...   \n",
       "1  ['a', 'pedido', 'do', 'próreitor', 'de', 'grad...   \n",
       "2  ['prezado', 'a', 'sr', 'a', 'agradecemos', 'o'...   \n",
       "3  ['prezado', 'a', 'sr', 'a', 'agradecemos', 'o'...   \n",
       "4  ['prezado', 'prof', 'gilberto', 'tadeu', 'reis...   \n",
       "\n",
       "                                               lemma  \\\n",
       "0  prezar sr jose taunai em atenção a o seu pedir...   \n",
       "1  o pedir de o próreitor de graduação informamo ...   \n",
       "2  prezar o sr o agradecer o contato e informamo ...   \n",
       "3  prezar o sr o agradecer o contato e informamo ...   \n",
       "4  prezar prof gilberto tader rei de o Silva em a...   \n",
       "\n",
       "                                              ngram2  \\\n",
       "0  [('prezar', 'sr'), ('sr', 'jose'), ('jose', 't...   \n",
       "1  [('o', 'pedir'), ('pedir', 'de'), ('de', 'o'),...   \n",
       "2  [('prezar', 'o'), ('o', 'sr'), ('sr', 'o'), ('...   \n",
       "3  [('prezar', 'o'), ('o', 'sr'), ('sr', 'o'), ('...   \n",
       "4  [('prezar', 'prof'), ('prof', 'gilberto'), ('g...   \n",
       "\n",
       "                                              ngram3         0         1  ...  \\\n",
       "0  [('prezar', 'sr', 'jose'), ('sr', 'jose', 'tau...  0.366699  0.436405  ...   \n",
       "1  [('o', 'pedir', 'de'), ('pedir', 'de', 'o'), (...  0.357845  0.643555  ...   \n",
       "2  [('prezar', 'o', 'sr'), ('o', 'sr', 'o'), ('sr...  0.444821  0.499724  ...   \n",
       "3  [('prezar', 'o', 'sr'), ('o', 'sr', 'o'), ('sr...  0.338893  0.664219  ...   \n",
       "4  [('prezar', 'prof', 'gilberto'), ('prof', 'gil...  0.496814  0.420793  ...   \n",
       "\n",
       "        758       759       760       761       762       763       764  \\\n",
       "0  0.646290  0.461819  0.457743  0.168369  0.451732  0.390573  0.582483   \n",
       "1  0.540465  0.347499  0.333893  0.188837  0.211751  0.342873  0.642443   \n",
       "2  0.413470  0.404744  0.352644  0.272323  0.292353  0.365345  0.646133   \n",
       "3  0.502520  0.439282  0.362558  0.296149  0.379228  0.237873  0.573954   \n",
       "4  0.602760  0.576759  0.383231  0.367842  0.531815  0.299715  0.646647   \n",
       "\n",
       "        765       766       767  \n",
       "0  0.394189  0.513413  0.569378  \n",
       "1  0.489474  0.557651  0.561903  \n",
       "2  0.497469  0.474224  0.546584  \n",
       "3  0.540782  0.604582  0.450783  \n",
       "4  0.398757  0.508204  0.586519  \n",
       "\n",
       "[5 rows x 776 columns]"
      ]
     },
     "execution_count": 36,
     "metadata": {},
     "output_type": "execute_result"
    }
   ],
   "source": [
    "df.head()"
   ]
  },
  {
   "cell_type": "code",
   "execution_count": 37,
   "metadata": {},
   "outputs": [
    {
     "name": "stdout",
     "output_type": "stream",
     "text": [
      "<class 'pandas.core.frame.DataFrame'>\n",
      "RangeIndex: 6000 entries, 0 to 5999\n",
      "Columns: 776 entries, index to 767\n",
      "dtypes: float64(768), int64(2), object(6)\n",
      "memory usage: 35.5+ MB\n"
     ]
    }
   ],
   "source": [
    "df.info()"
   ]
  },
  {
   "cell_type": "code",
   "execution_count": null,
   "metadata": {},
   "outputs": [],
   "source": []
  },
  {
   "cell_type": "code",
   "execution_count": 38,
   "metadata": {},
   "outputs": [],
   "source": [
    "from sklearn.model_selection import train_test_split"
   ]
  },
  {
   "cell_type": "code",
   "execution_count": 39,
   "metadata": {},
   "outputs": [],
   "source": [
    "\n",
    "X = df.iloc[:,8:]\n",
    "y = df['Class']\n",
    "X_train, X_test, y_train, y_test = train_test_split(X, y, test_size=0.2, stratify=df['Class'], random_state=seed)"
   ]
  },
  {
   "cell_type": "code",
   "execution_count": 40,
   "metadata": {},
   "outputs": [
    {
     "data": {
      "text/html": [
       "<div>\n",
       "<style scoped>\n",
       "    .dataframe tbody tr th:only-of-type {\n",
       "        vertical-align: middle;\n",
       "    }\n",
       "\n",
       "    .dataframe tbody tr th {\n",
       "        vertical-align: top;\n",
       "    }\n",
       "\n",
       "    .dataframe thead th {\n",
       "        text-align: right;\n",
       "    }\n",
       "</style>\n",
       "<table border=\"1\" class=\"dataframe\">\n",
       "  <thead>\n",
       "    <tr style=\"text-align: right;\">\n",
       "      <th></th>\n",
       "      <th>0</th>\n",
       "      <th>1</th>\n",
       "      <th>2</th>\n",
       "      <th>3</th>\n",
       "      <th>4</th>\n",
       "      <th>5</th>\n",
       "      <th>6</th>\n",
       "      <th>7</th>\n",
       "      <th>8</th>\n",
       "      <th>9</th>\n",
       "      <th>...</th>\n",
       "      <th>758</th>\n",
       "      <th>759</th>\n",
       "      <th>760</th>\n",
       "      <th>761</th>\n",
       "      <th>762</th>\n",
       "      <th>763</th>\n",
       "      <th>764</th>\n",
       "      <th>765</th>\n",
       "      <th>766</th>\n",
       "      <th>767</th>\n",
       "    </tr>\n",
       "  </thead>\n",
       "  <tbody>\n",
       "    <tr>\n",
       "      <th>0</th>\n",
       "      <td>0.366699</td>\n",
       "      <td>0.436405</td>\n",
       "      <td>0.597397</td>\n",
       "      <td>0.373641</td>\n",
       "      <td>0.257723</td>\n",
       "      <td>0.675852</td>\n",
       "      <td>0.290759</td>\n",
       "      <td>0.500709</td>\n",
       "      <td>0.338782</td>\n",
       "      <td>0.468826</td>\n",
       "      <td>...</td>\n",
       "      <td>0.646290</td>\n",
       "      <td>0.461819</td>\n",
       "      <td>0.457743</td>\n",
       "      <td>0.168369</td>\n",
       "      <td>0.451732</td>\n",
       "      <td>0.390573</td>\n",
       "      <td>0.582483</td>\n",
       "      <td>0.394189</td>\n",
       "      <td>0.513413</td>\n",
       "      <td>0.569378</td>\n",
       "    </tr>\n",
       "    <tr>\n",
       "      <th>1</th>\n",
       "      <td>0.357845</td>\n",
       "      <td>0.643555</td>\n",
       "      <td>0.584826</td>\n",
       "      <td>0.224671</td>\n",
       "      <td>0.322027</td>\n",
       "      <td>0.532861</td>\n",
       "      <td>0.393085</td>\n",
       "      <td>0.546882</td>\n",
       "      <td>0.364420</td>\n",
       "      <td>0.315898</td>\n",
       "      <td>...</td>\n",
       "      <td>0.540465</td>\n",
       "      <td>0.347499</td>\n",
       "      <td>0.333893</td>\n",
       "      <td>0.188837</td>\n",
       "      <td>0.211751</td>\n",
       "      <td>0.342873</td>\n",
       "      <td>0.642443</td>\n",
       "      <td>0.489474</td>\n",
       "      <td>0.557651</td>\n",
       "      <td>0.561903</td>\n",
       "    </tr>\n",
       "    <tr>\n",
       "      <th>2</th>\n",
       "      <td>0.444821</td>\n",
       "      <td>0.499724</td>\n",
       "      <td>0.634348</td>\n",
       "      <td>0.405609</td>\n",
       "      <td>0.347355</td>\n",
       "      <td>0.520599</td>\n",
       "      <td>0.341498</td>\n",
       "      <td>0.399472</td>\n",
       "      <td>0.383273</td>\n",
       "      <td>0.415257</td>\n",
       "      <td>...</td>\n",
       "      <td>0.413470</td>\n",
       "      <td>0.404744</td>\n",
       "      <td>0.352644</td>\n",
       "      <td>0.272323</td>\n",
       "      <td>0.292353</td>\n",
       "      <td>0.365345</td>\n",
       "      <td>0.646133</td>\n",
       "      <td>0.497469</td>\n",
       "      <td>0.474224</td>\n",
       "      <td>0.546584</td>\n",
       "    </tr>\n",
       "    <tr>\n",
       "      <th>3</th>\n",
       "      <td>0.338893</td>\n",
       "      <td>0.664219</td>\n",
       "      <td>0.520466</td>\n",
       "      <td>0.433406</td>\n",
       "      <td>0.325693</td>\n",
       "      <td>0.413236</td>\n",
       "      <td>0.285352</td>\n",
       "      <td>0.434378</td>\n",
       "      <td>0.322330</td>\n",
       "      <td>0.492441</td>\n",
       "      <td>...</td>\n",
       "      <td>0.502520</td>\n",
       "      <td>0.439282</td>\n",
       "      <td>0.362558</td>\n",
       "      <td>0.296149</td>\n",
       "      <td>0.379228</td>\n",
       "      <td>0.237873</td>\n",
       "      <td>0.573954</td>\n",
       "      <td>0.540782</td>\n",
       "      <td>0.604582</td>\n",
       "      <td>0.450783</td>\n",
       "    </tr>\n",
       "    <tr>\n",
       "      <th>4</th>\n",
       "      <td>0.496814</td>\n",
       "      <td>0.420793</td>\n",
       "      <td>0.574704</td>\n",
       "      <td>0.395315</td>\n",
       "      <td>0.284556</td>\n",
       "      <td>0.593564</td>\n",
       "      <td>0.416742</td>\n",
       "      <td>0.573463</td>\n",
       "      <td>0.420579</td>\n",
       "      <td>0.451871</td>\n",
       "      <td>...</td>\n",
       "      <td>0.602760</td>\n",
       "      <td>0.576759</td>\n",
       "      <td>0.383231</td>\n",
       "      <td>0.367842</td>\n",
       "      <td>0.531815</td>\n",
       "      <td>0.299715</td>\n",
       "      <td>0.646647</td>\n",
       "      <td>0.398757</td>\n",
       "      <td>0.508204</td>\n",
       "      <td>0.586519</td>\n",
       "    </tr>\n",
       "  </tbody>\n",
       "</table>\n",
       "<p>5 rows × 768 columns</p>\n",
       "</div>"
      ],
      "text/plain": [
       "          0         1         2         3         4         5         6  \\\n",
       "0  0.366699  0.436405  0.597397  0.373641  0.257723  0.675852  0.290759   \n",
       "1  0.357845  0.643555  0.584826  0.224671  0.322027  0.532861  0.393085   \n",
       "2  0.444821  0.499724  0.634348  0.405609  0.347355  0.520599  0.341498   \n",
       "3  0.338893  0.664219  0.520466  0.433406  0.325693  0.413236  0.285352   \n",
       "4  0.496814  0.420793  0.574704  0.395315  0.284556  0.593564  0.416742   \n",
       "\n",
       "          7         8         9  ...       758       759       760       761  \\\n",
       "0  0.500709  0.338782  0.468826  ...  0.646290  0.461819  0.457743  0.168369   \n",
       "1  0.546882  0.364420  0.315898  ...  0.540465  0.347499  0.333893  0.188837   \n",
       "2  0.399472  0.383273  0.415257  ...  0.413470  0.404744  0.352644  0.272323   \n",
       "3  0.434378  0.322330  0.492441  ...  0.502520  0.439282  0.362558  0.296149   \n",
       "4  0.573463  0.420579  0.451871  ...  0.602760  0.576759  0.383231  0.367842   \n",
       "\n",
       "        762       763       764       765       766       767  \n",
       "0  0.451732  0.390573  0.582483  0.394189  0.513413  0.569378  \n",
       "1  0.211751  0.342873  0.642443  0.489474  0.557651  0.561903  \n",
       "2  0.292353  0.365345  0.646133  0.497469  0.474224  0.546584  \n",
       "3  0.379228  0.237873  0.573954  0.540782  0.604582  0.450783  \n",
       "4  0.531815  0.299715  0.646647  0.398757  0.508204  0.586519  \n",
       "\n",
       "[5 rows x 768 columns]"
      ]
     },
     "execution_count": 40,
     "metadata": {},
     "output_type": "execute_result"
    }
   ],
   "source": [
    "X.head()"
   ]
  },
  {
   "cell_type": "code",
   "execution_count": 41,
   "metadata": {},
   "outputs": [
    {
     "data": {
      "text/plain": [
       "0    2\n",
       "1    2\n",
       "2    1\n",
       "3    1\n",
       "4    1\n",
       "Name: Class, dtype: int64"
      ]
     },
     "execution_count": 41,
     "metadata": {},
     "output_type": "execute_result"
    }
   ],
   "source": [
    "y.head()"
   ]
  },
  {
   "cell_type": "code",
   "execution_count": 42,
   "metadata": {},
   "outputs": [],
   "source": [
    "import warnings\n",
    "\n",
    "warnings.filterwarnings(\"ignore\")"
   ]
  },
  {
   "cell_type": "code",
   "execution_count": 43,
   "metadata": {},
   "outputs": [],
   "source": [
    "from sklearn.model_selection import cross_val_score"
   ]
  },
  {
   "cell_type": "code",
   "execution_count": 44,
   "metadata": {},
   "outputs": [
    {
     "name": "stdout",
     "output_type": "stream",
     "text": [
      "[0.42083333 0.45625    0.45208333 0.46666667 0.4625     0.41458333\n",
      " 0.45       0.45416667 0.50833333 0.43125   ]\n"
     ]
    },
    {
     "data": {
      "text/plain": [
       "0.45166666666666677"
      ]
     },
     "execution_count": 44,
     "metadata": {},
     "output_type": "execute_result"
    }
   ],
   "source": [
    "from sklearn import naive_bayes\n",
    "\n",
    "Naive = naive_bayes.MultinomialNB()\n",
    "\n",
    "scores = cross_val_score(Naive, X_train, y_train, cv=10)\n",
    "\n",
    "print(scores)\n",
    "scores.mean()"
   ]
  },
  {
   "cell_type": "code",
   "execution_count": 45,
   "metadata": {},
   "outputs": [
    {
     "name": "stdout",
     "output_type": "stream",
     "text": [
      "[0.54583333 0.52291667 0.53958333 0.51041667 0.525      0.51041667\n",
      " 0.52291667 0.51666667 0.52708333 0.54166667]\n"
     ]
    },
    {
     "data": {
      "text/plain": [
       "0.52625"
      ]
     },
     "execution_count": 45,
     "metadata": {},
     "output_type": "execute_result"
    }
   ],
   "source": [
    "from sklearn import svm\n",
    "\n",
    "SVM = svm.SVC(C=1.0, kernel='linear', degree=3, gamma='auto')\n",
    "\n",
    "scores = cross_val_score(SVM, X_train, y_train, cv=10)\n",
    "\n",
    "print(scores)\n",
    "scores.mean()"
   ]
  },
  {
   "cell_type": "code",
   "execution_count": 46,
   "metadata": {},
   "outputs": [
    {
     "data": {
      "text/plain": [
       "0.5408333333333334"
      ]
     },
     "execution_count": 46,
     "metadata": {},
     "output_type": "execute_result"
    }
   ],
   "source": [
    "from sklearn.metrics import accuracy_score\n",
    "\n",
    "SVM.fit(X_train, y_train)\n",
    "\n",
    "y_pred = SVM.predict(X_test)\n",
    "\n",
    "accuracy_score(y_pred=y_pred, y_true=y_test)"
   ]
  },
  {
   "cell_type": "code",
   "execution_count": 47,
   "metadata": {},
   "outputs": [
    {
     "name": "stdout",
     "output_type": "stream",
     "text": [
      "[0.51458333 0.52083333 0.52083333 0.5125     0.54791667 0.48541667\n",
      " 0.58125    0.55       0.53125    0.55416667]\n"
     ]
    },
    {
     "data": {
      "text/plain": [
       "0.531875"
      ]
     },
     "execution_count": 47,
     "metadata": {},
     "output_type": "execute_result"
    }
   ],
   "source": [
    "from sklearn.ensemble import RandomForestClassifier\n",
    "\n",
    "RF = RandomForestClassifier()\n",
    "scores = cross_val_score(RF, X_train, y_train, cv=10)\n",
    "\n",
    "print(scores)\n",
    "scores.mean()"
   ]
  },
  {
   "cell_type": "code",
   "execution_count": 48,
   "metadata": {},
   "outputs": [
    {
     "data": {
      "text/plain": [
       "0.5525"
      ]
     },
     "execution_count": 48,
     "metadata": {},
     "output_type": "execute_result"
    }
   ],
   "source": [
    "from sklearn.metrics import accuracy_score\n",
    "\n",
    "RF.fit(X_train, y_train)\n",
    "\n",
    "y_pred = RF.predict(X_test)\n",
    "\n",
    "accuracy_score(y_pred=y_pred, y_true=y_test)"
   ]
  },
  {
   "cell_type": "code",
   "execution_count": 49,
   "metadata": {},
   "outputs": [
    {
     "name": "stdout",
     "output_type": "stream",
     "text": [
      "[0.44333333 0.54       0.41833333 0.48       0.445      0.43666667\n",
      " 0.33       0.41166667 0.40666667 0.46833333]\n"
     ]
    },
    {
     "data": {
      "text/plain": [
       "0.438"
      ]
     },
     "execution_count": 49,
     "metadata": {},
     "output_type": "execute_result"
    }
   ],
   "source": [
    "scores = cross_val_score(RF, X, y, cv=10)\n",
    "\n",
    "print(scores)\n",
    "scores.mean()"
   ]
  }
 ],
 "metadata": {
  "kernelspec": {
   "display_name": "Python 3",
   "language": "python",
   "name": "python3"
  },
  "language_info": {
   "codemirror_mode": {
    "name": "ipython",
    "version": 3
   },
   "file_extension": ".py",
   "mimetype": "text/x-python",
   "name": "python",
   "nbconvert_exporter": "python",
   "pygments_lexer": "ipython3",
   "version": "3.11.4"
  }
 },
 "nbformat": 4,
 "nbformat_minor": 2
}
