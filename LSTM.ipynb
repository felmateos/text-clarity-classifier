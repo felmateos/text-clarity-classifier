{
 "cells": [
  {
   "cell_type": "code",
   "execution_count": 2,
   "metadata": {},
   "outputs": [],
   "source": [
    "import pandas as pd"
   ]
  },
  {
   "cell_type": "code",
   "execution_count": 3,
   "metadata": {},
   "outputs": [
    {
     "data": {
      "text/html": [
       "<div>\n",
       "<style scoped>\n",
       "    .dataframe tbody tr th:only-of-type {\n",
       "        vertical-align: middle;\n",
       "    }\n",
       "\n",
       "    .dataframe tbody tr th {\n",
       "        vertical-align: top;\n",
       "    }\n",
       "\n",
       "    .dataframe thead th {\n",
       "        text-align: right;\n",
       "    }\n",
       "</style>\n",
       "<table border=\"1\" class=\"dataframe\">\n",
       "  <thead>\n",
       "    <tr style=\"text-align: right;\">\n",
       "      <th></th>\n",
       "      <th>Unnamed: 0</th>\n",
       "      <th>resp_text</th>\n",
       "      <th>clarity</th>\n",
       "      <th>Class</th>\n",
       "      <th>tokens</th>\n",
       "      <th>lemma</th>\n",
       "      <th>ngram2</th>\n",
       "      <th>ngram3</th>\n",
       "    </tr>\n",
       "  </thead>\n",
       "  <tbody>\n",
       "    <tr>\n",
       "      <th>0</th>\n",
       "      <td>0</td>\n",
       "      <td>Prezado Sr Jose Taunai  Em atenção ao seu pe...</td>\n",
       "      <td>c5</td>\n",
       "      <td>2</td>\n",
       "      <td>['prezado', 'sr', 'jose', 'taunai', 'em', 'ate...</td>\n",
       "      <td>prezar sr jose taunai em atenção a o seu pedir...</td>\n",
       "      <td>[('prezar', 'sr'), ('sr', 'jose'), ('jose', 't...</td>\n",
       "      <td>[('prezar', 'sr', 'jose'), ('sr', 'jose', 'tau...</td>\n",
       "    </tr>\n",
       "    <tr>\n",
       "      <th>1</th>\n",
       "      <td>1</td>\n",
       "      <td>\"A pedido do Pró-Reitor de Graduação, informa...</td>\n",
       "      <td>c5</td>\n",
       "      <td>2</td>\n",
       "      <td>['a', 'pedido', 'do', 'próreitor', 'de', 'grad...</td>\n",
       "      <td>o pedir de o próreitor de graduação informamo ...</td>\n",
       "      <td>[('o', 'pedir'), ('pedir', 'de'), ('de', 'o'),...</td>\n",
       "      <td>[('o', 'pedir', 'de'), ('pedir', 'de', 'o'), (...</td>\n",
       "    </tr>\n",
       "    <tr>\n",
       "      <th>2</th>\n",
       "      <td>2</td>\n",
       "      <td>\"Prezado (a) Sr. (a), Agradecemos o contato e...</td>\n",
       "      <td>c234</td>\n",
       "      <td>1</td>\n",
       "      <td>['prezado', 'a', 'sr', 'a', 'agradecemos', 'o'...</td>\n",
       "      <td>prezar o sr o agradecer o contato e informamo ...</td>\n",
       "      <td>[('prezar', 'o'), ('o', 'sr'), ('sr', 'o'), ('...</td>\n",
       "      <td>[('prezar', 'o', 'sr'), ('o', 'sr', 'o'), ('sr...</td>\n",
       "    </tr>\n",
       "    <tr>\n",
       "      <th>3</th>\n",
       "      <td>3</td>\n",
       "      <td>\"Prezado (a) Sr. (a), Agradecemos o contato e...</td>\n",
       "      <td>c234</td>\n",
       "      <td>1</td>\n",
       "      <td>['prezado', 'a', 'sr', 'a', 'agradecemos', 'o'...</td>\n",
       "      <td>prezar o sr o agradecer o contato e informamo ...</td>\n",
       "      <td>[('prezar', 'o'), ('o', 'sr'), ('sr', 'o'), ('...</td>\n",
       "      <td>[('prezar', 'o', 'sr'), ('o', 'sr', 'o'), ('sr...</td>\n",
       "    </tr>\n",
       "    <tr>\n",
       "      <th>4</th>\n",
       "      <td>4</td>\n",
       "      <td>\"Prezado Prof. Gilberto Tadeu Reis da Silva  ...</td>\n",
       "      <td>c234</td>\n",
       "      <td>1</td>\n",
       "      <td>['prezado', 'prof', 'gilberto', 'tadeu', 'reis...</td>\n",
       "      <td>prezar prof gilberto tader rei de o Silva em a...</td>\n",
       "      <td>[('prezar', 'prof'), ('prof', 'gilberto'), ('g...</td>\n",
       "      <td>[('prezar', 'prof', 'gilberto'), ('prof', 'gil...</td>\n",
       "    </tr>\n",
       "  </tbody>\n",
       "</table>\n",
       "</div>"
      ],
      "text/plain": [
       "   Unnamed: 0                                          resp_text clarity  \\\n",
       "0           0    Prezado Sr Jose Taunai  Em atenção ao seu pe...      c5   \n",
       "1           1   \"A pedido do Pró-Reitor de Graduação, informa...      c5   \n",
       "2           2   \"Prezado (a) Sr. (a), Agradecemos o contato e...    c234   \n",
       "3           3   \"Prezado (a) Sr. (a), Agradecemos o contato e...    c234   \n",
       "4           4   \"Prezado Prof. Gilberto Tadeu Reis da Silva  ...    c234   \n",
       "\n",
       "   Class                                             tokens  \\\n",
       "0      2  ['prezado', 'sr', 'jose', 'taunai', 'em', 'ate...   \n",
       "1      2  ['a', 'pedido', 'do', 'próreitor', 'de', 'grad...   \n",
       "2      1  ['prezado', 'a', 'sr', 'a', 'agradecemos', 'o'...   \n",
       "3      1  ['prezado', 'a', 'sr', 'a', 'agradecemos', 'o'...   \n",
       "4      1  ['prezado', 'prof', 'gilberto', 'tadeu', 'reis...   \n",
       "\n",
       "                                               lemma  \\\n",
       "0  prezar sr jose taunai em atenção a o seu pedir...   \n",
       "1  o pedir de o próreitor de graduação informamo ...   \n",
       "2  prezar o sr o agradecer o contato e informamo ...   \n",
       "3  prezar o sr o agradecer o contato e informamo ...   \n",
       "4  prezar prof gilberto tader rei de o Silva em a...   \n",
       "\n",
       "                                              ngram2  \\\n",
       "0  [('prezar', 'sr'), ('sr', 'jose'), ('jose', 't...   \n",
       "1  [('o', 'pedir'), ('pedir', 'de'), ('de', 'o'),...   \n",
       "2  [('prezar', 'o'), ('o', 'sr'), ('sr', 'o'), ('...   \n",
       "3  [('prezar', 'o'), ('o', 'sr'), ('sr', 'o'), ('...   \n",
       "4  [('prezar', 'prof'), ('prof', 'gilberto'), ('g...   \n",
       "\n",
       "                                              ngram3  \n",
       "0  [('prezar', 'sr', 'jose'), ('sr', 'jose', 'tau...  \n",
       "1  [('o', 'pedir', 'de'), ('pedir', 'de', 'o'), (...  \n",
       "2  [('prezar', 'o', 'sr'), ('o', 'sr', 'o'), ('sr...  \n",
       "3  [('prezar', 'o', 'sr'), ('o', 'sr', 'o'), ('sr...  \n",
       "4  [('prezar', 'prof', 'gilberto'), ('prof', 'gil...  "
      ]
     },
     "execution_count": 3,
     "metadata": {},
     "output_type": "execute_result"
    }
   ],
   "source": [
    "df = pd.read_csv('./datasets/DfCleaned.csv')\n",
    "df.head()"
   ]
  },
  {
   "cell_type": "code",
   "execution_count": 5,
   "metadata": {},
   "outputs": [
    {
     "name": "stderr",
     "output_type": "stream",
     "text": [
      "2023-11-09 19:21:54.333636: I tensorflow/tsl/cuda/cudart_stub.cc:28] Could not find cuda drivers on your machine, GPU will not be used.\n",
      "2023-11-09 19:21:54.602427: E tensorflow/compiler/xla/stream_executor/cuda/cuda_dnn.cc:9342] Unable to register cuDNN factory: Attempting to register factory for plugin cuDNN when one has already been registered\n",
      "2023-11-09 19:21:54.602457: E tensorflow/compiler/xla/stream_executor/cuda/cuda_fft.cc:609] Unable to register cuFFT factory: Attempting to register factory for plugin cuFFT when one has already been registered\n",
      "2023-11-09 19:21:54.603600: E tensorflow/compiler/xla/stream_executor/cuda/cuda_blas.cc:1518] Unable to register cuBLAS factory: Attempting to register factory for plugin cuBLAS when one has already been registered\n",
      "2023-11-09 19:21:54.693818: I tensorflow/tsl/cuda/cudart_stub.cc:28] Could not find cuda drivers on your machine, GPU will not be used.\n",
      "2023-11-09 19:21:54.694737: I tensorflow/core/platform/cpu_feature_guard.cc:182] This TensorFlow binary is optimized to use available CPU instructions in performance-critical operations.\n",
      "To enable the following instructions: AVX2 FMA, in other operations, rebuild TensorFlow with the appropriate compiler flags.\n",
      "2023-11-09 19:21:55.739254: W tensorflow/compiler/tf2tensorrt/utils/py_utils.cc:38] TF-TRT Warning: Could not find TensorRT\n",
      "WARNING:root:Limited tf.compat.v2.summary API due to missing TensorBoard installation.\n",
      "WARNING:root:Limited tf.compat.v2.summary API due to missing TensorBoard installation.\n",
      "WARNING:root:Limited tf.compat.v2.summary API due to missing TensorBoard installation.\n",
      "WARNING:root:Limited tf.summary API due to missing TensorBoard installation.\n",
      "WARNING:root:Limited tf.compat.v2.summary API due to missing TensorBoard installation.\n",
      "WARNING:root:Limited tf.compat.v2.summary API due to missing TensorBoard installation.\n",
      "WARNING:root:Limited tf.compat.v2.summary API due to missing TensorBoard installation.\n"
     ]
    }
   ],
   "source": [
    "import tensorflow as tf\n",
    "from tensorflow import keras\n",
    "from tensorflow.keras import Sequential\n",
    "from tensorflow.keras import layers\n",
    "from tensorflow.keras.preprocessing.sequence import pad_sequences\n",
    "from keras.preprocessing.text import Tokenizer\n",
    "from tensorflow.keras.callbacks import EarlyStopping\n",
    "from sklearn.model_selection import train_test_split"
   ]
  },
  {
   "cell_type": "code",
   "execution_count": 6,
   "metadata": {},
   "outputs": [],
   "source": [
    "max_features = 1000\n",
    "tokenizer = Tokenizer(num_words= max_features, split= ' ')\n",
    "tokenizer.fit_on_texts(df['ngram3'].values)\n",
    "x = tokenizer.texts_to_sequences(df['ngram3'].values)\n",
    "x = pad_sequences(x)"
   ]
  },
  {
   "cell_type": "code",
   "execution_count": null,
   "metadata": {},
   "outputs": [],
   "source": [
    "embed_dim = 32\n",
    "lstm_out = 32\n",
    "\n",
    "model = Sequential([\n",
    "    layers.Embedding(max_features, embed_dim, input_length= x.shape[1]),\n",
    "    layers.Conv1D(filters=32, kernel_size=3, padding='same', activation= 'relu'),\n",
    "    layers.MaxPooling1D(pool_size=2),\n",
    "    layers.LSTM(128, dropout=0.4, recurrent_dropout=0.4),\n",
    "    layers.Dense(3, activation='softmax')\n",
    "])\n",
    "\n",
    "model.compile(loss='categorical_crossentropy', optimizer='adam', metrics=['accuracy'])\n",
    "print(model.summary())"
   ]
  },
  {
   "cell_type": "code",
   "execution_count": 8,
   "metadata": {},
   "outputs": [],
   "source": [
    "y = pd.get_dummies(df['clarity']).values"
   ]
  },
  {
   "cell_type": "markdown",
   "metadata": {},
   "source": [
    "### Model"
   ]
  },
  {
   "cell_type": "code",
   "execution_count": 10,
   "metadata": {},
   "outputs": [],
   "source": [
    "from sklearn.model_selection import cross_val_score\n",
    "from tensorflow.keras.layers import LSTM, Dense\n",
    "#from tensorflow.keras.wrappers.scikit_learn import KerasClassifier\n",
    "from scikeras.wrappers import KerasClassifier"
   ]
  },
  {
   "cell_type": "code",
   "execution_count": 11,
   "metadata": {},
   "outputs": [],
   "source": [
    "def modelLSTM():\n",
    "    max_features = 1000\n",
    "    embed_dim = 32\n",
    "    lstm_out = 32\n",
    "    \n",
    "    model = Sequential([\n",
    "        layers.Embedding(max_features, embed_dim, input_length= x.shape[1]),\n",
    "        layers.Conv1D(filters=32, kernel_size=3, padding='same', activation= 'relu'),\n",
    "        layers.MaxPooling1D(pool_size=2),\n",
    "        layers.LSTM(128, dropout=0.4, recurrent_dropout=0.1),\n",
    "        layers.Dense(3, activation='softmax')\n",
    "    ])\n",
    "\n",
    "    model.compile(loss='binary_crossentropy', optimizer='adam', metrics=['accuracy'])\n",
    "\n",
    "    return model"
   ]
  },
  {
   "cell_type": "code",
   "execution_count": 14,
   "metadata": {},
   "outputs": [],
   "source": [
    "clf = KerasClassifier(build_fn=modelLSTM, epochs=10, batch_size=32, verbose=1)\n"
   ]
  },
  {
   "cell_type": "code",
   "execution_count": 15,
   "metadata": {},
   "outputs": [
    {
     "name": "stderr",
     "output_type": "stream",
     "text": [
      "/home/chocomenta/anaconda3/lib/python3.11/site-packages/scikeras/wrappers.py:915: UserWarning: ``build_fn`` will be renamed to ``model`` in a future release, at which point use of ``build_fn`` will raise an Error instead.\n",
      "  X, y = self._initialize(X, y)\n"
     ]
    },
    {
     "name": "stdout",
     "output_type": "stream",
     "text": [
      "Epoch 1/10\n"
     ]
    },
    {
     "name": "stderr",
     "output_type": "stream",
     "text": [
      "2023-11-09 19:26:57.719528: W tensorflow/tsl/framework/cpu_allocator_impl.cc:83] Allocation of 108324000 exceeds 10% of free system memory.\n"
     ]
    },
    {
     "name": "stdout",
     "output_type": "stream",
     "text": [
      "169/169 [==============================] - 435s 3s/step - loss: 0.6268 - accuracy: 0.3876\n",
      "Epoch 2/10\n",
      "169/169 [==============================] - 435s 3s/step - loss: 0.5817 - accuracy: 0.4778\n",
      "Epoch 3/10\n",
      "169/169 [==============================] - 425s 3s/step - loss: 0.5544 - accuracy: 0.5359\n",
      "Epoch 4/10\n",
      " 96/169 [================>.............] - ETA: 3:09 - loss: 0.5265 - accuracy: 0.5762"
     ]
    }
   ],
   "source": [
    "result = cross_val_score(clf, x, y, scoring='accuracy', cv=10)\n",
    "result"
   ]
  },
  {
   "cell_type": "code",
   "execution_count": null,
   "metadata": {},
   "outputs": [],
   "source": [
    "result.mean()"
   ]
  }
 ],
 "metadata": {
  "kernelspec": {
   "display_name": "base",
   "language": "python",
   "name": "python3"
  },
  "language_info": {
   "codemirror_mode": {
    "name": "ipython",
    "version": 3
   },
   "file_extension": ".py",
   "mimetype": "text/x-python",
   "name": "python",
   "nbconvert_exporter": "python",
   "pygments_lexer": "ipython3",
   "version": "3.11.4"
  }
 },
 "nbformat": 4,
 "nbformat_minor": 2
}
