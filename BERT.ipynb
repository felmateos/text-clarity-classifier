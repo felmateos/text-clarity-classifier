{
 "cells": [
  {
   "cell_type": "code",
   "execution_count": 1,
   "metadata": {},
   "outputs": [],
   "source": [
    "import pandas as pd\n",
    "import numpy as np"
   ]
  },
  {
   "cell_type": "code",
   "execution_count": 2,
   "metadata": {},
   "outputs": [
    {
     "data": {
      "text/html": [
       "<div>\n",
       "<style scoped>\n",
       "    .dataframe tbody tr th:only-of-type {\n",
       "        vertical-align: middle;\n",
       "    }\n",
       "\n",
       "    .dataframe tbody tr th {\n",
       "        vertical-align: top;\n",
       "    }\n",
       "\n",
       "    .dataframe thead th {\n",
       "        text-align: right;\n",
       "    }\n",
       "</style>\n",
       "<table border=\"1\" class=\"dataframe\">\n",
       "  <thead>\n",
       "    <tr style=\"text-align: right;\">\n",
       "      <th></th>\n",
       "      <th>Unnamed: 0</th>\n",
       "      <th>resp_text</th>\n",
       "      <th>clarity</th>\n",
       "      <th>Class</th>\n",
       "      <th>tokens</th>\n",
       "      <th>lemma</th>\n",
       "      <th>ngram2</th>\n",
       "      <th>ngram3</th>\n",
       "    </tr>\n",
       "  </thead>\n",
       "  <tbody>\n",
       "    <tr>\n",
       "      <th>0</th>\n",
       "      <td>0</td>\n",
       "      <td>Prezada Senhora, Informa-se que o DNIT é uma ...</td>\n",
       "      <td>c1</td>\n",
       "      <td>0</td>\n",
       "      <td>['prezada', 'senhora', 'informase', 'que', 'o'...</td>\n",
       "      <td>prezar senhor informase que o dnit ser um auta...</td>\n",
       "      <td>[('prezar', 'senhor'), ('senhor', 'informase')...</td>\n",
       "      <td>[('prezar', 'senhor', 'informase'), ('senhor',...</td>\n",
       "    </tr>\n",
       "    <tr>\n",
       "      <th>1</th>\n",
       "      <td>1</td>\n",
       "      <td>Prezada,   Os dados se referem somente aos na...</td>\n",
       "      <td>c1</td>\n",
       "      <td>0</td>\n",
       "      <td>['prezada', 'os', 'dados', 'se', 'referem', 's...</td>\n",
       "      <td>prezar o dar se referir somente a o nascido vi...</td>\n",
       "      <td>[('prezar', 'o'), ('o', 'dar'), ('dar', 'se'),...</td>\n",
       "      <td>[('prezar', 'o', 'dar'), ('o', 'dar', 'se'), (...</td>\n",
       "    </tr>\n",
       "    <tr>\n",
       "      <th>2</th>\n",
       "      <td>2</td>\n",
       "      <td>Prezado Usuário, Inicialmente agradecemos o s...</td>\n",
       "      <td>c1</td>\n",
       "      <td>0</td>\n",
       "      <td>['prezado', 'usuário', 'inicialmente', 'agrade...</td>\n",
       "      <td>prezar usuário inicialmente agradecer o seu co...</td>\n",
       "      <td>[('prezar', 'usuário'), ('usuário', 'inicialme...</td>\n",
       "      <td>[('prezar', 'usuário', 'inicialmente'), ('usuá...</td>\n",
       "    </tr>\n",
       "    <tr>\n",
       "      <th>3</th>\n",
       "      <td>3</td>\n",
       "      <td>Prezada,   Referimo-nos a sua demanda, regist...</td>\n",
       "      <td>c1</td>\n",
       "      <td>0</td>\n",
       "      <td>['prezada', 'referimonos', 'a', 'sua', 'demand...</td>\n",
       "      <td>prezar referimono o seu demanda registrar em o...</td>\n",
       "      <td>[('prezar', 'referimono'), ('referimono', 'o')...</td>\n",
       "      <td>[('prezar', 'referimono', 'o'), ('referimono',...</td>\n",
       "    </tr>\n",
       "    <tr>\n",
       "      <th>4</th>\n",
       "      <td>4</td>\n",
       "      <td>Prezada,   Segue anexa a resposta da área com...</td>\n",
       "      <td>c1</td>\n",
       "      <td>0</td>\n",
       "      <td>['prezada', 'segue', 'anexa', 'a', 'resposta',...</td>\n",
       "      <td>prezar seguir anexo o resposta de o área compe...</td>\n",
       "      <td>[('prezar', 'seguir'), ('seguir', 'anexo'), ('...</td>\n",
       "      <td>[('prezar', 'seguir', 'anexo'), ('seguir', 'an...</td>\n",
       "    </tr>\n",
       "  </tbody>\n",
       "</table>\n",
       "</div>"
      ],
      "text/plain": [
       "   Unnamed: 0                                          resp_text clarity  \\\n",
       "0           0   Prezada Senhora, Informa-se que o DNIT é uma ...      c1   \n",
       "1           1   Prezada,   Os dados se referem somente aos na...      c1   \n",
       "2           2   Prezado Usuário, Inicialmente agradecemos o s...      c1   \n",
       "3           3   Prezada,   Referimo-nos a sua demanda, regist...      c1   \n",
       "4           4   Prezada,   Segue anexa a resposta da área com...      c1   \n",
       "\n",
       "   Class                                             tokens  \\\n",
       "0      0  ['prezada', 'senhora', 'informase', 'que', 'o'...   \n",
       "1      0  ['prezada', 'os', 'dados', 'se', 'referem', 's...   \n",
       "2      0  ['prezado', 'usuário', 'inicialmente', 'agrade...   \n",
       "3      0  ['prezada', 'referimonos', 'a', 'sua', 'demand...   \n",
       "4      0  ['prezada', 'segue', 'anexa', 'a', 'resposta',...   \n",
       "\n",
       "                                               lemma  \\\n",
       "0  prezar senhor informase que o dnit ser um auta...   \n",
       "1  prezar o dar se referir somente a o nascido vi...   \n",
       "2  prezar usuário inicialmente agradecer o seu co...   \n",
       "3  prezar referimono o seu demanda registrar em o...   \n",
       "4  prezar seguir anexo o resposta de o área compe...   \n",
       "\n",
       "                                              ngram2  \\\n",
       "0  [('prezar', 'senhor'), ('senhor', 'informase')...   \n",
       "1  [('prezar', 'o'), ('o', 'dar'), ('dar', 'se'),...   \n",
       "2  [('prezar', 'usuário'), ('usuário', 'inicialme...   \n",
       "3  [('prezar', 'referimono'), ('referimono', 'o')...   \n",
       "4  [('prezar', 'seguir'), ('seguir', 'anexo'), ('...   \n",
       "\n",
       "                                              ngram3  \n",
       "0  [('prezar', 'senhor', 'informase'), ('senhor',...  \n",
       "1  [('prezar', 'o', 'dar'), ('o', 'dar', 'se'), (...  \n",
       "2  [('prezar', 'usuário', 'inicialmente'), ('usuá...  \n",
       "3  [('prezar', 'referimono', 'o'), ('referimono',...  \n",
       "4  [('prezar', 'seguir', 'anexo'), ('seguir', 'an...  "
      ]
     },
     "execution_count": 2,
     "metadata": {},
     "output_type": "execute_result"
    }
   ],
   "source": [
    "df = pd.read_csv('./datasets/DfCleaned.csv')\n",
    "df.head()"
   ]
  },
  {
   "cell_type": "code",
   "execution_count": 3,
   "metadata": {},
   "outputs": [],
   "source": [
    "import os\n",
    "os.environ['TF_CPP_MIN_LOG_LEVEL'] = '2'"
   ]
  },
  {
   "cell_type": "code",
   "execution_count": 4,
   "metadata": {},
   "outputs": [
    {
     "name": "stderr",
     "output_type": "stream",
     "text": [
      "2023-11-10 21:30:29.124963: E tensorflow/compiler/xla/stream_executor/cuda/cuda_dnn.cc:9342] Unable to register cuDNN factory: Attempting to register factory for plugin cuDNN when one has already been registered\n",
      "2023-11-10 21:30:29.125016: E tensorflow/compiler/xla/stream_executor/cuda/cuda_fft.cc:609] Unable to register cuFFT factory: Attempting to register factory for plugin cuFFT when one has already been registered\n",
      "2023-11-10 21:30:29.125065: E tensorflow/compiler/xla/stream_executor/cuda/cuda_blas.cc:1518] Unable to register cuBLAS factory: Attempting to register factory for plugin cuBLAS when one has already been registered\n",
      "WARNING:root:Limited tf.compat.v2.summary API due to missing TensorBoard installation.\n",
      "WARNING:root:Limited tf.compat.v2.summary API due to missing TensorBoard installation.\n",
      "WARNING:root:Limited tf.compat.v2.summary API due to missing TensorBoard installation.\n",
      "WARNING:root:Limited tf.summary API due to missing TensorBoard installation.\n",
      "WARNING:root:Limited tf.compat.v2.summary API due to missing TensorBoard installation.\n",
      "WARNING:root:Limited tf.compat.v2.summary API due to missing TensorBoard installation.\n",
      "WARNING:root:Limited tf.compat.v2.summary API due to missing TensorBoard installation.\n"
     ]
    }
   ],
   "source": [
    "import tensorflow as tf\n",
    "from tensorflow import keras\n",
    "from tensorflow.keras import Sequential\n",
    "from tensorflow.keras import layers\n",
    "from tensorflow.keras.layers import TextVectorization"
   ]
  },
  {
   "cell_type": "code",
   "execution_count": 5,
   "metadata": {},
   "outputs": [],
   "source": [
    "import tensorflow_hub as hub\n",
    "import tensorflow_text as text"
   ]
  },
  {
   "cell_type": "code",
   "execution_count": 6,
   "metadata": {},
   "outputs": [],
   "source": [
    "bert_preprocess = hub.KerasLayer(\"https://tfhub.dev/tensorflow/bert_en_uncased_preprocess/3\")\n",
    "bert_encoder = hub.KerasLayer(\"https://tfhub.dev/google/universal-sentence-encoder-multilingual/3\")"
   ]
  },
  {
   "cell_type": "code",
   "execution_count": 7,
   "metadata": {},
   "outputs": [],
   "source": [
    "def get_sentence_embeding(sentences):\n",
    "    preprocessed_text = bert_preprocess(sentences)\n",
    "    return bert_encoder(preprocessed_text)['pooled_output']"
   ]
  },
  {
   "cell_type": "markdown",
   "metadata": {},
   "source": [
    "### Bert-Evaluate"
   ]
  },
  {
   "cell_type": "code",
   "execution_count": 8,
   "metadata": {},
   "outputs": [],
   "source": [
    "x_train = df['tokens']\n",
    "y_train = df['Class']"
   ]
  },
  {
   "cell_type": "code",
   "execution_count": 9,
   "metadata": {},
   "outputs": [],
   "source": [
    "# x_train = np.array(df['pos']).reshape(-1,1)\n",
    "# x_train"
   ]
  },
  {
   "cell_type": "code",
   "execution_count": 10,
   "metadata": {},
   "outputs": [],
   "source": [
    "from sklearn.model_selection import KFold"
   ]
  },
  {
   "cell_type": "code",
   "execution_count": 11,
   "metadata": {},
   "outputs": [],
   "source": [
    "num_folds = 10\n",
    "kfold = KFold(n_splits=num_folds, shuffle=True)"
   ]
  },
  {
   "cell_type": "code",
   "execution_count": 12,
   "metadata": {},
   "outputs": [
    {
     "ename": "TypeError",
     "evalue": "Exception encountered when calling layer \"keras_layer_1\" (type KerasLayer).\n\nin user code:\n\n    File \"/home/chocomenta/anaconda3/lib/python3.11/site-packages/tensorflow_hub/keras_layer.py\", line 234, in call  *\n        result = f()\n\n    TypeError: Binding inputs to tf.function failed due to `Expected string, but got Tensor(\"Placeholder:0\", shape=(None, 128), dtype=int32) of type 'SymbolicTensor'.`. Received args: ({'input_type_ids': <tf.Tensor 'Placeholder_1:0' shape=(None, 128) dtype=int32>, 'input_mask': <tf.Tensor 'Placeholder:0' shape=(None, 128) dtype=int32>, 'input_word_ids': <tf.Tensor 'Placeholder_2:0' shape=(None, 128) dtype=int32>},) and kwargs: {} for signature: (inputs: TensorSpec(shape=<unknown>, dtype=tf.string, name=None)).\n\n\nCall arguments received by layer \"keras_layer_1\" (type KerasLayer):\n  • inputs={'input_type_ids': 'tf.Tensor(shape=(None, 128), dtype=int32)', 'input_mask': 'tf.Tensor(shape=(None, 128), dtype=int32)', 'input_word_ids': 'tf.Tensor(shape=(None, 128), dtype=int32)'}\n  • training=None",
     "output_type": "error",
     "traceback": [
      "\u001b[0;31m---------------------------------------------------------------------------\u001b[0m",
      "\u001b[0;31mTypeError\u001b[0m                                 Traceback (most recent call last)",
      "\u001b[1;32m/home/chocomenta/Desktop/git/BERT.ipynb Cell 13\u001b[0m line \u001b[0;36m1\n\u001b[1;32m      <a href='vscode-notebook-cell:/home/chocomenta/Desktop/git/BERT.ipynb#X24sZmlsZQ%3D%3D?line=7'>8</a>\u001b[0m text_input \u001b[39m=\u001b[39m tf\u001b[39m.\u001b[39mkeras\u001b[39m.\u001b[39mlayers\u001b[39m.\u001b[39mInput(shape\u001b[39m=\u001b[39m(), dtype\u001b[39m=\u001b[39mtf\u001b[39m.\u001b[39mstring, name\u001b[39m=\u001b[39m\u001b[39m'\u001b[39m\u001b[39mtext\u001b[39m\u001b[39m'\u001b[39m)\n\u001b[1;32m      <a href='vscode-notebook-cell:/home/chocomenta/Desktop/git/BERT.ipynb#X24sZmlsZQ%3D%3D?line=8'>9</a>\u001b[0m preprocessed_text \u001b[39m=\u001b[39m bert_preprocess(text_input)\n\u001b[0;32m---> <a href='vscode-notebook-cell:/home/chocomenta/Desktop/git/BERT.ipynb#X24sZmlsZQ%3D%3D?line=9'>10</a>\u001b[0m outputs \u001b[39m=\u001b[39m bert_encoder(preprocessed_text)\n\u001b[1;32m     <a href='vscode-notebook-cell:/home/chocomenta/Desktop/git/BERT.ipynb#X24sZmlsZQ%3D%3D?line=11'>12</a>\u001b[0m l \u001b[39m=\u001b[39m tf\u001b[39m.\u001b[39mkeras\u001b[39m.\u001b[39mlayers\u001b[39m.\u001b[39mDropout(\u001b[39m0.1\u001b[39m, name\u001b[39m=\u001b[39m\u001b[39m\"\u001b[39m\u001b[39mdropout\u001b[39m\u001b[39m\"\u001b[39m)(outputs[\u001b[39m'\u001b[39m\u001b[39mpooled_output\u001b[39m\u001b[39m'\u001b[39m])\n\u001b[1;32m     <a href='vscode-notebook-cell:/home/chocomenta/Desktop/git/BERT.ipynb#X24sZmlsZQ%3D%3D?line=12'>13</a>\u001b[0m l \u001b[39m=\u001b[39m tf\u001b[39m.\u001b[39mkeras\u001b[39m.\u001b[39mlayers\u001b[39m.\u001b[39mDense(\u001b[39m32\u001b[39m, activation\u001b[39m=\u001b[39m\u001b[39m'\u001b[39m\u001b[39mrelu\u001b[39m\u001b[39m'\u001b[39m, name\u001b[39m=\u001b[39m\u001b[39m\"\u001b[39m\u001b[39mfirst\u001b[39m\u001b[39m\"\u001b[39m)(l)\n",
      "File \u001b[0;32m~/anaconda3/lib/python3.11/site-packages/keras/src/utils/traceback_utils.py:70\u001b[0m, in \u001b[0;36mfilter_traceback.<locals>.error_handler\u001b[0;34m(*args, **kwargs)\u001b[0m\n\u001b[1;32m     67\u001b[0m     filtered_tb \u001b[39m=\u001b[39m _process_traceback_frames(e\u001b[39m.\u001b[39m__traceback__)\n\u001b[1;32m     68\u001b[0m     \u001b[39m# To get the full stack trace, call:\u001b[39;00m\n\u001b[1;32m     69\u001b[0m     \u001b[39m# `tf.debugging.disable_traceback_filtering()`\u001b[39;00m\n\u001b[0;32m---> 70\u001b[0m     \u001b[39mraise\u001b[39;00m e\u001b[39m.\u001b[39mwith_traceback(filtered_tb) \u001b[39mfrom\u001b[39;00m \u001b[39mNone\u001b[39;00m\n\u001b[1;32m     71\u001b[0m \u001b[39mfinally\u001b[39;00m:\n\u001b[1;32m     72\u001b[0m     \u001b[39mdel\u001b[39;00m filtered_tb\n",
      "File \u001b[0;32m/tmp/__autograph_generated_fileyv1g6qjk.py:74\u001b[0m, in \u001b[0;36mouter_factory.<locals>.inner_factory.<locals>.tf__call\u001b[0;34m(self, inputs, training)\u001b[0m\n\u001b[1;32m     72\u001b[0m     result \u001b[39m=\u001b[39m ag__\u001b[39m.\u001b[39mconverted_call(ag__\u001b[39m.\u001b[39mld(smart_cond)\u001b[39m.\u001b[39msmart_cond, (ag__\u001b[39m.\u001b[39mld(training), ag__\u001b[39m.\u001b[39mautograph_artifact(\u001b[39mlambda\u001b[39;00m: ag__\u001b[39m.\u001b[39mconverted_call(ag__\u001b[39m.\u001b[39mld(f), (), \u001b[39mdict\u001b[39m(training\u001b[39m=\u001b[39m\u001b[39mTrue\u001b[39;00m), fscope)), ag__\u001b[39m.\u001b[39mautograph_artifact(\u001b[39mlambda\u001b[39;00m: ag__\u001b[39m.\u001b[39mconverted_call(ag__\u001b[39m.\u001b[39mld(f), (), \u001b[39mdict\u001b[39m(training\u001b[39m=\u001b[39m\u001b[39mFalse\u001b[39;00m), fscope))), \u001b[39mNone\u001b[39;00m, fscope)\n\u001b[1;32m     73\u001b[0m result \u001b[39m=\u001b[39m ag__\u001b[39m.\u001b[39mUndefined(\u001b[39m'\u001b[39m\u001b[39mresult\u001b[39m\u001b[39m'\u001b[39m)\n\u001b[0;32m---> 74\u001b[0m ag__\u001b[39m.\u001b[39mif_stmt(ag__\u001b[39m.\u001b[39mnot_(ag__\u001b[39m.\u001b[39mld(\u001b[39mself\u001b[39m)\u001b[39m.\u001b[39m_has_training_argument), if_body_3, else_body_3, get_state_3, set_state_3, (\u001b[39m'\u001b[39m\u001b[39mresult\u001b[39m\u001b[39m'\u001b[39m, \u001b[39m'\u001b[39m\u001b[39mtraining\u001b[39m\u001b[39m'\u001b[39m), \u001b[39m1\u001b[39m)\n\u001b[1;32m     76\u001b[0m \u001b[39mdef\u001b[39;00m \u001b[39mget_state_6\u001b[39m():\n\u001b[1;32m     77\u001b[0m     \u001b[39mreturn\u001b[39;00m (result,)\n",
      "File \u001b[0;32m/tmp/__autograph_generated_fileyv1g6qjk.py:37\u001b[0m, in \u001b[0;36mouter_factory.<locals>.inner_factory.<locals>.tf__call.<locals>.if_body_3\u001b[0;34m()\u001b[0m\n\u001b[1;32m     35\u001b[0m \u001b[39mdef\u001b[39;00m \u001b[39mif_body_3\u001b[39m():\n\u001b[1;32m     36\u001b[0m     \u001b[39mnonlocal\u001b[39;00m training, result\n\u001b[0;32m---> 37\u001b[0m     result \u001b[39m=\u001b[39m ag__\u001b[39m.\u001b[39mconverted_call(ag__\u001b[39m.\u001b[39mld(f), (), \u001b[39mNone\u001b[39;00m, fscope)\n",
      "\u001b[0;31mTypeError\u001b[0m: Exception encountered when calling layer \"keras_layer_1\" (type KerasLayer).\n\nin user code:\n\n    File \"/home/chocomenta/anaconda3/lib/python3.11/site-packages/tensorflow_hub/keras_layer.py\", line 234, in call  *\n        result = f()\n\n    TypeError: Binding inputs to tf.function failed due to `Expected string, but got Tensor(\"Placeholder:0\", shape=(None, 128), dtype=int32) of type 'SymbolicTensor'.`. Received args: ({'input_type_ids': <tf.Tensor 'Placeholder_1:0' shape=(None, 128) dtype=int32>, 'input_mask': <tf.Tensor 'Placeholder:0' shape=(None, 128) dtype=int32>, 'input_word_ids': <tf.Tensor 'Placeholder_2:0' shape=(None, 128) dtype=int32>},) and kwargs: {} for signature: (inputs: TensorSpec(shape=<unknown>, dtype=tf.string, name=None)).\n\n\nCall arguments received by layer \"keras_layer_1\" (type KerasLayer):\n  • inputs={'input_type_ids': 'tf.Tensor(shape=(None, 128), dtype=int32)', 'input_mask': 'tf.Tensor(shape=(None, 128), dtype=int32)', 'input_word_ids': 'tf.Tensor(shape=(None, 128), dtype=int32)'}\n  • training=None"
     ]
    }
   ],
   "source": [
    "\n",
    "results = []\n",
    "\n",
    "# Iterate over the folds\n",
    "for train_index, test_index in kfold.split(x_train):\n",
    "    x_train_fold, x_val_fold = x_train[train_index], x_train[test_index]\n",
    "    y_train_fold, y_val_fold = y_train[train_index], y_train[test_index]\n",
    "\n",
    "    text_input = tf.keras.layers.Input(shape=(), dtype=tf.string, name='text')\n",
    "    preprocessed_text = bert_preprocess(text_input)\n",
    "    outputs = bert_encoder(preprocessed_text)\n",
    "\n",
    "    l = tf.keras.layers.Dropout(0.1, name=\"dropout\")(outputs['pooled_output'])\n",
    "    l = tf.keras.layers.Dense(32, activation='relu', name=\"first\")(l)\n",
    "    l = tf.keras.layers.Dense(64, activation='relu', name=\"second\")(l)\n",
    "    l = tf.keras.layers.Dense(3, activation='softmax', name=\"output\")(l)\n",
    "\n",
    "    model = tf.keras.Model(inputs=[text_input], outputs=[l])\n",
    "    model.compile(optimizer='adam', loss='sparse_categorical_crossentropy', metrics=['accuracy'])\n",
    "\n",
    "    # Train the model on the current fold\n",
    "    model.fit(x_train_fold, y_train_fold, epochs=5)  # Adjust the number of epochs as needed\n",
    "\n",
    "    # Evaluate the model on the validation data for this fold\n",
    "    _, accuracy = model.evaluate(x_val_fold, y_val_fold)\n",
    "    print(f\"result -> {accuracy}\")\n",
    "    results.append(accuracy)\n"
   ]
  },
  {
   "cell_type": "code",
   "execution_count": null,
   "metadata": {},
   "outputs": [],
   "source": [
    "\n",
    "def modelBERT():\n",
    "\n",
    "    text_input = tf.keras.layers.Input(shape=(), dtype=tf.string, name='text')\n",
    "    preprocessed_text = bert_preprocess(text_input)\n",
    "    outputs = bert_encoder(preprocessed_text)\n",
    "\n",
    "    l = tf.keras.layers.Dropout(0.1, name=\"dropout\")(outputs['pooled_output'])\n",
    "    l = tf.keras.layers.Dense(32, activation='relu', name=\"first\")(l)\n",
    "    l = tf.keras.layers.Dense(64, activation='relu', name=\"second\")(l)\n",
    "    l = tf.keras.layers.Dense(3, activation='softmax', name=\"output\")(l)\n",
    "\n",
    "    model = tf.keras.Model(inputs=[text_input], outputs=[l])\n",
    "\n",
    "    model.compile(optimizer='adam', loss='sparse_categorical_crossentropy', metrics=['accuracy'])\n",
    "\n",
    "    return model"
   ]
  },
  {
   "cell_type": "code",
   "execution_count": null,
   "metadata": {},
   "outputs": [],
   "source": [
    "\n",
    "# Calculate the mean of the results\n",
    "mean_accuracy = np.mean(results)\n",
    "print(\"Mean cross-validated accuracy:\", mean_accuracy)"
   ]
  },
  {
   "cell_type": "code",
   "execution_count": null,
   "metadata": {},
   "outputs": [],
   "source": [
    "from scikeras.wrappers import KerasClassifier"
   ]
  },
  {
   "cell_type": "code",
   "execution_count": null,
   "metadata": {},
   "outputs": [],
   "source": [
    "clf = KerasClassifier(build_fn=modelBERT, epochs=2, batch_size=32, verbose=1)"
   ]
  },
  {
   "cell_type": "code",
   "execution_count": null,
   "metadata": {},
   "outputs": [],
   "source": [
    "from sklearn.model_selection import cross_val_score"
   ]
  },
  {
   "cell_type": "code",
   "execution_count": null,
   "metadata": {},
   "outputs": [],
   "source": [
    "result = cross_val_score(clf, x_train, y_train, scoring='accuracy', cv=3)\n",
    "result"
   ]
  },
  {
   "cell_type": "markdown",
   "metadata": {},
   "source": [
    "### test"
   ]
  }
 ],
 "metadata": {
  "kernelspec": {
   "display_name": "base",
   "language": "python",
   "name": "python3"
  },
  "language_info": {
   "codemirror_mode": {
    "name": "ipython",
    "version": 3
   },
   "file_extension": ".py",
   "mimetype": "text/x-python",
   "name": "python",
   "nbconvert_exporter": "python",
   "pygments_lexer": "ipython3",
   "version": "3.11.5"
  }
 },
 "nbformat": 4,
 "nbformat_minor": 2
}
